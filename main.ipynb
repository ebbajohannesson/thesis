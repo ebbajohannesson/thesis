{
 "cells": [
  {
   "cell_type": "markdown",
   "metadata": {},
   "source": [
    "## Retrieval"
   ]
  },
  {
   "cell_type": "code",
   "execution_count": 1,
   "metadata": {},
   "outputs": [
    {
     "name": "stderr",
     "output_type": "stream",
     "text": [
      "Override attn_implementation='sdpa' to 'eager' as use_memory_efficient_attention='true'\n"
     ]
    },
    {
     "name": "stdout",
     "output_type": "stream",
     "text": [
      "True\n",
      "cuda:0\n"
     ]
    }
   ],
   "source": [
    "import pandas as pd\n",
    "import torch\n",
    "import numpy as np\n",
    "from datasets import Dataset\n",
    "\n",
    "from sentence_transformers import SentenceTransformer\n",
    "model = SentenceTransformer(\"Snowflake/snowflake-arctic-embed-m-v2.0\", trust_remote_code=True)\n",
    "device = torch.device(\"cuda\")\n",
    "model.to(device)\n",
    "\n",
    "print(torch.cuda.is_available())\n",
    "print(next(model.parameters()).device)"
   ]
  },
  {
   "cell_type": "code",
   "execution_count": 2,
   "metadata": {},
   "outputs": [
    {
     "data": {
      "text/plain": [
       "'\\ndf_examples = pd.read_parquet(\\'shopping_queries_dataset/shopping_queries_dataset_examples.parquet\\')\\ndf_products = pd.read_parquet(\\'shopping_queries_dataset/shopping_queries_dataset_products.parquet\\')\\n#df_sources = pd.read_csv(\"shopping_queries_dataset/shopping_queries_dataset_sources.csv\")\\n\\nproducts = Dataset.from_pandas(df_products)\\nexamples = Dataset.from_pandas(df_examples)\\n\\nSMALL = False\\nproducts_ds = products.filter(lambda example: example[\\'product_locale\\'] == \"us\")\\n\\nexamples_ds = examples.filter(lambda example: example[\\'small_version\\'] == 1) #det här händer ju inte ens\\nexamples_ds = examples.filter(lambda example: example[\\'product_locale\\'] == \"us\")\\n\\nif SMALL == True:\\n    train_split, products_ds = products_ds.train_test_split(test_size=0.01, seed=42).values()\\n\\nfrom html.parser import HTMLParser\\n\\nclass HTMLStripper(HTMLParser):\\n    def __init__(self):\\n        super().__init__()\\n        self.text = []\\n\\n    def handle_data(self, data):\\n        self.text.append(data)\\n\\n    def get_text(self):\\n        return \" \".join(self.text).strip()\\n\\ndef strip_html(text):\\n    if text is None:\\n        return \"\"\\n    stripper = HTMLStripper()\\n    stripper.feed(text)\\n    return stripper.get_text()\\n\\ndef concatenate_fields(example):\\n    fields = [example[\"product_title\"], example[\"product_color\"], example[\"product_brand\"], example[\"product_description\"]]\\n    filtered_fields = [strip_html(f) for f in fields if f]  # Remove HTML and None values\\n    example[\"combined_text\"] = \" \".join(filtered_fields).strip()\\n    return example\\n\\nproducts_ds = products_ds.map(concatenate_fields)\\n\\ncols_to_remove = products_ds.column_names\\ncols_to_remove.remove(\"product_id\")\\ncols_to_remove.remove(\"combined_text\")\\ncorpus_ds = products_ds.remove_columns(cols_to_remove)\\n\\nexamples_ds = examples_ds.remove_columns(\"small_version\")\\nexamples_ds = examples_ds.remove_columns(\"large_version\")\\nexamples_ds = examples_ds.remove_columns(\"__index_level_0__\")\\n\\nexamples_rel = examples_ds.filter(lambda example: example[\\'esci_label\\'] == \"E\")\\nexamples_rel = examples_rel.remove_columns(\"esci_label\")\\nexamples_rel = examples_rel.remove_columns(\"example_id\")\\nexamples_rel= examples_rel.remove_columns(\"product_locale\")\\nqrel_ds = examples_rel.remove_columns(\"query\")\\n\\nquery_ds = examples_rel.remove_columns(\"product_id\")\\n\\nseen = set()\\nquery_ds = query_ds.filter(lambda example: example[\"query_id\"] not in seen and not seen.add(example[\"query_id\"]))\\n\\ncorpus_product_ids = set(products_ds[\\'product_id\\'])\\n\\n# REMOVE QUERIES WITH NO PRODUCTS\\nqrel_ds = qrel_ds.filter(lambda example: example[\\'product_id\\'] in corpus_product_ids)\\nvalid_query_ids = set(qrel_ds[\\'query_id\\'])\\nquery_ds = query_ds.filter(lambda example: example[\\'query_id\\'] in valid_query_ids)\\n\\n# SPLITS\\nqrel_train = qrel_ds.filter(lambda example: example[\\'split\\'] == \"train\")\\nquery_train = query_ds.filter(lambda example: example[\\'split\\'] == \"train\")\\n\\nqrel_test = qrel_ds.filter(lambda example: example[\\'split\\'] == \"test\")\\nquery_test = query_ds.filter(lambda example: example[\\'split\\'] == \"test\")\\n\\nqrel_train.save_to_disk(\"qrel_train\")\\nquery_train.save_to_disk(\"query_train\")\\nqrel_test.save_to_disk(\"qrel_test\")\\nquery_test.save_to_disk(\"query_test\")\\ncorpus_ds.save_to_disk(\"corpus_ds\") \\n'"
      ]
     },
     "execution_count": 2,
     "metadata": {},
     "output_type": "execute_result"
    }
   ],
   "source": [
    "\"\"\"\n",
    "df_examples = pd.read_parquet('shopping_queries_dataset/shopping_queries_dataset_examples.parquet')\n",
    "df_products = pd.read_parquet('shopping_queries_dataset/shopping_queries_dataset_products.parquet')\n",
    "#df_sources = pd.read_csv(\"shopping_queries_dataset/shopping_queries_dataset_sources.csv\")\n",
    "\n",
    "products = Dataset.from_pandas(df_products)\n",
    "examples = Dataset.from_pandas(df_examples)\n",
    "\n",
    "SMALL = False\n",
    "products_ds = products.filter(lambda example: example['product_locale'] == \"us\")\n",
    "\n",
    "examples_ds = examples.filter(lambda example: example['small_version'] == 1) #det här händer ju inte ens\n",
    "examples_ds = examples.filter(lambda example: example['product_locale'] == \"us\")\n",
    "\n",
    "if SMALL == True:\n",
    "    train_split, products_ds = products_ds.train_test_split(test_size=0.01, seed=42).values()\n",
    "\n",
    "from html.parser import HTMLParser\n",
    "\n",
    "class HTMLStripper(HTMLParser):\n",
    "    def __init__(self):\n",
    "        super().__init__()\n",
    "        self.text = []\n",
    "\n",
    "    def handle_data(self, data):\n",
    "        self.text.append(data)\n",
    "\n",
    "    def get_text(self):\n",
    "        return \" \".join(self.text).strip()\n",
    "\n",
    "def strip_html(text):\n",
    "    if text is None:\n",
    "        return \"\"\n",
    "    stripper = HTMLStripper()\n",
    "    stripper.feed(text)\n",
    "    return stripper.get_text()\n",
    "\n",
    "def concatenate_fields(example):\n",
    "    fields = [example[\"product_title\"], example[\"product_color\"], example[\"product_brand\"], example[\"product_description\"]]\n",
    "    filtered_fields = [strip_html(f) for f in fields if f]  # Remove HTML and None values\n",
    "    example[\"combined_text\"] = \" \".join(filtered_fields).strip()\n",
    "    return example\n",
    "\n",
    "products_ds = products_ds.map(concatenate_fields)\n",
    "\n",
    "cols_to_remove = products_ds.column_names\n",
    "cols_to_remove.remove(\"product_id\")\n",
    "cols_to_remove.remove(\"combined_text\")\n",
    "corpus_ds = products_ds.remove_columns(cols_to_remove)\n",
    "\n",
    "examples_ds = examples_ds.remove_columns(\"small_version\")\n",
    "examples_ds = examples_ds.remove_columns(\"large_version\")\n",
    "examples_ds = examples_ds.remove_columns(\"__index_level_0__\")\n",
    "\n",
    "examples_rel = examples_ds.filter(lambda example: example['esci_label'] == \"E\")\n",
    "examples_rel = examples_rel.remove_columns(\"esci_label\")\n",
    "examples_rel = examples_rel.remove_columns(\"example_id\")\n",
    "examples_rel= examples_rel.remove_columns(\"product_locale\")\n",
    "qrel_ds = examples_rel.remove_columns(\"query\")\n",
    "\n",
    "query_ds = examples_rel.remove_columns(\"product_id\")\n",
    "\n",
    "seen = set()\n",
    "query_ds = query_ds.filter(lambda example: example[\"query_id\"] not in seen and not seen.add(example[\"query_id\"]))\n",
    "\n",
    "corpus_product_ids = set(products_ds['product_id'])\n",
    "\n",
    "# REMOVE QUERIES WITH NO PRODUCTS\n",
    "qrel_ds = qrel_ds.filter(lambda example: example['product_id'] in corpus_product_ids)\n",
    "valid_query_ids = set(qrel_ds['query_id'])\n",
    "query_ds = query_ds.filter(lambda example: example['query_id'] in valid_query_ids)\n",
    "\n",
    "# SPLITS\n",
    "qrel_train = qrel_ds.filter(lambda example: example['split'] == \"train\")\n",
    "query_train = query_ds.filter(lambda example: example['split'] == \"train\")\n",
    "\n",
    "qrel_test = qrel_ds.filter(lambda example: example['split'] == \"test\")\n",
    "query_test = query_ds.filter(lambda example: example['split'] == \"test\")\n",
    "\n",
    "qrel_train.save_to_disk(\"qrel_train\")\n",
    "query_train.save_to_disk(\"query_train\")\n",
    "qrel_test.save_to_disk(\"qrel_test\")\n",
    "query_test.save_to_disk(\"query_test\")\n",
    "corpus_ds.save_to_disk(\"corpus_ds\") \n",
    "\"\"\""
   ]
  },
  {
   "cell_type": "code",
   "execution_count": 1,
   "metadata": {},
   "outputs": [],
   "source": [
    "\n",
    "from datasets import Dataset\n",
    "from datasets import load_from_disk\n",
    "\n",
    "qrel_train = load_from_disk(\"qrel_train\")\n",
    "query_train = load_from_disk(\"query_train\")\n",
    "qrel_test = load_from_disk(\"qrel_test\")\n",
    "query_test = load_from_disk(\"query_test\")\n",
    "corpus_ds = load_from_disk(\"corpus_ds\")"
   ]
  },
  {
   "cell_type": "code",
   "execution_count": null,
   "metadata": {},
   "outputs": [],
   "source": [
    "\"\"\"\n",
    "query_embeddings = model.encode(query_test[\"query\"], prompt_name=\"query\", show_progress_bar=True)\n",
    "query_embeds = np.array(query_embeddings)\n",
    "np.save(\"query_test_embeds.npy\", query_embeds)\n",
    "\n",
    "query_embeddings_2 = model.encode(query_train[\"query\"], prompt_name=\"query\", show_progress_bar=True)\n",
    "query_embeds_2 = np.array(query_embeddings_2)\n",
    "np.save(\"query_train_embeds.npy\", query_embeds_2)\n",
    "\n",
    "document_embeddings = model.encode(corpus_ds[\"combined_text\"], show_progress_bar=True)\n",
    "doc_embeds = np.array(document_embeddings)\n",
    "np.save('doc_embeds.npy', doc_embeds)\"\"\"\n",
    "\n",
    "\"\"\"\n",
    "query_embeddings_test = np.load('embeddings/query_test_embeds.npy')\n",
    "query_embeddings_train = np.load(\"embeddings/query_train_embeds.npy\")\n",
    "document_embeddings = np.load('embeddings/doc_embeds.npy')\n",
    "\"\"\"\n"
   ]
  },
  {
   "cell_type": "code",
   "execution_count": null,
   "metadata": {},
   "outputs": [],
   "source": [
    "\"\"\"\n",
    "import faiss # Create FAISS index (L2 normalized embeddings needed for dot product / cosine similarity)\n",
    "\n",
    "dimension = query_embeddings_train.shape[1]\n",
    "index = faiss.IndexFlatIP(dimension)  # Inner product (equivalent to cosine similarity if normalized)\n",
    "faiss.normalize_L2(document_embeddings)\n",
    "index.add(document_embeddings)  # Add documents to index# Normalize queries (if using cosine similarity)\n",
    "faiss.normalize_L2(query_embeddings_train)# Perform search (retrieve top k similar docs per query)\n",
    "\n",
    "k = 100  # Adjust as needed\n",
    "scores, I = index.search(-1*query_embeddings_train, k)  # D = scores, I = indices of top-k docs\n",
    "\"\"\""
   ]
  },
  {
   "cell_type": "code",
   "execution_count": null,
   "metadata": {},
   "outputs": [],
   "source": [
    "\"\"\"\n",
    "I_train = np.load(\"faiss/faiss_index_train.npy\")\n",
    "scores_train = np.load(\"faiss/faiss_scores_train.npy\")\n",
    "neg_I_train = np.load(\"faiss/faiss_index_neg_train.npy\")\n",
    "neg_scores_train = np.load(\"faiss/faiss_scores_neg_train.npy\")\n",
    "\n",
    "I_test = np.load(\"faiss/faiss_index_test.npy\")\n",
    "scores_test = np.load(\"faiss/faiss_scores_test.npy\")\n",
    "neg_I_test = np.load(\"faiss/faiss_index_neg_test.npy\")\n",
    "neg_scores_test = np.load(\"faiss/faiss_scores_neg_test.npy\")\n",
    "\"\"\""
   ]
  },
  {
   "cell_type": "code",
   "execution_count": null,
   "metadata": {},
   "outputs": [],
   "source": [
    "\n",
    "import torch\n",
    "import numpy as np\n",
    "import pandas as pd\n",
    "from datasets import Dataset\n",
    "\n",
    "query_ids = query_train[\"query_id\"]  # List of all query IDs\n",
    "product_ids = corpus_ds[\"product_id\"]  # List of all product IDs\n",
    "query_ids = np.array(query_ids)\n",
    "product_ids = np.array(product_ids)\n",
    "k=100\n",
    "scores_flat_train = scores_train.flatten()  # Convert the tensor to a flattened NumPy array\n",
    "neg_scores_flat_train = neg_scores_train.flatten()\n",
    "query_ids_flat = np.repeat(query_ids, k)\n",
    "product_ids_flat = []\n",
    "for ind in I_train.flatten():\n",
    "    product_id = product_ids[ind]\n",
    "    product_ids_flat.append(product_id)\n",
    "flattened_scores_train = pd.DataFrame({\n",
    "    \"query_id\": query_ids_flat,\n",
    "    \"product_id\": product_ids_flat,\n",
    "    \"score\": scores_flat_train\n",
    "})\n",
    "neg_product_ids_flat = []\n",
    "for ind in neg_I_train.flatten():\n",
    "    product_id = product_ids[ind]\n",
    "    neg_product_ids_flat.append(product_id)\n",
    "neg_flattened_scores_train = pd.DataFrame({\n",
    "    \"query_id\": query_ids_flat,\n",
    "    \"product_id\": neg_product_ids_flat,\n",
    "    \"score\": neg_scores_flat_train\n",
    "})\n",
    "\n",
    "scores_ds_train = Dataset.from_pandas(flattened_scores_train)\n",
    "neg_scores_ds_train = Dataset.from_pandas(neg_flattened_scores_train)\n",
    "\n",
    "query_ids = query_test[\"query_id\"]\n",
    "scores_flat_test = scores_test.flatten()  # Convert the tensor to a flattened NumPy array\n",
    "neg_scores_flat_test = neg_scores_test.flatten()\n",
    "query_ids_flat = np.repeat(query_ids, k)\n",
    "product_ids_flat = []\n",
    "for ind in I_test.flatten():\n",
    "    product_id = product_ids[ind]\n",
    "    product_ids_flat.append(product_id)\n",
    "flattened_scores_test = pd.DataFrame({\n",
    "    \"query_id\": query_ids_flat,\n",
    "    \"product_id\": product_ids_flat,\n",
    "    \"score\": scores_flat_test\n",
    "})\n",
    "neg_product_ids_flat = []\n",
    "for ind in neg_I_test.flatten():\n",
    "    product_id = product_ids[ind]\n",
    "    neg_product_ids_flat.append(product_id)\n",
    "neg_flattened_scores_test = pd.DataFrame({\n",
    "    \"query_id\": query_ids_flat,\n",
    "    \"product_id\": neg_product_ids_flat,\n",
    "    \"score\": neg_scores_flat_test\n",
    "})\n",
    "\n",
    "scores_ds_test = Dataset.from_pandas(flattened_scores_test)\n",
    "neg_scores_ds_test = Dataset.from_pandas(neg_flattened_scores_test)\n",
    "\n",
    "corpus_embed_ds = corpus_ds.map(lambda example, idx: {'embed_products': document_embeddings[idx].tolist()}, with_indices=True)\n",
    "query_embed_train = query_train.map(lambda example, idx: {'embed_queries': query_embeddings_train[idx].tolist()}, with_indices=True)\"\n",
    "\"\"\""
   ]
  },
  {
   "cell_type": "code",
   "execution_count": 24,
   "metadata": {},
   "outputs": [],
   "source": [
    "\n",
    "def get_top_k_per_query(scores_ds: Dataset, k: int = 100) -> Dataset:\n",
    "    \"\"\"\n",
    "    Filters the top k documents for each query based on their scores.\n",
    "\n",
    "    Args:\n",
    "        scores_ds (Dataset): A Hugging Face Dataset with columns 'query_id', 'product_id', and 'score'.\n",
    "        k (int): The number of top documents to retain for each query. Default is 100.\n",
    "\n",
    "    Returns:\n",
    "        Dataset: A filtered Hugging Face Dataset containing only the top k documents for each query.\n",
    "    \"\"\"\n",
    "\n",
    "    scores_df = scores_ds.to_pandas()\n",
    "\n",
    "    #Sort by 'query_id' and 'score' (descending order)\n",
    "    scores_df = scores_df.sort_values(by=['query_id', 'score'], ascending=[True, False])\n",
    "\n",
    "    # Group by 'query_id' and retain top k rows for each query\n",
    "    top_k_scores_df = (\n",
    "        scores_df.groupby('query_id')\n",
    "        .head(k)\n",
    "        .reset_index(drop=True)\n",
    "    )\n",
    "\n",
    "    top_k_scores_ds = Dataset.from_pandas(top_k_scores_df)\n",
    "\n",
    "    return top_k_scores_ds\n",
    "\"\"\"\n",
    "top_100_products_train = get_top_k_per_query(scores_ds_train,k=100)\n",
    "bot_100_products_train = get_top_k_per_query(neg_scores_ds_train,k=100)\n",
    "top_100_products_test = get_top_k_per_query(scores_ds_test,k=100)\n",
    "bot_100_products_test = get_top_k_per_query(neg_scores_ds_test,k=100)\n",
    "\"\"\"\n",
    "top_100_products = get_top_k_per_query(scores_ds,k=100)"
   ]
  },
  {
   "cell_type": "code",
   "execution_count": null,
   "metadata": {},
   "outputs": [],
   "source": [
    "def add_labels(top_100_dataset: Dataset, qrel: Dataset):\n",
    "    new_col = []\n",
    "    \n",
    "    # Create a dictionary from qrel for fast lookup (query_id, product_id) => relevance label\n",
    "    qrel_dict = {}\n",
    "    for row in qrel:\n",
    "        qrel_dict[(row['query_id'], row['product_id'])] = 1  # Relevant products are labeled as 1\n",
    "    \n",
    "    # Iterate through the top 100 dataset and add labels\n",
    "    iterat = top_100_dataset.iter(batch_size=1)\n",
    "    for i in iterat:\n",
    "        query_id = i[\"query_id\"][0]\n",
    "        product_id = i[\"product_id\"][0]\n",
    "        \n",
    "        # Check if the (query_id, product_id) exists in qrel_dict\n",
    "        if (query_id, product_id) in qrel_dict:\n",
    "            new_col.append(1)  # Label 1 if relevant\n",
    "        else:\n",
    "            new_col.append(0)  # Label 0 if not relevant\n",
    "\n",
    "    # Add the new label column to the dataset\n",
    "    top_100_dataset = top_100_dataset.add_column(\"label\", new_col)\n",
    "    \n",
    "    return top_100_dataset\n",
    "\n",
    "top_100_labels = add_labels(top_100_products, nano_qrels)"
   ]
  },
  {
   "cell_type": "markdown",
   "metadata": {},
   "source": [
    "## NDCG"
   ]
  },
  {
   "cell_type": "code",
   "execution_count": 24,
   "metadata": {},
   "outputs": [],
   "source": [
    "from datasets import Dataset\n",
    "from sklearn.metrics import ndcg_score\n",
    "import numpy as np\n",
    "\n",
    "def ndcg_at_k(top_100_labels : Dataset, k, top_k):\n",
    "    y_true = []\n",
    "    y_score = []\n",
    "    score_row = []\n",
    "    true_row = []\n",
    "    for i in range(top_100_labels.num_rows):\n",
    "        score_row.append(top_100_labels[i][\"score\"])\n",
    "        true_row.append(top_100_labels[i][\"label\"])\n",
    "        if (i+1) % top_k == 0:\n",
    "            y_true.append(true_row)\n",
    "            y_score.append(score_row)\n",
    "            score_row = []\n",
    "            true_row = []\n",
    "\n",
    "    y_score = np.array(y_score)\n",
    "    y_true = np.array(y_true)\n",
    "    return ndcg_score(y_true, y_score, k=k)  # Compute NDCG@10\n",
    "\n",
    "#ndcg_score = ndcg_at_k(top_100_labels,k=10,top_k=100)\n",
    "#print( f\"NDCG@10 {ndcg_score}\")"
   ]
  },
  {
   "cell_type": "markdown",
   "metadata": {},
   "source": [
    "## SVM"
   ]
  },
  {
   "cell_type": "code",
   "execution_count": 11,
   "metadata": {},
   "outputs": [
    {
     "ename": "KeyboardInterrupt",
     "evalue": "",
     "output_type": "error",
     "traceback": [
      "\u001b[0;31m---------------------------------------------------------------------------\u001b[0m",
      "\u001b[0;31mKeyboardInterrupt\u001b[0m                         Traceback (most recent call last)",
      "Cell \u001b[0;32mIn[11], line 11\u001b[0m\n\u001b[1;32m      9\u001b[0m product_embeddings_query \u001b[38;5;241m=\u001b[39m []\n\u001b[1;32m     10\u001b[0m \u001b[38;5;28;01mfor\u001b[39;00m product_id \u001b[38;5;129;01min\u001b[39;00m product_ids_query:\n\u001b[0;32m---> 11\u001b[0m     product_embedding \u001b[38;5;241m=\u001b[39m document_embeddings[\u001b[43mcorpus_id\u001b[49m\u001b[38;5;241;43m.\u001b[39;49m\u001b[43mindex\u001b[49m\u001b[43m(\u001b[49m\u001b[43mproduct_id\u001b[49m\u001b[43m)\u001b[49m]\n\u001b[1;32m     12\u001b[0m     product_embeddings_query\u001b[38;5;241m.\u001b[39mappend(product_embedding) \n\u001b[1;32m     13\u001b[0m product_embeddings\u001b[38;5;241m.\u001b[39mappend(product_embeddings_query)\n",
      "\u001b[0;31mKeyboardInterrupt\u001b[0m: "
     ]
    }
   ],
   "source": [
    "top_100_product_ids = top_100_products[\"product_id\"]\n",
    "corpus_id = corpus_ds[\"product_id\"]\n",
    "\n",
    "product_ids = [top_100_product_ids[k*100:(k+1)*100] for k in range(len(query_embeddings_test))] # det finns nåt snyggare för det här\n",
    "\n",
    "# get embeddings for top 100 products for all queries\n",
    "product_embeddings = []\n",
    "for product_ids_query in product_ids:\n",
    "    product_embeddings_query = []\n",
    "    for product_id in product_ids_query:\n",
    "        product_embedding = document_embeddings[corpus_id.index(product_id)]\n",
    "        product_embeddings_query.append(product_embedding) \n",
    "    product_embeddings.append(product_embeddings_query)\n"
   ]
  },
  {
   "cell_type": "code",
   "execution_count": 9,
   "metadata": {},
   "outputs": [],
   "source": [
    "corpus_id = corpus_ds[\"product_id\"]\n",
    "p_id_to_index={p_id: idx for idx,p_id in enumerate(corpus_id)}"
   ]
  },
  {
   "cell_type": "code",
   "execution_count": 11,
   "metadata": {},
   "outputs": [
    {
     "name": "stdout",
     "output_type": "stream",
     "text": [
      "start\n",
      "klar med ids\n"
     ]
    },
    {
     "name": "stderr",
     "output_type": "stream",
     "text": [
      "\n",
      "KeyboardInterrupt\n",
      "\n"
     ]
    }
   ],
   "source": [
    "top_100_product_ids = top_100_products[\"product_id\"]\n",
    "corpus_id = corpus_ds[\"product_id\"]\n",
    "\n",
    "print(\"start\")\n",
    "product_ids = [top_100_product_ids[k*100:(k+1)*100] for k in range(len(query_embeddings_test))] # det finns nåt snyggare för det här\n",
    "print(\"klar med ids\")\n",
    "\n",
    "def embed_from_id(product_ids_query, document_embeddings, corpus_id):\n",
    "    product_embeddings_query = []\n",
    "    for product_id in product_ids_query:\n",
    "        product_embedding = document_embeddings[p_id_to_index(product_id)]\n",
    "        product_embeddings_query.append(product_embedding)\n",
    "    return product_embeddings_query\n",
    "\n",
    "# get embeddings for top 100 products for all queries\n",
    "product_embeddings = np.zeros(len(query_embeddings_test))\n",
    "product_embeddings = product_embeddings.tolist()\n",
    "\n",
    "import concurrent.futures\n",
    "\n",
    "with concurrent.futures.ThreadPoolExecutor(max_workers=12) as executor:\n",
    "    future_embeddings = {executor.submit(embed_from_id, product_ids_query, document_embeddings, corpus_id): (idx,product_ids_query) for idx, product_ids_query in enumerate(product_ids)}\n",
    "    for future in concurrent.futures.as_completed(future_embeddings):\n",
    "        idx, _ = future_embeddings[future] \n",
    "        product_embeddings_query = future.result()\n",
    "        product_embeddings[idx] = product_embeddings_query"
   ]
  },
  {
   "cell_type": "code",
   "execution_count": 10,
   "metadata": {},
   "outputs": [],
   "source": [
    "top_100_product_ids = top_100_products[\"product_id\"]\n",
    "\n",
    "top_100_product_ids = np.array(top_100_products[\"product_id\"])\n",
    "query_count = len(query_embeddings_test) \n",
    "# Efficiently reshape into (query_count, 100) using np.reshape \n",
    "product_ids = top_100_product_ids.reshape(query_count, 100) \n",
    "# Retrieve embeddings efficiently \n",
    "product_embeddings = np.array([ [document_embeddings[p_id_to_index[pid]] for pid in product_ids_query] for product_ids_query in product_ids ])"
   ]
  },
  {
   "cell_type": "code",
   "execution_count": null,
   "metadata": {},
   "outputs": [
    {
     "ename": "NameError",
     "evalue": "name 'bot_1000_products' is not defined",
     "output_type": "error",
     "traceback": [
      "\u001b[0;31m---------------------------------------------------------------------------\u001b[0m",
      "\u001b[0;31mNameError\u001b[0m                                 Traceback (most recent call last)",
      "Cell \u001b[0;32mIn[1], line 1\u001b[0m\n\u001b[0;32m----> 1\u001b[0m bot_1000_product_ids \u001b[38;5;241m=\u001b[39m \u001b[43mbot_1000_products\u001b[49m[\u001b[38;5;124m\"\u001b[39m\u001b[38;5;124mproduct_id\u001b[39m\u001b[38;5;124m\"\u001b[39m]\n\u001b[1;32m      3\u001b[0m bot_1000_product_ids \u001b[38;5;241m=\u001b[39m np\u001b[38;5;241m.\u001b[39marray(bot_1000_products[\u001b[38;5;124m\"\u001b[39m\u001b[38;5;124mproduct_id\u001b[39m\u001b[38;5;124m\"\u001b[39m])\n\u001b[1;32m      4\u001b[0m query_count \u001b[38;5;241m=\u001b[39m \u001b[38;5;28mlen\u001b[39m(query_embeddings_test) \n",
      "\u001b[0;31mNameError\u001b[0m: name 'bot_1000_products' is not defined"
     ]
    }
   ],
   "source": [
    "bot_100_product_ids = bot_100_products[\"product_id\"]\n",
    "\n",
    "bot_100_product_ids = np.array(bot_100_products[\"product_id\"])\n",
    "query_count = len(query_embeddings_test) \n",
    "# Efficiently reshape into (query_count, 100) using np.reshape \n",
    "product_ids = bot_100_product_ids.reshape(query_count, 100) \n",
    "# Retrieve embeddings efficiently \n",
    "neg_product_embeddings = np.array([ [document_embeddings[p_id_to_index[pid]] for pid in product_ids_query] for product_ids_query in product_ids ])"
   ]
  },
  {
   "cell_type": "code",
   "execution_count": 21,
   "metadata": {},
   "outputs": [],
   "source": [
    "np.save(\"bot_100_product_embeddings\", neg_product_embeddings)"
   ]
  },
  {
   "cell_type": "code",
   "execution_count": null,
   "metadata": {},
   "outputs": [],
   "source": [
    "import concurrent.futures\n",
    "from sklearn import svm\n",
    "\n",
    "def rerank(q_emb, p_emb, p_emb_neg, idx, yk):\n",
    "    #börja mäta tid\n",
    "    clf = svm.LinearSVC(class_weight='balanced', verbose=False, max_iter=10000, tol=1e-6, C=1, dual='auto', loss=\"hinge\")\n",
    "    xk_neg = np.concatenate([q_emb[None,...], p_emb_neg])\n",
    "    clf.fit(xk_neg,yk)\n",
    "    xk = np.concatenate([q_emb[None,...], p_emb])\n",
    "    similarity = clf.decision_function(xk)[1:].tolist()\n",
    "    #sluta mäta tid\n",
    "    return idx, similarity #kan få idx från future_similarities[future] också\n",
    "\n",
    "yk = np.zeros(101)\n",
    "yk[0] = 1\n",
    "similarities = np.zeros(len(query_embeddings_test))\n",
    "similarities = similarities.tolist()\n",
    "# We can use a with statement to ensure threads are cleaned up promptly\n",
    "with concurrent.futures.ThreadPoolExecutor(max_workers=12) as executor:\n",
    "    future_similarities = {executor.submit(rerank, q_emb, p_emb, p_emb_neg, idx, yk): (idx,(q_emb, p_emb, p_emb_neg)) for idx,(q_emb, p_emb, p_emb_neg) in enumerate(zip(query_embeddings_test, product_embeddings, neg_product_embeddings))}\n",
    "    for future in concurrent.futures.as_completed(future_similarities):\n",
    "        idx, similarity = future.result()\n",
    "        similarities[idx] = similarity\n",
    "\n",
    "# create flattened list of similarities\n",
    "similarities = [\n",
    "    score\n",
    "    for scores in similarities\n",
    "    for score in scores\n",
    "]"
   ]
  },
  {
   "cell_type": "code",
   "execution_count": null,
   "metadata": {},
   "outputs": [],
   "source": [
    "\"\"\"from sklearn import svm\n",
    "\n",
    "clf = svm.LinearSVC(class_weight='balanced', verbose=False, max_iter=10000, tol=1e-6, C=1, dual='auto', loss=\"hinge\")\n",
    "yk = np.zeros(101)\n",
    "yk[0] = 1\n",
    "similarities = []\n",
    "for k in range(len(query_embeddings_test)):\n",
    "    xk = np.concatenate([query_embeddings_test[k][None,...], product_embeddings[k]])\n",
    "    clf.fit(xk,yk)\n",
    "    similarity = clf.decision_function(xk)[1:].tolist()\n",
    "    similarities.append(similarity)\n",
    "\n",
    "# create flattened list of similarities\n",
    "similarities = [\n",
    "    score\n",
    "    for scores in similarities\n",
    "    for score in scores\n",
    "]\"\"\""
   ]
  },
  {
   "cell_type": "code",
   "execution_count": null,
   "metadata": {},
   "outputs": [
    {
     "name": "stdout",
     "output_type": "stream",
     "text": [
      "NDCG@10: 0.41100903733691696\n"
     ]
    }
   ],
   "source": [
    "top_100_products_svm = top_100_labels\n",
    "top_100_products_svm = top_100_products_svm.remove_columns(\"score\")\n",
    "top_100_products_svm = top_100_products_svm.add_column(\"score\", similarities)\n",
    "\n",
    "print(f\"NDCG@10: {ndcg_at_k(top_100_products_svm, k=10,top_k=100)}\")"
   ]
  },
  {
   "cell_type": "markdown",
   "metadata": {},
   "source": [
    "## Cross-encoder"
   ]
  },
  {
   "cell_type": "markdown",
   "metadata": {},
   "source": [
    "### Initiate model"
   ]
  },
  {
   "cell_type": "code",
   "execution_count": 5,
   "metadata": {},
   "outputs": [],
   "source": [
    "from transformers import AutoTokenizer, AutoModel\n",
    "import torch \n",
    "import torch.nn as nn\n",
    "\n",
    "class SnowflakeClassifier(nn.Module):\n",
    "    def __init__(self, model_name, num_labels, dropout_value):\n",
    "        super().__init__() #ksk skicka in model_name\n",
    "        self.transformer = AutoModel.from_pretrained(model_name, add_pooling_layer=False, trust_remote_code=True)\n",
    "        self.dropout = nn.Dropout(dropout_value)\n",
    "        self.classifier = nn.Linear(self.transformer.config.hidden_size, num_labels)\n",
    "    \n",
    "    def forward(self, input_ids, attention_mask, labels=None):\n",
    "        outputs = self.transformer(input_ids=input_ids, attention_mask=attention_mask)\n",
    "        cls_embedding = outputs.last_hidden_state[:,0,:]\n",
    "        cls_embedding = self.dropout(cls_embedding)\n",
    "        logits = self.classifier(cls_embedding)\n",
    "        if labels is not None:\n",
    "            loss_fn = torch.nn.CrossEntropyLoss()\n",
    "            loss = loss_fn(logits, labels)\n",
    "            return {\"loss\": loss, \"logits\": logits}\n",
    "        return {\"logits\": logits}\n",
    "\n",
    "model_name = \"Snowflake/snowflake-arctic-embed-m-v2.0\"\n",
    "num_labels = 2\n",
    "dropout_value = 0.175\n",
    "model_cross = SnowflakeClassifier(model_name, num_labels, dropout_value)\n",
    "device = \"cuda\"\n",
    "model_cross.to(device)\n",
    "\n",
    "tokenizer = AutoTokenizer.from_pretrained(model_name, trust_remote_code=True)"
   ]
  },
  {
   "cell_type": "code",
   "execution_count": 4,
   "metadata": {},
   "outputs": [],
   "source": [
    "nbr_layers = 0\n",
    "for _,_ in model_cross.named_parameters():\n",
    "    nbr_layers +=1"
   ]
  },
  {
   "cell_type": "code",
   "execution_count": null,
   "metadata": {},
   "outputs": [],
   "source": [
    "# freeze transformer layers\n",
    "for name, param in model_cross.named_parameters():\n",
    "    if name.startswith(\"transformer\"):\n",
    "        param.requires_grad = False\n",
    "\n",
    "# unfreeze some layers\n",
    "for idx,(name, param) in enumerate(model_cross.named_parameters()):\n",
    "    if idx>=nbr_layers-24:\n",
    "        param.requires_grad = True"
   ]
  },
  {
   "cell_type": "code",
   "execution_count": 6,
   "metadata": {},
   "outputs": [
    {
     "name": "stdout",
     "output_type": "stream",
     "text": [
      "transformer.encoder.layer.9.attn_ln.bias False\n",
      "transformer.encoder.layer.9.mlp_ln.weight False\n",
      "transformer.encoder.layer.9.mlp_ln.bias False\n",
      "transformer.encoder.layer.10.attention.qkv_proj.weight True\n",
      "transformer.encoder.layer.10.attention.qkv_proj.bias True\n",
      "transformer.encoder.layer.10.attention.o_proj.weight True\n",
      "transformer.encoder.layer.10.attention.o_proj.bias True\n",
      "transformer.encoder.layer.10.mlp.up_gate_proj.weight True\n",
      "transformer.encoder.layer.10.mlp.down_proj.weight True\n",
      "transformer.encoder.layer.10.mlp.down_proj.bias True\n",
      "transformer.encoder.layer.10.attn_ln.weight True\n",
      "transformer.encoder.layer.10.attn_ln.bias True\n",
      "transformer.encoder.layer.10.mlp_ln.weight True\n",
      "transformer.encoder.layer.10.mlp_ln.bias True\n",
      "transformer.encoder.layer.11.attention.qkv_proj.weight True\n",
      "transformer.encoder.layer.11.attention.qkv_proj.bias True\n",
      "transformer.encoder.layer.11.attention.o_proj.weight True\n",
      "transformer.encoder.layer.11.attention.o_proj.bias True\n",
      "transformer.encoder.layer.11.mlp.up_gate_proj.weight True\n",
      "transformer.encoder.layer.11.mlp.down_proj.weight True\n",
      "transformer.encoder.layer.11.mlp.down_proj.bias True\n",
      "transformer.encoder.layer.11.attn_ln.weight True\n",
      "transformer.encoder.layer.11.attn_ln.bias True\n",
      "transformer.encoder.layer.11.mlp_ln.weight True\n",
      "transformer.encoder.layer.11.mlp_ln.bias True\n",
      "classifier.weight True\n",
      "classifier.bias True\n"
     ]
    }
   ],
   "source": [
    "for idx,(name, param) in enumerate(model_cross.named_parameters()):\n",
    "    if idx>110:\n",
    "        print(name, param.requires_grad)"
   ]
  },
  {
   "cell_type": "markdown",
   "metadata": {},
   "source": [
    "### Create triplets/choose examples"
   ]
  },
  {
   "cell_type": "code",
   "execution_count": 5,
   "metadata": {},
   "outputs": [],
   "source": [
    "top_100_labels_train = load_from_disk(\"top_100_labels_train.npy\")\n",
    "bot_100_labels_train = load_from_disk(\"bot_100_labels_train.npy\")\n",
    "\n",
    "top_100_labels_test = load_from_disk(\"top_100_labels_test.npy\")\n",
    "bot_100_labels_test = load_from_disk(\"bot_100_labels_test.npy\")"
   ]
  },
  {
   "cell_type": "code",
   "execution_count": 6,
   "metadata": {},
   "outputs": [],
   "source": [
    "corpus_id = corpus_ds[\"product_id\"]\n",
    "p_id_to_index = {p_id: idx for idx,p_id in enumerate(corpus_id)}"
   ]
  },
  {
   "cell_type": "code",
   "execution_count": 12,
   "metadata": {},
   "outputs": [],
   "source": [
    "import random\n",
    "\n",
    "m = len(query_train[\"query\"])\n",
    "queries = query_train[\"query\"]\n",
    "query_ids = query_train[\"query_id\"]\n",
    "positives = []\n",
    "negatives = []\n",
    "qrel_queries = qrel_train[\"query_id\"]\n",
    "qrel_pos = qrel_train[\"product_id\"]\n",
    "\n",
    "labels = top_100_labels_train[\"label\"]\n",
    "product_ids = top_100_labels_train[\"product_id\"]\n",
    "for i in range(m):\n",
    "    j = 0\n",
    "    while j<100 and labels[i*100+j] == 0: #hämtar högst rankade relevanta produkten\n",
    "        j += 1\n",
    "    if j==100:\n",
    "        idx = qrel_queries.index(query_ids[i])\n",
    "        positives.append(corpus_ds[p_id_to_index[qrel_pos[idx]]][\"combined_text\"])#väljer en relevant om ingen fanns i top 100\n",
    "    else:\n",
    "        positives.append(corpus_ds[p_id_to_index[product_ids[i*100+j]]][\"combined_text\"]) \n",
    "\"\"\"\n",
    "for i in range(m):\n",
    "    j = 99\n",
    "    while labels[i*100+j] == 1: #hämtar högst rankade relevanta produkten\n",
    "        j -= 1\n",
    "    negatives.append(corpus_ds[p_id_to_index[product_ids[i*100+j]]][\"combined_text\"])\n",
    "\"\"\"\n",
    "\n",
    "corpus_id = corpus_ds[\"product_id\"]\n",
    "corpus_text = corpus_ds[\"combined_text\"]\n",
    "qrel_dict = {}\n",
    "for row in qrel_train:\n",
    "    qrel_dict[(row[\"query_id\"], row[\"product_id\"])] = 1\n",
    "\n",
    "for i in range(m):\n",
    "    idx = random.randint(0,len(corpus_ds))\n",
    "    while (query_ids[i], corpus_id[idx]) in qrel_dict: #väljer random icke-relevant produkt\n",
    "        idx = random.randint(0,len(corpus_ds))\n",
    "    negatives.append(corpus_text[idx])\n",
    "\n",
    "train_dict = {\"query\": queries, \"positive\": positives, \"negative\": negatives}\n",
    "train_dataset_triplet = Dataset.from_dict(train_dict).shuffle(seed=42)"
   ]
  },
  {
   "cell_type": "code",
   "execution_count": 13,
   "metadata": {},
   "outputs": [],
   "source": [
    "n = len(query_test[\"query\"])\n",
    "queries = query_test[\"query\"]\n",
    "query_ids = query_test[\"query_id\"]\n",
    "positives = []\n",
    "negatives = []\n",
    "qrel_queries = qrel_test[\"query_id\"]\n",
    "qrel_pos = qrel_test[\"product_id\"]\n",
    "\n",
    "labels = top_100_labels_test[\"label\"]\n",
    "product_ids = top_100_labels_test[\"product_id\"]\n",
    "for i in range(n):\n",
    "    j = 0\n",
    "    while j<100 and labels[i*100+j] == 0: #hämtar högst rankade relevanta produkten\n",
    "        j += 1\n",
    "    if j==100:\n",
    "        idx = qrel_queries.index(query_ids[i])\n",
    "        positives.append(corpus_ds[p_id_to_index[qrel_pos[idx]]][\"combined_text\"])\n",
    "    else:\n",
    "        positives.append(corpus_ds[p_id_to_index[product_ids[i*100+j]]][\"combined_text\"]) #väljer en relevant om ingen fanns i top 100\n",
    "\"\"\"\n",
    "for i in range(n):\n",
    "    j = 99\n",
    "    while labels[i*100+j] == 1: #hämtar högst rankade relevanta produkten\n",
    "        j -= 1\n",
    "    negatives.append(corpus_ds[p_id_to_index[product_ids[i*100+j]]][\"combined_text\"])\n",
    "\"\"\"\n",
    "qrel_dict = {}\n",
    "for row in qrel_test:\n",
    "    qrel_dict[(row[\"query_id\"], row[\"product_id\"])] = 1\n",
    "\n",
    "for i in range(n):\n",
    "    idx = random.randint(0,len(corpus_ds))\n",
    "    while (query_ids[i], corpus_id[idx]) in qrel_dict: #väljer random icke-relevant produkt\n",
    "        idx = random.randint(0,len(corpus_ds))\n",
    "    negatives.append(corpus_text[idx])\n",
    "\n",
    "eval_dict = {\"query\": queries, \"positive\": positives, \"negative\": negatives}\n",
    "eval_dataset_triplet = Dataset.from_dict(eval_dict).shuffle(seed=42)"
   ]
  },
  {
   "cell_type": "markdown",
   "metadata": {},
   "source": [
    "### Create dataset with pairs of queries and examples"
   ]
  },
  {
   "cell_type": "code",
   "execution_count": 14,
   "metadata": {},
   "outputs": [],
   "source": [
    "pairs = []\n",
    "labels = []\n",
    "for triplet in train_dataset_triplet:\n",
    "    pairs.append([triplet[\"query\"], triplet[\"positive\"]])\n",
    "    labels.append(1)\n",
    "    pairs.append([triplet[\"query\"], triplet[\"negative\"]])\n",
    "    labels.append(0)\n",
    "\n",
    "train_dict = {\"data\": pairs, \"label\": labels}\n",
    "train_dataset = Dataset.from_dict(train_dict)"
   ]
  },
  {
   "cell_type": "code",
   "execution_count": 15,
   "metadata": {},
   "outputs": [],
   "source": [
    "pairs = []\n",
    "labels = []\n",
    "for triplet in eval_dataset_triplet:\n",
    "    pairs.append([triplet[\"query\"], triplet[\"positive\"]])\n",
    "    labels.append(1)\n",
    "    pairs.append([triplet[\"query\"], triplet[\"negative\"]])\n",
    "    labels.append(0)\n",
    "\n",
    "eval_dict = {\"data\": pairs, \"label\": labels}\n",
    "eval_dataset = Dataset.from_dict(eval_dict)"
   ]
  },
  {
   "cell_type": "markdown",
   "metadata": {},
   "source": [
    "### Create dataloader"
   ]
  },
  {
   "cell_type": "code",
   "execution_count": 9,
   "metadata": {},
   "outputs": [],
   "source": [
    "from datasets import load_from_disk\n",
    "train_dataset = load_from_disk(\"train_dataset3\")\n",
    "eval_dataset = load_from_disk(\"eval_dataset3\")"
   ]
  },
  {
   "cell_type": "code",
   "execution_count": 10,
   "metadata": {},
   "outputs": [],
   "source": [
    "from datasets import Dataset\n",
    "train_dataset = train_dataset[:25000]\n",
    "eval_dataset = eval_dataset[:2000]\n",
    "\n",
    "train_dataset = Dataset.from_dict(train_dataset).shuffle(seed=42)\n",
    "eval_dataset = Dataset.from_dict(eval_dataset).shuffle(seed=42)"
   ]
  },
  {
   "cell_type": "code",
   "execution_count": 9,
   "metadata": {},
   "outputs": [],
   "source": [
    "from torch.utils.data import TensorDataset, DataLoader\n",
    "\n",
    "tokens = tokenizer(train_dataset[\"data\"], padding=True, truncation=True, return_tensors=\"pt\")\n",
    "dataset = TensorDataset(tokens[\"input_ids\"], tokens[\"attention_mask\"], torch.tensor(train_dataset[\"label\"]).to(device))\n",
    "dataloader = DataLoader(dataset, batch_size=100, shuffle=False, drop_last=True)\n",
    "loss_fn = nn.CrossEntropyLoss()\n",
    "optimizer = torch.optim.AdamW(model_cross.parameters(), lr=1e-4)\n",
    "\n",
    "eval_tokens = tokenizer(eval_dataset[\"data\"], padding=True, truncation=True, return_tensors=\"pt\")\n",
    "eval_dataset = TensorDataset(eval_tokens[\"input_ids\"], eval_tokens[\"attention_mask\"], torch.tensor(eval_dataset[\"label\"]).to(device))\n",
    "eval_dataloader = DataLoader(eval_dataset, batch_size=100, shuffle=False, drop_last=True)"
   ]
  },
  {
   "cell_type": "markdown",
   "metadata": {},
   "source": [
    "### Training loop"
   ]
  },
  {
   "cell_type": "code",
   "execution_count": null,
   "metadata": {},
   "outputs": [],
   "source": [
    "from tqdm import tqdm\n",
    "import matplotlib.pyplot as plt\n",
    "\n",
    "EPOCHS = 100\n",
    "acc_train_history = []\n",
    "acc_val_history = []\n",
    "for epoch in tqdm(range(EPOCHS)):\n",
    "    acc_train = 0\n",
    "    j = 0\n",
    "    model_cross.train()\n",
    "    for input_ids, attention_mask, y_batch in dataloader:\n",
    "        tokens = {\"input_ids\": input_ids.to(device), \"attention_mask\": attention_mask.to(device)} #får inte till på nåt annat sätt\n",
    "        y_pred = model_cross(**tokens)\n",
    "        loss = loss_fn(y_pred, y_batch.long())\n",
    "        optimizer.zero_grad() #clears gradient before computing the new one\n",
    "        loss.backward() #computes dloss/dx, gradient for all weights\n",
    "        optimizer.step() #uses stored gradient to update each weight\n",
    "        acc_train += torch.sum(y_batch == torch.argmax(y_pred, dim=-1))/y_batch.size()[0]\n",
    "        j += 1\n",
    "\n",
    "    acc_train_history += [acc_train.to(\"cpu\")/j] #dela med hur många batches, cpu för att kunna plotta, annars måste man göra det för varje tensor i listan senare\n",
    "    \n",
    "    torch.save(model_cross, \"cross_encoder_temp\"+str(epoch)+\".pt\")\n",
    "\n",
    "    model_cross.eval()\n",
    "    with torch.no_grad():\n",
    "        acc_val = 0\n",
    "        j = 0\n",
    "        for input_ids, attention_mask, y_val in eval_dataloader: # batches för minne\n",
    "            tokens = {\"input_ids\": input_ids.to(device), \"attention_mask\": attention_mask.to(device)} #får inte till på nåt annat sätt\n",
    "            y_val_pred = model_cross(**tokens)\n",
    "            loss = loss_fn(y_val_pred, y_batch.long())\n",
    "            acc_val += torch.sum(y_val == torch.argmax(y_val_pred, dim=-1))/y_val.size()[0]\n",
    "            j += 1\n",
    "        acc_val_history += [acc_val.to(\"cpu\")/j] #cpu för att kunna plotta, annars måste man göra det för varje tensor i listan senare, j för batches\n",
    "    \"\"\"\n",
    "    epochs = range(1, len(acc_train_history) + 1)\n",
    "    plt.plot(epochs, acc_val_history, 'rx', label='Validation accuracy')\n",
    "    plt.plot(epochs, acc_train_history, 'bo', label='Train accuracy')\n",
    "    plt.title('Validation and training accuracy')\n",
    "    plt.legend()\n",
    "    plt.show()\n",
    "    \"\"\""
   ]
  },
  {
   "cell_type": "code",
   "execution_count": 16,
   "metadata": {},
   "outputs": [],
   "source": [
    "model_cross = torch.load(\"cross_encoder_temp14.pt\", weights_only=False)"
   ]
  },
  {
   "cell_type": "code",
   "execution_count": 17,
   "metadata": {},
   "outputs": [
    {
     "data": {
      "image/png": "[encoded data removed]",
      "text/plain": [
       "<Figure size 640x480 with 1 Axes>"
      ]
     },
     "metadata": {},
     "output_type": "display_data"
    }
   ],
   "source": [
    "import matplotlib.pyplot as plt\n",
    "\n",
    "epochs = range(1, len(acc_train_history) + 1)\n",
    "plt.plot(epochs, acc_val_history, 'rx', label='Validation accuracy')\n",
    "plt.plot(epochs, acc_train_history, 'bo', label='Train accuracy')\n",
    "plt.title('Validation and training accuracy')\n",
    "plt.legend()\n",
    "plt.show()"
   ]
  },
  {
   "cell_type": "code",
   "execution_count": 28,
   "metadata": {},
   "outputs": [
    {
     "data": {
      "image/png": "[encoded data removed]",
      "text/plain": [
       "<Figure size 640x480 with 1 Axes>"
      ]
     },
     "metadata": {},
     "output_type": "display_data"
    }
   ],
   "source": [
    "import matplotlib.pyplot as plt\n",
    "e = 20\n",
    "\n",
    "epochs = range(1, len(acc_train_history[:e]) + 1)\n",
    "plt.plot(epochs, acc_val_history[:e], 'rx', label='Validation accuracy')\n",
    "plt.plot(epochs, acc_train_history[:e], 'bo', label='Train accuracy')\n",
    "plt.title('Validation and training accuracy')\n",
    "plt.legend()\n",
    "plt.show()"
   ]
  },
  {
   "cell_type": "markdown",
   "metadata": {},
   "source": [
    "### Train with trainer"
   ]
  },
  {
   "cell_type": "code",
   "execution_count": null,
   "metadata": {},
   "outputs": [],
   "source": [
    "from datasets import Dataset, load_from_disk\n",
    "\n",
    "train_dataset = load_from_disk(\"train_dataset3\")\n",
    "train_dataset = train_dataset[:25000]\n",
    "train_dataset = Dataset.from_dict(train_dataset).shuffle(seed=42)"
   ]
  },
  {
   "cell_type": "code",
   "execution_count": null,
   "metadata": {},
   "outputs": [],
   "source": [
    "def tokenize_fcn(examples):\n",
    "    return tokenizer(examples[\"data\"], padding=\"max_length\", truncation=True)\n",
    "\n",
    "train_dataset_tokenized = train_dataset.map(tokenize_fcn, batched=True)\n",
    "train_dataset_tokenized = train_dataset_tokenized.rename_column(\"label\", \"labels\")\n",
    "train_dataset_tokenized = train_dataset_tokenized.remove_columns(\"data\")"
   ]
  },
  {
   "cell_type": "code",
   "execution_count": null,
   "metadata": {},
   "outputs": [],
   "source": [
    "# load tokenized datset\n",
    "train_dataset_tokenized = load_from_disk(\"train_dataset_tokenized\")"
   ]
  },
  {
   "cell_type": "code",
   "execution_count": null,
   "metadata": {},
   "outputs": [],
   "source": [
    "train_dataset_tokenized"
   ]
  },
  {
   "cell_type": "code",
   "execution_count": 14,
   "metadata": {},
   "outputs": [
    {
     "data": {
      "text/plain": [
       "2673"
      ]
     },
     "execution_count": 14,
     "metadata": {},
     "output_type": "execute_result"
    }
   ],
   "source": [
    "import gc\n",
    "torch.cuda.empty_cache()\n",
    "gc.collect()"
   ]
  },
  {
   "cell_type": "code",
   "execution_count": 15,
   "metadata": {},
   "outputs": [
    {
     "data": {
      "text/html": [
       "\n",
       "    <div>\n",
       "      \n",
       "      <progress value='5000' max='5000' style='width:300px; height:20px; vertical-align: middle;'></progress>\n",
       "      [5000/5000 25:58, Epoch 2/2]\n",
       "    </div>\n",
       "    <table border=\"1\" class=\"dataframe\">\n",
       "  <thead>\n",
       " <tr style=\"text-align: left;\">\n",
       "      <th>Step</th>\n",
       "      <th>Training Loss</th>\n",
       "    </tr>\n",
       "  </thead>\n",
       "  <tbody>\n",
       "    <tr>\n",
       "      <td>500</td>\n",
       "      <td>0.728800</td>\n",
       "    </tr>\n",
       "    <tr>\n",
       "      <td>1000</td>\n",
       "      <td>0.723500</td>\n",
       "    </tr>\n",
       "    <tr>\n",
       "      <td>1500</td>\n",
       "      <td>0.726600</td>\n",
       "    </tr>\n",
       "    <tr>\n",
       "      <td>2000</td>\n",
       "      <td>0.715600</td>\n",
       "    </tr>\n",
       "    <tr>\n",
       "      <td>2500</td>\n",
       "      <td>0.722100</td>\n",
       "    </tr>\n",
       "    <tr>\n",
       "      <td>3000</td>\n",
       "      <td>0.717000</td>\n",
       "    </tr>\n",
       "    <tr>\n",
       "      <td>3500</td>\n",
       "      <td>0.715400</td>\n",
       "    </tr>\n",
       "    <tr>\n",
       "      <td>4000</td>\n",
       "      <td>0.707500</td>\n",
       "    </tr>\n",
       "    <tr>\n",
       "      <td>4500</td>\n",
       "      <td>0.701700</td>\n",
       "    </tr>\n",
       "    <tr>\n",
       "      <td>5000</td>\n",
       "      <td>0.710800</td>\n",
       "    </tr>\n",
       "  </tbody>\n",
       "</table><p>"
      ],
      "text/plain": [
       "<IPython.core.display.HTML object>"
      ]
     },
     "metadata": {},
     "output_type": "display_data"
    },
    {
     "data": {
      "text/plain": [
       "TrainOutput(global_step=5000, training_loss=0.7168989990234375, metrics={'train_runtime': 1558.7114, 'train_samples_per_second': 32.078, 'train_steps_per_second': 3.208, 'total_flos': 0.0, 'train_loss': 0.7168989990234375, 'epoch': 2.0})"
      ]
     },
     "execution_count": 15,
     "metadata": {},
     "output_type": "execute_result"
    }
   ],
   "source": [
    "from transformers import Trainer, TrainingArguments\n",
    "\n",
    "model_name = \"Snowflake/snowflake-arctic-embed-m-v2.0\"\n",
    "num_labels = 2\n",
    "dropout_value = 0.1\n",
    "device = \"cuda\"\n",
    "\n",
    "#loss_fn = nn.CrossEntropyLoss()\n",
    "\n",
    "training_args = TrainingArguments(\n",
    "    output_dir = \"crossencoder_temp\",\n",
    "    learning_rate = 1e-5,\n",
    "    per_device_train_batch_size=10,\n",
    "    num_train_epochs = 2,\n",
    "    weight_decay = 0.01,\n",
    "    #label_names = [\"labels\"],\n",
    "    seed = 42\n",
    ")\n",
    "\n",
    "trainer = Trainer(\n",
    "    model = model_cross,\n",
    "    args = training_args,\n",
    "    train_dataset = train_dataset_tokenized,\n",
    "    #eval_dataset = eval_dataset,\n",
    "    #processing_class = tokenizer,\n",
    "    #data_collator = data_collator, ??\n",
    "    #compute_loss_func= loss_fn\n",
    ")\n",
    "\n",
    "trainer.train()"
   ]
  },
  {
   "cell_type": "markdown",
   "metadata": {},
   "source": [
    "### Rerank"
   ]
  },
  {
   "cell_type": "code",
   "execution_count": 85,
   "metadata": {},
   "outputs": [],
   "source": [
    "\n",
    "corpus_text = corpus_ds[\"combined_text\"] #fult men snabbare\n",
    "corpus_pid = corpus_ds[\"product_id\"]\n",
    "query_text = query_test[\"query\"]\n",
    "query_qid = query_test[\"query_id\"]\n",
    "\n",
    "p_id_to_index = {p_id: idx for idx,p_id in enumerate(corpus_pid)}\n",
    "q_id_to_index = {q_id: idx for idx,q_id in enumerate(query_qid)}\n",
    "\n",
    "def pid_to_text(pid):\n",
    "    return corpus_text[p_id_to_index[pid]]\n",
    "                     \n",
    "def qid_to_text(qid):\n",
    "    return query_text[q_id_to_index[qid]]"
   ]
  },
  {
   "cell_type": "code",
   "execution_count": 61,
   "metadata": {},
   "outputs": [
    {
     "data": {
      "text/plain": [
       "5373"
      ]
     },
     "execution_count": 61,
     "metadata": {},
     "output_type": "execute_result"
    }
   ],
   "source": [
    "# hjälper ibland om problem med cuda-minne\n",
    "import gc\n",
    "torch.cuda.empty_cache()\n",
    "gc.collect()"
   ]
  },
  {
   "cell_type": "code",
   "execution_count": null,
   "metadata": {},
   "outputs": [],
   "source": [
    "# create pairs\n",
    "\"\"\"\n",
    "top_100_labels_test = load_from_disk(\"top_100_labels_test.npy\")\n",
    "query_product_text = []\n",
    "query_ids = top_100_labels_test[\"query_id\"]\n",
    "product_ids = top_100_labels_test[\"product_id\"]\n",
    "for q_id,p_id in zip(query_ids, product_ids):\n",
    "    query_product_text.append([qid_to_text(q_id), pid_to_text(p_id)])\n",
    "top_100_labels_test = top_100_labels_test.add_column(\"query_product_text\", query_product_text)\n",
    "\"\"\""
   ]
  },
  {
   "cell_type": "code",
   "execution_count": null,
   "metadata": {},
   "outputs": [
    {
     "name": "stderr",
     "output_type": "stream",
     "text": [
      "Parameter 'indices'=<generator object <genexpr> at 0x7fc940ba79f0> of the transform datasets.arrow_dataset.Dataset.select couldn't be hashed properly, a random hash was used instead. Make sure your transforms and parameters are serializable with pickle or dill for the dataset fingerprinting and caching to work. If you reuse this transform, the caching mechanism will consider it to be different from the previous calls and recompute everything. This warning is only showed once. Subsequent hashing failures won't be showed.\n"
     ]
    }
   ],
   "source": [
    "# create smaller dataset for testing\n",
    "\"\"\"\n",
    "from datasets import Dataset\n",
    "top_100_labels_test = top_100_labels_test.select(i for i in range(len(top_100_labels_test)) if i<1810000 and i%200000<10000)\n",
    "top_100_labels_test = Dataset.from_dict(top_100_labels_test)\n",
    "\"\"\""
   ]
  },
  {
   "cell_type": "code",
   "execution_count": 16,
   "metadata": {},
   "outputs": [],
   "source": [
    "from torch.utils.data import TensorDataset, DataLoader\n",
    "#top_100_labels_test = load_from_disk(\"test_top_100\")\n",
    "top_100_labels_test = load_from_disk(\"test_top_100_nano\")\n",
    "\n",
    "test_tokens = tokenizer(top_100_labels_test[\"query_product_text\"], padding=True, truncation=True, return_tensors=\"pt\")\n",
    "test_dataset = TensorDataset(test_tokens[\"input_ids\"], test_tokens[\"attention_mask\"], torch.tensor(top_100_labels_test[\"label\"]).to(device))\n",
    "test_dataloader = DataLoader(test_dataset, batch_size=50, shuffle=False)"
   ]
  },
  {
   "cell_type": "code",
   "execution_count": 22,
   "metadata": {},
   "outputs": [],
   "source": [
    "model_cross.eval()\n",
    "logits = []\n",
    "with torch.no_grad():\n",
    "    for input_ids, attention_mask, y_batch in test_dataloader:\n",
    "            tokens = {\"input_ids\": input_ids.to(device), \"attention_mask\": attention_mask.to(device)}\n",
    "            outputs = model_cross(**tokens)\n",
    "            logits.append(outputs[\"logits\"])\n",
    "logits = torch.cat(logits)\n",
    "soft = nn.Softmax(dim=-1)\n",
    "scores = soft(logits)\n",
    "rerank_scores = scores[:,1]"
   ]
  },
  {
   "cell_type": "code",
   "execution_count": 25,
   "metadata": {},
   "outputs": [
    {
     "name": "stdout",
     "output_type": "stream",
     "text": [
      "NDCG@10: 0.0708711867617669\n"
     ]
    }
   ],
   "source": [
    "# print score\n",
    "temp_dataset = top_100_labels_test.remove_columns(\"score\")\n",
    "test_dataset_labels_scores = temp_dataset.add_column(\"score\", rerank_scores.tolist())\n",
    "\n",
    "print(f\"NDCG@10: {ndcg_at_k(test_dataset_labels_scores, k=10,top_k=100)}\")"
   ]
  },
  {
   "cell_type": "code",
   "execution_count": null,
   "metadata": {},
   "outputs": [
    {
     "name": "stdout",
     "output_type": "stream",
     "text": [
      "NDCG@10: 0.446485496066525\n"
     ]
    }
   ],
   "source": [
    "# print retrieval score\n",
    "print(f\"NDCG@10: {ndcg_at_k(top_100_labels_test, k=10,top_k=100)}\")"
   ]
  }
 ],
 "metadata": {
  "kernelspec": {
   "display_name": "ebbaelise",
   "language": "python",
   "name": "python3"
  },
  "language_info": {
   "codemirror_mode": {
    "name": "ipython",
    "version": 3
   },
   "file_extension": ".py",
   "mimetype": "text/x-python",
   "name": "python",
   "nbconvert_exporter": "python",
   "pygments_lexer": "ipython3",
   "version": "3.12.3"
  }
 },
 "nbformat": 4,
 "nbformat_minor": 2
}
