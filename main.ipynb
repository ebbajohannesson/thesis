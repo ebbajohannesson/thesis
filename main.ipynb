{
 "cells": [
  {
   "cell_type": "markdown",
   "metadata": {},
   "source": [
    "## Retrieval"
   ]
  },
  {
   "cell_type": "code",
   "execution_count": 1,
   "metadata": {},
   "outputs": [
    {
     "name": "stderr",
     "output_type": "stream",
     "text": [
      "Override attn_implementation='sdpa' to 'eager' as use_memory_efficient_attention='true'\n"
     ]
    },
    {
     "name": "stdout",
     "output_type": "stream",
     "text": [
      "True\n",
      "cuda:0\n"
     ]
    }
   ],
   "source": [
    "import pandas as pd\n",
    "import torch\n",
    "import numpy as np\n",
    "from datasets import Dataset\n",
    "\n",
    "from sentence_transformers import SentenceTransformer\n",
    "model = SentenceTransformer(\"Snowflake/snowflake-arctic-embed-m-v2.0\", trust_remote_code=True)\n",
    "device = torch.device(\"cuda\")\n",
    "model.to(device)\n",
    "\n",
    "print(torch.cuda.is_available())\n",
    "print(next(model.parameters()).device)"
   ]
  },
  {
   "cell_type": "code",
   "execution_count": 1,
   "metadata": {},
   "outputs": [
    {
     "data": {
      "text/plain": [
       "True"
      ]
     },
     "execution_count": 1,
     "metadata": {},
     "output_type": "execute_result"
    }
   ],
   "source": [
    "import torch\n",
    "torch.cuda.is_available()"
   ]
  },
  {
   "cell_type": "code",
   "execution_count": 2,
   "metadata": {},
   "outputs": [
    {
     "data": {
      "text/plain": [
       "'\\ndf_examples = pd.read_parquet(\\'shopping_queries_dataset/shopping_queries_dataset_examples.parquet\\')\\ndf_products = pd.read_parquet(\\'shopping_queries_dataset/shopping_queries_dataset_products.parquet\\')\\n#df_sources = pd.read_csv(\"shopping_queries_dataset/shopping_queries_dataset_sources.csv\")\\n\\nproducts = Dataset.from_pandas(df_products)\\nexamples = Dataset.from_pandas(df_examples)\\n\\nSMALL = False\\nproducts_ds = products.filter(lambda example: example[\\'product_locale\\'] == \"us\")\\n\\nexamples_ds = examples.filter(lambda example: example[\\'small_version\\'] == 1) #det här händer ju inte ens\\nexamples_ds = examples.filter(lambda example: example[\\'product_locale\\'] == \"us\")\\n\\nif SMALL == True:\\n    train_split, products_ds = products_ds.train_test_split(test_size=0.01, seed=42).values()\\n\\nfrom html.parser import HTMLParser\\n\\nclass HTMLStripper(HTMLParser):\\n    def __init__(self):\\n        super().__init__()\\n        self.text = []\\n\\n    def handle_data(self, data):\\n        self.text.append(data)\\n\\n    def get_text(self):\\n        return \" \".join(self.text).strip()\\n\\ndef strip_html(text):\\n    if text is None:\\n        return \"\"\\n    stripper = HTMLStripper()\\n    stripper.feed(text)\\n    return stripper.get_text()\\n\\ndef concatenate_fields(example):\\n    fields = [example[\"product_title\"], example[\"product_color\"], example[\"product_brand\"], example[\"product_description\"]]\\n    filtered_fields = [strip_html(f) for f in fields if f]  # Remove HTML and None values\\n    example[\"combined_text\"] = \" \".join(filtered_fields).strip()\\n    return example\\n\\nproducts_ds = products_ds.map(concatenate_fields)\\n\\ncols_to_remove = products_ds.column_names\\ncols_to_remove.remove(\"product_id\")\\ncols_to_remove.remove(\"combined_text\")\\ncorpus_ds = products_ds.remove_columns(cols_to_remove)\\n\\nexamples_ds = examples_ds.remove_columns(\"small_version\")\\nexamples_ds = examples_ds.remove_columns(\"large_version\")\\nexamples_ds = examples_ds.remove_columns(\"__index_level_0__\")\\n\\nexamples_rel = examples_ds.filter(lambda example: example[\\'esci_label\\'] == \"E\")\\nexamples_rel = examples_rel.remove_columns(\"esci_label\")\\nexamples_rel = examples_rel.remove_columns(\"example_id\")\\nexamples_rel= examples_rel.remove_columns(\"product_locale\")\\nqrel_ds = examples_rel.remove_columns(\"query\")\\n\\nquery_ds = examples_rel.remove_columns(\"product_id\")\\n\\nseen = set()\\nquery_ds = query_ds.filter(lambda example: example[\"query_id\"] not in seen and not seen.add(example[\"query_id\"]))\\n\\ncorpus_product_ids = set(products_ds[\\'product_id\\'])\\n\\n# REMOVE QUERIES WITH NO PRODUCTS\\nqrel_ds = qrel_ds.filter(lambda example: example[\\'product_id\\'] in corpus_product_ids)\\nvalid_query_ids = set(qrel_ds[\\'query_id\\'])\\nquery_ds = query_ds.filter(lambda example: example[\\'query_id\\'] in valid_query_ids)\\n\\n# SPLITS\\nqrel_train = qrel_ds.filter(lambda example: example[\\'split\\'] == \"train\")\\nquery_train = query_ds.filter(lambda example: example[\\'split\\'] == \"train\")\\n\\nqrel_test = qrel_ds.filter(lambda example: example[\\'split\\'] == \"test\")\\nquery_test = query_ds.filter(lambda example: example[\\'split\\'] == \"test\")\\n\\nqrel_train.save_to_disk(\"qrel_train\")\\nquery_train.save_to_disk(\"query_train\")\\nqrel_test.save_to_disk(\"qrel_test\")\\nquery_test.save_to_disk(\"query_test\")\\ncorpus_ds.save_to_disk(\"corpus_ds\") \\n'"
      ]
     },
     "execution_count": 2,
     "metadata": {},
     "output_type": "execute_result"
    }
   ],
   "source": [
    "\"\"\"\n",
    "df_examples = pd.read_parquet('shopping_queries_dataset/shopping_queries_dataset_examples.parquet')\n",
    "df_products = pd.read_parquet('shopping_queries_dataset/shopping_queries_dataset_products.parquet')\n",
    "#df_sources = pd.read_csv(\"shopping_queries_dataset/shopping_queries_dataset_sources.csv\")\n",
    "\n",
    "products = Dataset.from_pandas(df_products)\n",
    "examples = Dataset.from_pandas(df_examples)\n",
    "\n",
    "SMALL = False\n",
    "products_ds = products.filter(lambda example: example['product_locale'] == \"us\")\n",
    "\n",
    "examples_ds = examples.filter(lambda example: example['small_version'] == 1) #det här händer ju inte ens\n",
    "examples_ds = examples.filter(lambda example: example['product_locale'] == \"us\")\n",
    "\n",
    "if SMALL == True:\n",
    "    train_split, products_ds = products_ds.train_test_split(test_size=0.01, seed=42).values()\n",
    "\n",
    "from html.parser import HTMLParser\n",
    "\n",
    "class HTMLStripper(HTMLParser):\n",
    "    def __init__(self):\n",
    "        super().__init__()\n",
    "        self.text = []\n",
    "\n",
    "    def handle_data(self, data):\n",
    "        self.text.append(data)\n",
    "\n",
    "    def get_text(self):\n",
    "        return \" \".join(self.text).strip()\n",
    "\n",
    "def strip_html(text):\n",
    "    if text is None:\n",
    "        return \"\"\n",
    "    stripper = HTMLStripper()\n",
    "    stripper.feed(text)\n",
    "    return stripper.get_text()\n",
    "\n",
    "def concatenate_fields(example):\n",
    "    fields = [example[\"product_title\"], example[\"product_color\"], example[\"product_brand\"], example[\"product_description\"]]\n",
    "    filtered_fields = [strip_html(f) for f in fields if f]  # Remove HTML and None values\n",
    "    example[\"combined_text\"] = \" \".join(filtered_fields).strip()\n",
    "    return example\n",
    "\n",
    "products_ds = products_ds.map(concatenate_fields)\n",
    "\n",
    "cols_to_remove = products_ds.column_names\n",
    "cols_to_remove.remove(\"product_id\")\n",
    "cols_to_remove.remove(\"combined_text\")\n",
    "corpus_ds = products_ds.remove_columns(cols_to_remove)\n",
    "\n",
    "examples_ds = examples_ds.remove_columns(\"small_version\")\n",
    "examples_ds = examples_ds.remove_columns(\"large_version\")\n",
    "examples_ds = examples_ds.remove_columns(\"__index_level_0__\")\n",
    "\n",
    "examples_rel = examples_ds.filter(lambda example: example['esci_label'] == \"E\")\n",
    "examples_rel = examples_rel.remove_columns(\"esci_label\")\n",
    "examples_rel = examples_rel.remove_columns(\"example_id\")\n",
    "examples_rel= examples_rel.remove_columns(\"product_locale\")\n",
    "qrel_ds = examples_rel.remove_columns(\"query\")\n",
    "\n",
    "query_ds = examples_rel.remove_columns(\"product_id\")\n",
    "\n",
    "seen = set()\n",
    "query_ds = query_ds.filter(lambda example: example[\"query_id\"] not in seen and not seen.add(example[\"query_id\"]))\n",
    "\n",
    "corpus_product_ids = set(products_ds['product_id'])\n",
    "\n",
    "# REMOVE QUERIES WITH NO PRODUCTS\n",
    "qrel_ds = qrel_ds.filter(lambda example: example['product_id'] in corpus_product_ids)\n",
    "valid_query_ids = set(qrel_ds['query_id'])\n",
    "query_ds = query_ds.filter(lambda example: example['query_id'] in valid_query_ids)\n",
    "\n",
    "# SPLITS\n",
    "qrel_train = qrel_ds.filter(lambda example: example['split'] == \"train\")\n",
    "query_train = query_ds.filter(lambda example: example['split'] == \"train\")\n",
    "\n",
    "qrel_test = qrel_ds.filter(lambda example: example['split'] == \"test\")\n",
    "query_test = query_ds.filter(lambda example: example['split'] == \"test\")\n",
    "\n",
    "qrel_train.save_to_disk(\"qrel_train\")\n",
    "query_train.save_to_disk(\"query_train\")\n",
    "qrel_test.save_to_disk(\"qrel_test\")\n",
    "query_test.save_to_disk(\"query_test\")\n",
    "corpus_ds.save_to_disk(\"corpus_ds\") \n",
    "\"\"\""
   ]
  },
  {
   "cell_type": "code",
   "execution_count": 5,
   "metadata": {},
   "outputs": [],
   "source": [
    "\n",
    "from datasets import Dataset\n",
    "from datasets import load_from_disk\n",
    "\n",
    "qrel_train = load_from_disk(\"qrel_train\")\n",
    "query_train = load_from_disk(\"query_train\")\n",
    "qrel_test = load_from_disk(\"qrel_test\")\n",
    "query_test = load_from_disk(\"query_test\")\n",
    "corpus_ds = load_from_disk(\"corpus_ds\")"
   ]
  },
  {
   "cell_type": "code",
   "execution_count": null,
   "metadata": {},
   "outputs": [],
   "source": [
    "\"\"\"\n",
    "query_embeddings = model.encode(query_test[\"query\"], prompt_name=\"query\", show_progress_bar=True)\n",
    "query_embeds = np.array(query_embeddings)\n",
    "np.save(\"query_test_embeds.npy\", query_embeds)\n",
    "\n",
    "query_embeddings_2 = model.encode(query_train[\"query\"], prompt_name=\"query\", show_progress_bar=True)\n",
    "query_embeds_2 = np.array(query_embeddings_2)\n",
    "np.save(\"query_train_embeds.npy\", query_embeds_2)\n",
    "\n",
    "document_embeddings = model.encode(corpus_ds[\"combined_text\"], show_progress_bar=True)\n",
    "doc_embeds = np.array(document_embeddings)\n",
    "np.save('doc_embeds.npy', doc_embeds)\"\"\"\n",
    "\n",
    "\"\"\"\n",
    "query_embeddings_test = np.load('embeddings/query_test_embeds.npy')\n",
    "query_embeddings_train = np.load(\"embeddings/query_train_embeds.npy\")\n",
    "document_embeddings = np.load('embeddings/doc_embeds.npy')\n",
    "\"\"\"\n"
   ]
  },
  {
   "cell_type": "code",
   "execution_count": null,
   "metadata": {},
   "outputs": [],
   "source": [
    "\"\"\"\n",
    "import faiss # Create FAISS index (L2 normalized embeddings needed for dot product / cosine similarity)\n",
    "\n",
    "dimension = query_embeddings_train.shape[1]\n",
    "index = faiss.IndexFlatIP(dimension)  # Inner product (equivalent to cosine similarity if normalized)\n",
    "faiss.normalize_L2(document_embeddings)\n",
    "index.add(document_embeddings)  # Add documents to index# Normalize queries (if using cosine similarity)\n",
    "faiss.normalize_L2(query_embeddings_train)# Perform search (retrieve top k similar docs per query)\n",
    "\n",
    "k = 100  # Adjust as needed\n",
    "scores, I = index.search(-1*query_embeddings_train, k)  # D = scores, I = indices of top-k docs\n",
    "\"\"\""
   ]
  },
  {
   "cell_type": "code",
   "execution_count": null,
   "metadata": {},
   "outputs": [],
   "source": [
    "\"\"\"\n",
    "I_train = np.load(\"faiss/faiss_index_train.npy\")\n",
    "scores_train = np.load(\"faiss/faiss_scores_train.npy\")\n",
    "neg_I_train = np.load(\"faiss/faiss_index_neg_train.npy\")\n",
    "neg_scores_train = np.load(\"faiss/faiss_scores_neg_train.npy\")\n",
    "\n",
    "I_test = np.load(\"faiss/faiss_index_test.npy\")\n",
    "scores_test = np.load(\"faiss/faiss_scores_test.npy\")\n",
    "neg_I_test = np.load(\"faiss/faiss_index_neg_test.npy\")\n",
    "neg_scores_test = np.load(\"faiss/faiss_scores_neg_test.npy\")\n",
    "\"\"\""
   ]
  },
  {
   "cell_type": "code",
   "execution_count": null,
   "metadata": {},
   "outputs": [],
   "source": [
    "\n",
    "import torch\n",
    "import numpy as np\n",
    "import pandas as pd\n",
    "from datasets import Dataset\n",
    "\n",
    "query_ids = query_train[\"query_id\"]  # List of all query IDs\n",
    "product_ids = corpus_ds[\"product_id\"]  # List of all product IDs\n",
    "query_ids = np.array(query_ids)\n",
    "product_ids = np.array(product_ids)\n",
    "k=100\n",
    "scores_flat_train = scores_train.flatten()  # Convert the tensor to a flattened NumPy array\n",
    "neg_scores_flat_train = neg_scores_train.flatten()\n",
    "query_ids_flat = np.repeat(query_ids, k)\n",
    "product_ids_flat = []\n",
    "for ind in I_train.flatten():\n",
    "    product_id = product_ids[ind]\n",
    "    product_ids_flat.append(product_id)\n",
    "flattened_scores_train = pd.DataFrame({\n",
    "    \"query_id\": query_ids_flat,\n",
    "    \"product_id\": product_ids_flat,\n",
    "    \"score\": scores_flat_train\n",
    "})\n",
    "neg_product_ids_flat = []\n",
    "for ind in neg_I_train.flatten():\n",
    "    product_id = product_ids[ind]\n",
    "    neg_product_ids_flat.append(product_id)\n",
    "neg_flattened_scores_train = pd.DataFrame({\n",
    "    \"query_id\": query_ids_flat,\n",
    "    \"product_id\": neg_product_ids_flat,\n",
    "    \"score\": neg_scores_flat_train\n",
    "})\n",
    "\n",
    "scores_ds_train = Dataset.from_pandas(flattened_scores_train)\n",
    "neg_scores_ds_train = Dataset.from_pandas(neg_flattened_scores_train)\n",
    "\n",
    "query_ids = query_test[\"query_id\"]\n",
    "scores_flat_test = scores_test.flatten()  # Convert the tensor to a flattened NumPy array\n",
    "neg_scores_flat_test = neg_scores_test.flatten()\n",
    "query_ids_flat = np.repeat(query_ids, k)\n",
    "product_ids_flat = []\n",
    "for ind in I_test.flatten():\n",
    "    product_id = product_ids[ind]\n",
    "    product_ids_flat.append(product_id)\n",
    "flattened_scores_test = pd.DataFrame({\n",
    "    \"query_id\": query_ids_flat,\n",
    "    \"product_id\": product_ids_flat,\n",
    "    \"score\": scores_flat_test\n",
    "})\n",
    "neg_product_ids_flat = []\n",
    "for ind in neg_I_test.flatten():\n",
    "    product_id = product_ids[ind]\n",
    "    neg_product_ids_flat.append(product_id)\n",
    "neg_flattened_scores_test = pd.DataFrame({\n",
    "    \"query_id\": query_ids_flat,\n",
    "    \"product_id\": neg_product_ids_flat,\n",
    "    \"score\": neg_scores_flat_test\n",
    "})\n",
    "\n",
    "scores_ds_test = Dataset.from_pandas(flattened_scores_test)\n",
    "neg_scores_ds_test = Dataset.from_pandas(neg_flattened_scores_test)\n",
    "\n",
    "corpus_embed_ds = corpus_ds.map(lambda example, idx: {'embed_products': document_embeddings[idx].tolist()}, with_indices=True)\n",
    "query_embed_train = query_train.map(lambda example, idx: {'embed_queries': query_embeddings_train[idx].tolist()}, with_indices=True)\"\n",
    "\"\"\""
   ]
  },
  {
   "cell_type": "code",
   "execution_count": null,
   "metadata": {},
   "outputs": [],
   "source": [
    "\n",
    "def get_top_k_per_query(scores_ds: Dataset, k: int = 100) -> Dataset:\n",
    "    \"\"\"\n",
    "    Filters the top k documents for each query based on their scores.\n",
    "\n",
    "    Args:\n",
    "        scores_ds (Dataset): A Hugging Face Dataset with columns 'query_id', 'product_id', and 'score'.\n",
    "        k (int): The number of top documents to retain for each query. Default is 100.\n",
    "\n",
    "    Returns:\n",
    "        Dataset: A filtered Hugging Face Dataset containing only the top k documents for each query.\n",
    "    \"\"\"\n",
    "\n",
    "    scores_df = scores_ds.to_pandas()\n",
    "\n",
    "    #Sort by 'query_id' and 'score' (descending order)\n",
    "    scores_df = scores_df.sort_values(by=['query_id', 'score'], ascending=[True, False])\n",
    "\n",
    "    # Group by 'query_id' and retain top k rows for each query\n",
    "    top_k_scores_df = (\n",
    "        scores_df.groupby('query_id')\n",
    "        .head(k)\n",
    "        .reset_index(drop=True)\n",
    "    )\n",
    "\n",
    "    top_k_scores_ds = Dataset.from_pandas(top_k_scores_df)\n",
    "\n",
    "    return top_k_scores_ds\n",
    "\"\"\"\n",
    "top_100_products_train = get_top_k_per_query(scores_ds_train,k=100)\n",
    "bot_100_products_train = get_top_k_per_query(neg_scores_ds_train,k=100)\n",
    "top_100_products_test = get_top_k_per_query(scores_ds_test,k=100)\n",
    "bot_100_products_test = get_top_k_per_query(neg_scores_ds_test,k=100)\n",
    "\"\"\"\n",
    "top_100_products = get_top_k_per_query(scores_ds,k=100)"
   ]
  },
  {
   "cell_type": "code",
   "execution_count": null,
   "metadata": {},
   "outputs": [],
   "source": [
    "def add_labels(top_100_dataset: Dataset, qrel: Dataset):\n",
    "    new_col = []\n",
    "    \n",
    "    # Create a dictionary from qrel for fast lookup (query_id, product_id) => relevance label\n",
    "    qrel_dict = {}\n",
    "    for row in qrel:\n",
    "        qrel_dict[(row['query_id'], row['product_id'])] = 1  # Relevant products are labeled as 1\n",
    "    \n",
    "    # Iterate through the top 100 dataset and add labels\n",
    "    iterat = top_100_dataset.iter(batch_size=1)\n",
    "    for i in iterat:\n",
    "        query_id = i[\"query_id\"][0]\n",
    "        product_id = i[\"product_id\"][0]\n",
    "        \n",
    "        # Check if the (query_id, product_id) exists in qrel_dict\n",
    "        if (query_id, product_id) in qrel_dict:\n",
    "            new_col.append(1)  # Label 1 if relevant\n",
    "        else:\n",
    "            new_col.append(0)  # Label 0 if not relevant\n",
    "\n",
    "    # Add the new label column to the dataset\n",
    "    top_100_dataset = top_100_dataset.add_column(\"label\", new_col)\n",
    "    \n",
    "    return top_100_dataset\n",
    "\n",
    "top_100_labels = add_labels(top_100_products, nano_qrels)"
   ]
  },
  {
   "cell_type": "markdown",
   "metadata": {},
   "source": [
    "## NDCG"
   ]
  },
  {
   "cell_type": "code",
   "execution_count": 19,
   "metadata": {},
   "outputs": [],
   "source": [
    "from datasets import Dataset\n",
    "from sklearn.metrics import ndcg_score\n",
    "import numpy as np\n",
    "\n",
    "def ndcg_at_k(top_100_labels : Dataset, k, top_k):\n",
    "    y_true = []\n",
    "    y_score = []\n",
    "    score_row = []\n",
    "    true_row = []\n",
    "    for i in range(top_100_labels.num_rows):\n",
    "        score_row.append(top_100_labels[i][\"score\"])\n",
    "        true_row.append(top_100_labels[i][\"label\"])\n",
    "        if (i+1) % top_k == 0:\n",
    "            y_true.append(true_row)\n",
    "            y_score.append(score_row)\n",
    "            score_row = []\n",
    "            true_row = []\n",
    "\n",
    "    y_score = np.array(y_score)\n",
    "    y_true = np.array(y_true)\n",
    "    return ndcg_score(y_true, y_score, k=k)  # Compute NDCG@10\n",
    "\n",
    "#ndcg_score = ndcg_at_k(top_100_labels,k=10,top_k=100)\n",
    "#print( f\"NDCG@10 {ndcg_score}\")"
   ]
  },
  {
   "cell_type": "markdown",
   "metadata": {},
   "source": [
    "## SVM"
   ]
  },
  {
   "cell_type": "code",
   "execution_count": 4,
   "metadata": {},
   "outputs": [
    {
     "ename": "NameError",
     "evalue": "name 'top_100_products' is not defined",
     "output_type": "error",
     "traceback": [
      "\u001b[0;31m---------------------------------------------------------------------------\u001b[0m",
      "\u001b[0;31mNameError\u001b[0m                                 Traceback (most recent call last)",
      "Cell \u001b[0;32mIn[4], line 1\u001b[0m\n\u001b[0;32m----> 1\u001b[0m top_100_product_ids \u001b[38;5;241m=\u001b[39m \u001b[43mtop_100_products\u001b[49m[\u001b[38;5;124m\"\u001b[39m\u001b[38;5;124mproduct_id\u001b[39m\u001b[38;5;124m\"\u001b[39m]\n\u001b[1;32m      2\u001b[0m corpus_id \u001b[38;5;241m=\u001b[39m corpus_ds[\u001b[38;5;124m\"\u001b[39m\u001b[38;5;124mproduct_id\u001b[39m\u001b[38;5;124m\"\u001b[39m]\n\u001b[1;32m      4\u001b[0m product_ids \u001b[38;5;241m=\u001b[39m [top_100_product_ids[k\u001b[38;5;241m*\u001b[39m\u001b[38;5;241m100\u001b[39m:(k\u001b[38;5;241m+\u001b[39m\u001b[38;5;241m1\u001b[39m)\u001b[38;5;241m*\u001b[39m\u001b[38;5;241m100\u001b[39m] \u001b[38;5;28;01mfor\u001b[39;00m k \u001b[38;5;129;01min\u001b[39;00m \u001b[38;5;28mrange\u001b[39m(\u001b[38;5;28mlen\u001b[39m(query_embeddings_test))] \u001b[38;5;66;03m# det finns nåt snyggare för det här\u001b[39;00m\n",
      "\u001b[0;31mNameError\u001b[0m: name 'top_100_products' is not defined"
     ]
    }
   ],
   "source": [
    "top_100_product_ids = top_100_products[\"product_id\"]\n",
    "corpus_id = corpus_ds[\"product_id\"]\n",
    "\n",
    "product_ids = [top_100_product_ids[k*100:(k+1)*100] for k in range(len(query_embeddings_test))] # det finns nåt snyggare för det här\n",
    "\n",
    "# get embeddings for top 100 products for all queries\n",
    "product_embeddings = []\n",
    "for product_ids_query in product_ids:\n",
    "    product_embeddings_query = []\n",
    "    for product_id in product_ids_query:\n",
    "        product_embedding = document_embeddings[corpus_id.index(product_id)]\n",
    "        product_embeddings_query.append(product_embedding) \n",
    "    product_embeddings.append(product_embeddings_query)\n"
   ]
  },
  {
   "cell_type": "code",
   "execution_count": 12,
   "metadata": {},
   "outputs": [],
   "source": [
    "corpus_id = corpus_ds[\"product_id\"]\n",
    "p_id_to_index={p_id: idx for idx,p_id in enumerate(corpus_id)}"
   ]
  },
  {
   "cell_type": "code",
   "execution_count": null,
   "metadata": {},
   "outputs": [
    {
     "name": "stdout",
     "output_type": "stream",
     "text": [
      "start\n",
      "klar med ids\n"
     ]
    },
    {
     "name": "stderr",
     "output_type": "stream",
     "text": [
      "\n",
      "KeyboardInterrupt\n",
      "\n"
     ]
    }
   ],
   "source": [
    "top_100_product_ids = top_100_products[\"product_id\"]\n",
    "corpus_id = corpus_ds[\"product_id\"]\n",
    "\n",
    "print(\"start\")\n",
    "product_ids = [top_100_product_ids[k*100:(k+1)*100] for k in range(len(query_embeddings_test))] # det finns nåt snyggare för det här\n",
    "print(\"klar med ids\")\n",
    "\n",
    "def embed_from_id(product_ids_query, document_embeddings, corpus_id):\n",
    "    product_embeddings_query = []\n",
    "    for product_id in product_ids_query:\n",
    "        product_embedding = document_embeddings[p_id_to_index(product_id)]\n",
    "        product_embeddings_query.append(product_embedding)\n",
    "    return product_embeddings_query\n",
    "\n",
    "# get embeddings for top 100 products for all queries\n",
    "product_embeddings = np.zeros(len(query_embeddings_test))\n",
    "product_embeddings = product_embeddings.tolist()\n",
    "\n",
    "import concurrent.futures\n",
    "\n",
    "with concurrent.futures.ThreadPoolExecutor(max_workers=12) as executor:\n",
    "    future_embeddings = {executor.submit(embed_from_id, product_ids_query, document_embeddings, corpus_id): (idx,product_ids_query) for idx, product_ids_query in enumerate(product_ids)}\n",
    "    for future in concurrent.futures.as_completed(future_embeddings):\n",
    "        idx, _ = future_embeddings[future] \n",
    "        product_embeddings_query = future.result()\n",
    "        product_embeddings[idx] = product_embeddings_query"
   ]
  },
  {
   "cell_type": "code",
   "execution_count": 14,
   "metadata": {},
   "outputs": [],
   "source": [
    "bot_100_products = load_from_disk(\"bot_100_labels_test.npy\")"
   ]
  },
  {
   "cell_type": "code",
   "execution_count": 13,
   "metadata": {},
   "outputs": [],
   "source": [
    "top_100_product_ids = top_100_products[\"product_id\"]\n",
    "\n",
    "top_100_product_ids = np.array(top_100_products[\"product_id\"])\n",
    "query_count = len(query_embeddings_test) \n",
    "# Efficiently reshape into (query_count, 100) using np.reshape \n",
    "product_ids = top_100_product_ids.reshape(query_count, 100) \n",
    "# Retrieve embeddings efficiently \n",
    "product_embeddings = np.array([ [document_embeddings[p_id_to_index[pid]] for pid in product_ids_query] for product_ids_query in product_ids ])"
   ]
  },
  {
   "cell_type": "code",
   "execution_count": 15,
   "metadata": {},
   "outputs": [],
   "source": [
    "bot_100_product_ids = bot_100_products[\"product_id\"]\n",
    "\n",
    "bot_100_product_ids = np.array(bot_100_products[\"product_id\"])\n",
    "query_count = len(query_embeddings_test) \n",
    "# Efficiently reshape into (query_count, 100) using np.reshape \n",
    "product_ids = bot_100_product_ids.reshape(query_count, 100) \n",
    "# Retrieve embeddings efficiently \n",
    "neg_product_embeddings = np.array([ [document_embeddings[p_id_to_index[pid]] for pid in product_ids_query] for product_ids_query in product_ids ])"
   ]
  },
  {
   "cell_type": "code",
   "execution_count": null,
   "metadata": {},
   "outputs": [],
   "source": [
    "np.save(\"bot_100_product_embeddings\", neg_product_embeddings)"
   ]
  },
  {
   "cell_type": "code",
   "execution_count": 19,
   "metadata": {},
   "outputs": [],
   "source": [
    "q_emb = query_embeddings_test[0]\n",
    "p_emb = product_embeddings[0]\n",
    "p_emb_neg= neg_product_embeddings[0]"
   ]
  },
  {
   "cell_type": "code",
   "execution_count": 24,
   "metadata": {},
   "outputs": [
    {
     "data": {
      "text/plain": [
       "array([[ 0.03288656, -0.01282758, -0.00261392, ..., -0.02368679,\n",
       "        -0.03354517, -0.0420795 ],\n",
       "       [-0.00739472,  0.01717191,  0.02589408, ...,  0.05849567,\n",
       "        -0.02114833, -0.0289324 ],\n",
       "       [-0.02105593,  0.0241571 , -0.00093978, ..., -0.00154158,\n",
       "        -0.01325795, -0.04192457],\n",
       "       ...,\n",
       "       [-0.02369334,  0.03273638, -0.00933025, ..., -0.02764484,\n",
       "        -0.04758015,  0.01148403],\n",
       "       [-0.0542773 , -0.02212486,  0.01448611, ..., -0.0294453 ,\n",
       "        -0.03876443, -0.05161048],\n",
       "       [-0.00800394,  0.01388588,  0.02230977, ...,  0.02033872,\n",
       "        -0.01036941, -0.0082203 ]], dtype=float32)"
      ]
     },
     "execution_count": 24,
     "metadata": {},
     "output_type": "execute_result"
    }
   ],
   "source": [
    "p_emb_neg"
   ]
  },
  {
   "cell_type": "code",
   "execution_count": 16,
   "metadata": {},
   "outputs": [
    {
     "name": "stderr",
     "output_type": "stream",
     "text": [
      "/home/theca/EbbaElise/exjobb-main/ebbaelise/lib/python3.12/site-packages/sklearn/svm/_base.py:1249: ConvergenceWarning: Liblinear failed to converge, increase the number of iterations.\n",
      "  warnings.warn(\n",
      "\n",
      "KeyboardInterrupt\n",
      "\n"
     ]
    }
   ],
   "source": [
    "import concurrent.futures\n",
    "from sklearn import svm\n",
    "\n",
    "def rerank(q_emb, p_emb, p_emb_neg, idx, yk):\n",
    "    #börja mäta tid\n",
    "    clf = svm.LinearSVC(class_weight='balanced', verbose=False, max_iter=10000, tol=1e-6, C=1, dual='auto', loss=\"hinge\")\n",
    "    xk_neg = np.concatenate([q_emb[None,...], p_emb_neg])\n",
    "    clf.fit(xk_neg,yk)\n",
    "    xk = np.concatenate([q_emb[None,...], p_emb])\n",
    "    similarity = clf.decision_function(xk)[1:].tolist()\n",
    "    #sluta mäta tid\n",
    "    return idx, similarity #kan få idx från future_similarities[future] också\n",
    "\n",
    "yk = np.zeros(101)\n",
    "yk[0] = 1\n",
    "similarities = np.zeros(len(query_embeddings_test))\n",
    "similarities = similarities.tolist()\n",
    "# We can use a with statement to ensure threads are cleaned up promptly\n",
    "with concurrent.futures.ThreadPoolExecutor(max_workers=12) as executor:\n",
    "    future_similarities = {executor.submit(rerank, q_emb, p_emb, p_emb_neg, idx, yk): (idx,(q_emb, p_emb, p_emb_neg)) for idx,(q_emb, p_emb, p_emb_neg) in enumerate(zip(query_embeddings_test, product_embeddings, neg_product_embeddings))}\n",
    "    for future in concurrent.futures.as_completed(future_similarities):\n",
    "        idx, similarity = future.result()\n",
    "        similarities[idx] = similarity\n",
    "\n",
    "# create flattened list of similarities\n",
    "similarities = [\n",
    "    score\n",
    "    for scores in similarities\n",
    "    for score in scores\n",
    "]"
   ]
  },
  {
   "cell_type": "code",
   "execution_count": null,
   "metadata": {},
   "outputs": [],
   "source": [
    "\"\"\"from sklearn import svm\n",
    "\n",
    "clf = svm.LinearSVC(class_weight='balanced', verbose=False, max_iter=10000, tol=1e-6, C=1, dual='auto', loss=\"hinge\")\n",
    "yk = np.zeros(101)\n",
    "yk[0] = 1\n",
    "similarities = []\n",
    "for k in range(len(query_embeddings_test)):\n",
    "    xk = np.concatenate([query_embeddings_test[k][None,...], product_embeddings[k]])\n",
    "    clf.fit(xk,yk)\n",
    "    similarity = clf.decision_function(xk)[1:].tolist()\n",
    "    similarities.append(similarity)\n",
    "\n",
    "# create flattened list of similarities\n",
    "similarities = [\n",
    "    score\n",
    "    for scores in similarities\n",
    "    for score in scores\n",
    "]\"\"\""
   ]
  },
  {
   "cell_type": "code",
   "execution_count": null,
   "metadata": {},
   "outputs": [
    {
     "name": "stdout",
     "output_type": "stream",
     "text": [
      "NDCG@10: 0.41100903733691696\n"
     ]
    }
   ],
   "source": [
    "top_100_products_svm = top_100_labels\n",
    "top_100_products_svm = top_100_products_svm.remove_columns(\"score\")\n",
    "top_100_products_svm = top_100_products_svm.add_column(\"score\", similarities)\n",
    "\n",
    "print(f\"NDCG@10: {ndcg_at_k(top_100_products_svm, k=10,top_k=100)}\")"
   ]
  },
  {
   "cell_type": "markdown",
   "metadata": {},
   "source": [
    "## Cross-encoder"
   ]
  },
  {
   "cell_type": "markdown",
   "metadata": {},
   "source": [
    "### Initiate model"
   ]
  },
  {
   "cell_type": "code",
   "execution_count": 1,
   "metadata": {},
   "outputs": [
    {
     "name": "stdout",
     "output_type": "stream",
     "text": [
      "GteConfig {\n",
      "  \"_name_or_path\": \"Snowflake/snowflake-arctic-embed-m-v2.0\",\n",
      "  \"architectures\": [\n",
      "    \"GteModel\"\n",
      "  ],\n",
      "  \"attention_probs_dropout_prob\": 0.0,\n",
      "  \"auto_map\": {\n",
      "    \"AutoConfig\": \"Snowflake/snowflake-arctic-embed-m-v2.0--configuration_hf_alibaba_nlp_gte.GteConfig\",\n",
      "    \"AutoModel\": \"Snowflake/snowflake-arctic-embed-m-v2.0--modeling_hf_alibaba_nlp_gte.GteModel\"\n",
      "  },\n",
      "  \"classifier_dropout\": 0.1,\n",
      "  \"hidden_act\": \"gelu\",\n",
      "  \"hidden_dropout_prob\": 0.1,\n",
      "  \"hidden_size\": 768,\n",
      "  \"initializer_range\": 0.02,\n",
      "  \"intermediate_size\": 3072,\n",
      "  \"layer_norm_eps\": 1e-12,\n",
      "  \"layer_norm_type\": \"layer_norm\",\n",
      "  \"logn_attention_clip1\": false,\n",
      "  \"logn_attention_scale\": false,\n",
      "  \"matryoshka_dimensions\": [\n",
      "    256\n",
      "  ],\n",
      "  \"max_position_embeddings\": 8192,\n",
      "  \"model_type\": \"gte\",\n",
      "  \"num_attention_heads\": 12,\n",
      "  \"num_hidden_layers\": 12,\n",
      "  \"pack_qkv\": true,\n",
      "  \"pad_token_id\": 1,\n",
      "  \"position_embedding_type\": \"rope\",\n",
      "  \"rope_scaling\": null,\n",
      "  \"rope_theta\": 160000,\n",
      "  \"torch_dtype\": \"float32\",\n",
      "  \"transformers_version\": \"4.48.2\",\n",
      "  \"type_vocab_size\": 1,\n",
      "  \"unpad_inputs\": \"true\",\n",
      "  \"use_memory_efficient_attention\": \"true\",\n",
      "  \"vocab_size\": 250048\n",
      "}\n",
      "\n"
     ]
    }
   ],
   "source": [
    "from transformers import AutoConfig\n",
    "model_name = \"Snowflake/snowflake-arctic-embed-m-v2.0\"\n",
    "config = AutoConfig.from_pretrained(model_name, trust_remote_code=True)\n",
    "print(config)\n",
    "\n",
    "config.unpad_inputs=False\n",
    "config.use_memory_efficient_attention = False"
   ]
  },
  {
   "cell_type": "code",
   "execution_count": 15,
   "metadata": {},
   "outputs": [],
   "source": [
    "from transformers import AutoTokenizer, AutoModel\n",
    "import torch \n",
    "import torch.nn as nn\n",
    "\n",
    "class SnowflakeClassifier(nn.Module):\n",
    "    def __init__(self, model_name, num_labels, dropout_value):\n",
    "        super().__init__() #ksk skicka in model_name\n",
    "        self.transformer = AutoModel.from_pretrained(model_name, add_pooling_layer=False, trust_remote_code=True)\n",
    "        self.dropout = nn.Dropout(dropout_value)\n",
    "        self.classifier = nn.Linear(self.transformer.config.hidden_size, num_labels)\n",
    "    \n",
    "    def forward(self, input_ids, attention_mask, labels=None):\n",
    "        outputs = self.transformer(input_ids=input_ids, attention_mask=attention_mask)\n",
    "        cls_embedding = outputs.last_hidden_state[:,0,:]\n",
    "        cls_embedding = self.dropout(cls_embedding)\n",
    "        logits = self.classifier(cls_embedding)\n",
    "        if labels is not None:\n",
    "            loss_fn = torch.nn.CrossEntropyLoss()\n",
    "            loss = loss_fn(logits, labels)\n",
    "            return {\"loss\": loss, \"logits\": logits}\n",
    "        return {\"logits\": logits}"
   ]
  },
  {
   "cell_type": "code",
   "execution_count": 3,
   "metadata": {},
   "outputs": [],
   "source": [
    "model_name = \"Snowflake/snowflake-arctic-embed-m-v2.0\"\n",
    "tokenizer = AutoTokenizer.from_pretrained(model_name, trust_remote_code=True)"
   ]
  },
  {
   "cell_type": "code",
   "execution_count": 16,
   "metadata": {},
   "outputs": [
    {
     "name": "stderr",
     "output_type": "stream",
     "text": [
      "Override attn_implementation='sdpa' to 'eager' as use_memory_efficient_attention='true'\n"
     ]
    },
    {
     "data": {
      "text/plain": [
       "SnowflakeClassifier(\n",
       "  (transformer): GteModel(\n",
       "    (embeddings): GteEmbeddings(\n",
       "      (word_embeddings): Embedding(250048, 768, padding_idx=1)\n",
       "      (rotary_emb): RotaryEmbedding()\n",
       "      (token_type_embeddings): Embedding(1, 768)\n",
       "      (LayerNorm): LayerNorm((768,), eps=1e-12, elementwise_affine=True)\n",
       "      (dropout): Dropout(p=0.1, inplace=False)\n",
       "    )\n",
       "    (encoder): GteEncoder(\n",
       "      (layer): ModuleList(\n",
       "        (0-11): 12 x GteLayer(\n",
       "          (attention): GteAttention(\n",
       "            (qkv_proj): Linear(in_features=768, out_features=2304, bias=True)\n",
       "            (dropout): Dropout(p=0.0, inplace=False)\n",
       "            (o_proj): Linear(in_features=768, out_features=768, bias=True)\n",
       "          )\n",
       "          (mlp): GteGatedMLP(\n",
       "            (up_gate_proj): Linear(in_features=768, out_features=6144, bias=False)\n",
       "            (down_proj): Linear(in_features=3072, out_features=768, bias=True)\n",
       "            (act_fn): GELUActivation()\n",
       "            (hidden_dropout): Dropout(p=0.1, inplace=False)\n",
       "          )\n",
       "          (attn_ln): LayerNorm((768,), eps=1e-12, elementwise_affine=True)\n",
       "          (mlp_ln): LayerNorm((768,), eps=1e-12, elementwise_affine=True)\n",
       "          (hidden_dropout): Dropout(p=0.1, inplace=False)\n",
       "        )\n",
       "      )\n",
       "    )\n",
       "  )\n",
       "  (dropout): Dropout(p=0.175, inplace=False)\n",
       "  (classifier): Linear(in_features=768, out_features=2, bias=True)\n",
       ")"
      ]
     },
     "execution_count": 16,
     "metadata": {},
     "output_type": "execute_result"
    }
   ],
   "source": [
    "model_name = \"Snowflake/snowflake-arctic-embed-m-v2.0\"\n",
    "num_labels = 2\n",
    "dropout_value = 0.175\n",
    "model_cross = SnowflakeClassifier(model_name, num_labels, dropout_value)\n",
    "device = \"cpu\"\n",
    "model_cross.to(device)"
   ]
  },
  {
   "cell_type": "code",
   "execution_count": 23,
   "metadata": {},
   "outputs": [
    {
     "ename": "UnpicklingError",
     "evalue": "Weights only load failed. This file can still be loaded, to do so you have two options, \u001b[1mdo those steps only if you trust the source of the checkpoint\u001b[0m. \n\t(1) In PyTorch 2.6, we changed the default value of the `weights_only` argument in `torch.load` from `False` to `True`. Re-running `torch.load` with `weights_only` set to `False` will likely succeed, but it can result in arbitrary code execution. Do it only if you got the file from a trusted source.\n\t(2) Alternatively, to load with `weights_only=True` please check the recommended steps in the following error message.\n\tWeightsUnpickler error: Unsupported global: GLOBAL __main__.SnowflakeClassifier was not an allowed global by default. Please use `torch.serialization.add_safe_globals([SnowflakeClassifier])` or the `torch.serialization.safe_globals([SnowflakeClassifier])` context manager to allowlist this global if you trust this class/function.\n\nCheck the documentation of torch.load to learn more about types accepted by default with weights_only https://pytorch.org/docs/stable/generated/torch.load.html.",
     "output_type": "error",
     "traceback": [
      "\u001b[0;31m---------------------------------------------------------------------------\u001b[0m",
      "\u001b[0;31mUnpicklingError\u001b[0m                           Traceback (most recent call last)",
      "Cell \u001b[0;32mIn[23], line 2\u001b[0m\n\u001b[1;32m      1\u001b[0m \u001b[38;5;28;01mimport\u001b[39;00m\u001b[38;5;250m \u001b[39m\u001b[38;5;21;01mtorch\u001b[39;00m\n\u001b[0;32m----> 2\u001b[0m model_cross \u001b[38;5;241m=\u001b[39m \u001b[43mtorch\u001b[49m\u001b[38;5;241;43m.\u001b[39;49m\u001b[43mload\u001b[49m\u001b[43m(\u001b[49m\u001b[38;5;124;43m\"\u001b[39;49m\u001b[38;5;124;43mpretrained_crossencoder.pt\u001b[39;49m\u001b[38;5;124;43m\"\u001b[39;49m\u001b[43m,\u001b[49m\u001b[43m \u001b[49m\u001b[43mweights_only\u001b[49m\u001b[38;5;241;43m=\u001b[39;49m\u001b[38;5;28;43;01mTrue\u001b[39;49;00m\u001b[43m)\u001b[49m\n",
      "File \u001b[0;32m~/EbbaElise/exjobb-main/ebbaelise/lib/python3.12/site-packages/torch/serialization.py:1470\u001b[0m, in \u001b[0;36mload\u001b[0;34m(f, map_location, pickle_module, weights_only, mmap, **pickle_load_args)\u001b[0m\n\u001b[1;32m   1462\u001b[0m                 \u001b[38;5;28;01mreturn\u001b[39;00m _load(\n\u001b[1;32m   1463\u001b[0m                     opened_zipfile,\n\u001b[1;32m   1464\u001b[0m                     map_location,\n\u001b[0;32m   (...)\u001b[0m\n\u001b[1;32m   1467\u001b[0m                     \u001b[38;5;241m*\u001b[39m\u001b[38;5;241m*\u001b[39mpickle_load_args,\n\u001b[1;32m   1468\u001b[0m                 )\n\u001b[1;32m   1469\u001b[0m             \u001b[38;5;28;01mexcept\u001b[39;00m pickle\u001b[38;5;241m.\u001b[39mUnpicklingError \u001b[38;5;28;01mas\u001b[39;00m e:\n\u001b[0;32m-> 1470\u001b[0m                 \u001b[38;5;28;01mraise\u001b[39;00m pickle\u001b[38;5;241m.\u001b[39mUnpicklingError(_get_wo_message(\u001b[38;5;28mstr\u001b[39m(e))) \u001b[38;5;28;01mfrom\u001b[39;00m\u001b[38;5;250m \u001b[39m\u001b[38;5;28;01mNone\u001b[39;00m\n\u001b[1;32m   1471\u001b[0m         \u001b[38;5;28;01mreturn\u001b[39;00m _load(\n\u001b[1;32m   1472\u001b[0m             opened_zipfile,\n\u001b[1;32m   1473\u001b[0m             map_location,\n\u001b[0;32m   (...)\u001b[0m\n\u001b[1;32m   1476\u001b[0m             \u001b[38;5;241m*\u001b[39m\u001b[38;5;241m*\u001b[39mpickle_load_args,\n\u001b[1;32m   1477\u001b[0m         )\n\u001b[1;32m   1478\u001b[0m \u001b[38;5;28;01mif\u001b[39;00m mmap:\n",
      "\u001b[0;31mUnpicklingError\u001b[0m: Weights only load failed. This file can still be loaded, to do so you have two options, \u001b[1mdo those steps only if you trust the source of the checkpoint\u001b[0m. \n\t(1) In PyTorch 2.6, we changed the default value of the `weights_only` argument in `torch.load` from `False` to `True`. Re-running `torch.load` with `weights_only` set to `False` will likely succeed, but it can result in arbitrary code execution. Do it only if you got the file from a trusted source.\n\t(2) Alternatively, to load with `weights_only=True` please check the recommended steps in the following error message.\n\tWeightsUnpickler error: Unsupported global: GLOBAL __main__.SnowflakeClassifier was not an allowed global by default. Please use `torch.serialization.add_safe_globals([SnowflakeClassifier])` or the `torch.serialization.safe_globals([SnowflakeClassifier])` context manager to allowlist this global if you trust this class/function.\n\nCheck the documentation of torch.load to learn more about types accepted by default with weights_only https://pytorch.org/docs/stable/generated/torch.load.html."
     ]
    }
   ],
   "source": [
    "import torch\n",
    "model_cross = torch.load(\"pretrained_crossencoder.pt\", weights_only=True)"
   ]
  },
  {
   "cell_type": "code",
   "execution_count": 5,
   "metadata": {},
   "outputs": [
    {
     "data": {
      "text/plain": [
       "SnowflakeClassifier(\n",
       "  (transformer): GteModel(\n",
       "    (embeddings): GteEmbeddings(\n",
       "      (word_embeddings): Embedding(250048, 768, padding_idx=1)\n",
       "      (rotary_emb): RotaryEmbedding()\n",
       "      (token_type_embeddings): Embedding(1, 768)\n",
       "      (LayerNorm): LayerNorm((768,), eps=1e-12, elementwise_affine=True)\n",
       "      (dropout): Dropout(p=0.1, inplace=False)\n",
       "    )\n",
       "    (encoder): GteEncoder(\n",
       "      (layer): ModuleList(\n",
       "        (0-11): 12 x GteLayer(\n",
       "          (attention): GteSdpaAttention(\n",
       "            (qkv_proj): Linear(in_features=768, out_features=2304, bias=True)\n",
       "            (dropout): Dropout(p=0.0, inplace=False)\n",
       "            (o_proj): Linear(in_features=768, out_features=768, bias=True)\n",
       "          )\n",
       "          (mlp): GteGatedMLP(\n",
       "            (up_gate_proj): Linear(in_features=768, out_features=6144, bias=False)\n",
       "            (down_proj): Linear(in_features=3072, out_features=768, bias=True)\n",
       "            (act_fn): GELUActivation()\n",
       "            (hidden_dropout): Dropout(p=0.1, inplace=False)\n",
       "          )\n",
       "          (attn_ln): LayerNorm((768,), eps=1e-12, elementwise_affine=True)\n",
       "          (mlp_ln): LayerNorm((768,), eps=1e-12, elementwise_affine=True)\n",
       "          (hidden_dropout): Dropout(p=0.1, inplace=False)\n",
       "        )\n",
       "      )\n",
       "    )\n",
       "  )\n",
       "  (dropout): Dropout(p=0.175, inplace=False)\n",
       "  (classifier): Linear(in_features=768, out_features=2, bias=True)\n",
       ")"
      ]
     },
     "execution_count": 5,
     "metadata": {},
     "output_type": "execute_result"
    }
   ],
   "source": [
    "import torch\n",
    "model_cross.load_state_dict(torch.load(\"cross_encoder_temp0.pt\", map_location=\"cpu\"))\n",
    "model_cross.to(device)"
   ]
  },
  {
   "cell_type": "code",
   "execution_count": 23,
   "metadata": {},
   "outputs": [
    {
     "name": "stdout",
     "output_type": "stream",
     "text": [
      "cpu\n"
     ]
    }
   ],
   "source": [
    "#model_cross.to(\"cpu\")\n",
    "print(next(model_cross.parameters()).device)"
   ]
  },
  {
   "cell_type": "code",
   "execution_count": 40,
   "metadata": {},
   "outputs": [
    {
     "data": {
      "text/plain": [
       "GteModel(\n",
       "  (embeddings): GteEmbeddings(\n",
       "    (word_embeddings): Embedding(250048, 768, padding_idx=1)\n",
       "    (rotary_emb): RotaryEmbedding()\n",
       "    (token_type_embeddings): Embedding(1, 768)\n",
       "    (LayerNorm): LayerNorm((768,), eps=1e-12, elementwise_affine=True)\n",
       "    (dropout): Dropout(p=0.1, inplace=False)\n",
       "  )\n",
       "  (encoder): GteEncoder(\n",
       "    (layer): ModuleList(\n",
       "      (0-11): 12 x GteLayer(\n",
       "        (attention): GteAttention(\n",
       "          (qkv_proj): Linear(in_features=768, out_features=2304, bias=True)\n",
       "          (dropout): Dropout(p=0.0, inplace=False)\n",
       "          (o_proj): Linear(in_features=768, out_features=768, bias=True)\n",
       "        )\n",
       "        (mlp): GteGatedMLP(\n",
       "          (up_gate_proj): Linear(in_features=768, out_features=6144, bias=False)\n",
       "          (down_proj): Linear(in_features=3072, out_features=768, bias=True)\n",
       "          (act_fn): GELUActivation()\n",
       "          (hidden_dropout): Dropout(p=0.1, inplace=False)\n",
       "        )\n",
       "        (attn_ln): LayerNorm((768,), eps=1e-12, elementwise_affine=True)\n",
       "        (mlp_ln): LayerNorm((768,), eps=1e-12, elementwise_affine=True)\n",
       "        (hidden_dropout): Dropout(p=0.1, inplace=False)\n",
       "      )\n",
       "    )\n",
       "  )\n",
       ")"
      ]
     },
     "execution_count": 40,
     "metadata": {},
     "output_type": "execute_result"
    }
   ],
   "source": [
    "model_cross.transformer"
   ]
  },
  {
   "cell_type": "code",
   "execution_count": 93,
   "metadata": {},
   "outputs": [
    {
     "data": {
      "text/plain": [
       "0.175"
      ]
     },
     "execution_count": 93,
     "metadata": {},
     "output_type": "execute_result"
    }
   ],
   "source": [
    "model_cross.dropout.p"
   ]
  },
  {
   "cell_type": "code",
   "execution_count": null,
   "metadata": {},
   "outputs": [],
   "source": [
    "nbr_layers = 0\n",
    "for _,_ in model_cross.named_parameters():\n",
    "    nbr_layers +=1"
   ]
  },
  {
   "cell_type": "code",
   "execution_count": 28,
   "metadata": {},
   "outputs": [],
   "source": [
    "# freeze transformer layers\n",
    "for name, param in model_cross.named_parameters():\n",
    "    if name.startswith(\"transformer\"):\n",
    "        param.requires_grad = False\n",
    "\n",
    "# unfreeze some layers\n",
    "for idx,(name, param) in enumerate(model_cross.named_parameters()):\n",
    "    if idx>=nbr_layers-57:\n",
    "        param.requires_grad = True"
   ]
  },
  {
   "cell_type": "code",
   "execution_count": 9,
   "metadata": {},
   "outputs": [
    {
     "data": {
      "text/plain": [
       "138"
      ]
     },
     "execution_count": 9,
     "metadata": {},
     "output_type": "execute_result"
    }
   ],
   "source": [
    "nbr_layers"
   ]
  },
  {
   "cell_type": "code",
   "execution_count": 29,
   "metadata": {},
   "outputs": [
    {
     "name": "stdout",
     "output_type": "stream",
     "text": [
      "transformer.encoder.layer.5.attention.qkv_proj.bias False\n",
      "transformer.encoder.layer.5.attention.o_proj.weight False\n",
      "transformer.encoder.layer.5.attention.o_proj.bias False\n",
      "transformer.encoder.layer.5.mlp.up_gate_proj.weight False\n",
      "transformer.encoder.layer.5.mlp.down_proj.weight False\n",
      "transformer.encoder.layer.5.mlp.down_proj.bias False\n",
      "transformer.encoder.layer.5.attn_ln.weight False\n",
      "transformer.encoder.layer.5.attn_ln.bias False\n",
      "transformer.encoder.layer.5.mlp_ln.weight False\n",
      "transformer.encoder.layer.5.mlp_ln.bias False\n",
      "transformer.encoder.layer.6.attention.qkv_proj.weight False\n",
      "transformer.encoder.layer.6.attention.qkv_proj.bias False\n",
      "transformer.encoder.layer.6.attention.o_proj.weight False\n",
      "transformer.encoder.layer.6.attention.o_proj.bias False\n",
      "transformer.encoder.layer.6.mlp.up_gate_proj.weight False\n",
      "transformer.encoder.layer.6.mlp.down_proj.weight False\n",
      "transformer.encoder.layer.6.mlp.down_proj.bias False\n",
      "transformer.encoder.layer.6.attn_ln.weight False\n",
      "transformer.encoder.layer.6.attn_ln.bias False\n",
      "transformer.encoder.layer.6.mlp_ln.weight False\n",
      "transformer.encoder.layer.6.mlp_ln.bias False\n",
      "transformer.encoder.layer.7.attention.qkv_proj.weight True\n",
      "transformer.encoder.layer.7.attention.qkv_proj.bias True\n",
      "transformer.encoder.layer.7.attention.o_proj.weight True\n",
      "transformer.encoder.layer.7.attention.o_proj.bias True\n",
      "transformer.encoder.layer.7.mlp.up_gate_proj.weight True\n",
      "transformer.encoder.layer.7.mlp.down_proj.weight True\n",
      "transformer.encoder.layer.7.mlp.down_proj.bias True\n",
      "transformer.encoder.layer.7.attn_ln.weight True\n",
      "transformer.encoder.layer.7.attn_ln.bias True\n",
      "transformer.encoder.layer.7.mlp_ln.weight True\n",
      "transformer.encoder.layer.7.mlp_ln.bias True\n",
      "transformer.encoder.layer.8.attention.qkv_proj.weight True\n",
      "transformer.encoder.layer.8.attention.qkv_proj.bias True\n",
      "transformer.encoder.layer.8.attention.o_proj.weight True\n",
      "transformer.encoder.layer.8.attention.o_proj.bias True\n",
      "transformer.encoder.layer.8.mlp.up_gate_proj.weight True\n",
      "transformer.encoder.layer.8.mlp.down_proj.weight True\n",
      "transformer.encoder.layer.8.mlp.down_proj.bias True\n",
      "transformer.encoder.layer.8.attn_ln.weight True\n",
      "transformer.encoder.layer.8.attn_ln.bias True\n",
      "transformer.encoder.layer.8.mlp_ln.weight True\n",
      "transformer.encoder.layer.8.mlp_ln.bias True\n",
      "transformer.encoder.layer.9.attention.qkv_proj.weight True\n",
      "transformer.encoder.layer.9.attention.qkv_proj.bias True\n",
      "transformer.encoder.layer.9.attention.o_proj.weight True\n",
      "transformer.encoder.layer.9.attention.o_proj.bias True\n",
      "transformer.encoder.layer.9.mlp.up_gate_proj.weight True\n",
      "transformer.encoder.layer.9.mlp.down_proj.weight True\n",
      "transformer.encoder.layer.9.mlp.down_proj.bias True\n",
      "transformer.encoder.layer.9.attn_ln.weight True\n",
      "transformer.encoder.layer.9.attn_ln.bias True\n",
      "transformer.encoder.layer.9.mlp_ln.weight True\n",
      "transformer.encoder.layer.9.mlp_ln.bias True\n",
      "transformer.encoder.layer.10.attention.qkv_proj.weight True\n",
      "transformer.encoder.layer.10.attention.qkv_proj.bias True\n",
      "transformer.encoder.layer.10.attention.o_proj.weight True\n",
      "transformer.encoder.layer.10.attention.o_proj.bias True\n",
      "transformer.encoder.layer.10.mlp.up_gate_proj.weight True\n",
      "transformer.encoder.layer.10.mlp.down_proj.weight True\n",
      "transformer.encoder.layer.10.mlp.down_proj.bias True\n",
      "transformer.encoder.layer.10.attn_ln.weight True\n",
      "transformer.encoder.layer.10.attn_ln.bias True\n",
      "transformer.encoder.layer.10.mlp_ln.weight True\n",
      "transformer.encoder.layer.10.mlp_ln.bias True\n",
      "transformer.encoder.layer.11.attention.qkv_proj.weight True\n",
      "transformer.encoder.layer.11.attention.qkv_proj.bias True\n",
      "transformer.encoder.layer.11.attention.o_proj.weight True\n",
      "transformer.encoder.layer.11.attention.o_proj.bias True\n",
      "transformer.encoder.layer.11.mlp.up_gate_proj.weight True\n",
      "transformer.encoder.layer.11.mlp.down_proj.weight True\n",
      "transformer.encoder.layer.11.mlp.down_proj.bias True\n",
      "transformer.encoder.layer.11.attn_ln.weight True\n",
      "transformer.encoder.layer.11.attn_ln.bias True\n",
      "transformer.encoder.layer.11.mlp_ln.weight True\n",
      "transformer.encoder.layer.11.mlp_ln.bias True\n",
      "classifier.weight True\n",
      "classifier.bias True\n"
     ]
    }
   ],
   "source": [
    "for idx,(name, param) in enumerate(model_cross.named_parameters()):\n",
    "    if idx>=60:\n",
    "        print(name, param.requires_grad)"
   ]
  },
  {
   "cell_type": "markdown",
   "metadata": {},
   "source": [
    "### Create triplets/choose examples"
   ]
  },
  {
   "cell_type": "code",
   "execution_count": 12,
   "metadata": {},
   "outputs": [],
   "source": [
    "from datasets import Dataset\n",
    "from datasets import load_from_disk\n",
    "\n",
    "qrel_train = load_from_disk(\"qrel_train\")\n",
    "query_train = load_from_disk(\"query_train\")\n",
    "qrel_test = load_from_disk(\"qrel_test\")\n",
    "query_test = load_from_disk(\"query_test\")\n",
    "corpus_ds = load_from_disk(\"corpus_ds\")"
   ]
  },
  {
   "cell_type": "code",
   "execution_count": 13,
   "metadata": {},
   "outputs": [],
   "source": [
    "top_100_labels_train = load_from_disk(\"top_100_labels_train.npy\")\n",
    "bot_100_labels_train = load_from_disk(\"bot_100_labels_train.npy\")\n",
    "\n",
    "top_100_labels_test = load_from_disk(\"top_100_labels_test.npy\")\n",
    "bot_100_labels_test = load_from_disk(\"bot_100_labels_test.npy\")"
   ]
  },
  {
   "cell_type": "code",
   "execution_count": 14,
   "metadata": {},
   "outputs": [],
   "source": [
    "corpus_id = corpus_ds[\"product_id\"]\n",
    "p_id_to_index = {p_id: idx for idx,p_id in enumerate(corpus_id)}"
   ]
  },
  {
   "cell_type": "code",
   "execution_count": 15,
   "metadata": {},
   "outputs": [],
   "source": [
    "import random\n",
    "\n",
    "m = len(query_train[\"query\"])\n",
    "queries = query_train[\"query\"]\n",
    "query_ids = query_train[\"query_id\"]\n",
    "positives = []\n",
    "negatives = []\n",
    "qrel_queries = qrel_train[\"query_id\"]\n",
    "qrel_pos = qrel_train[\"product_id\"]\n",
    "negative_examples = []\n",
    "notin100 = 0\n",
    "none_count = 0\n",
    "no_top_100 = 0\n",
    "qrel_count = 0\n",
    "\n",
    "labels = top_100_labels_train[\"label\"]\n",
    "product_ids = top_100_labels_train[\"product_id\"]\n",
    "for i in range(m):\n",
    "    j = 0\n",
    "    positive_examples = []\n",
    "    found_id = []\n",
    "    while len(found_id)<1:\n",
    "        while j<100 and labels[i*100+j] == 0: #hämtar högst rankade relevanta produkten\n",
    "            j += 1\n",
    "        if j>=100:\n",
    "            if j==100 and len(found_id)==0:\n",
    "                no_top_100 += 1\n",
    "            idx = qrel_queries.index(query_ids[i])\n",
    "            while idx is not None and qrel_pos[idx] in found_id:\n",
    "                try:\n",
    "                    idx = qrel_queries[idx+1:].index(query_ids[i])+(idx+1)\n",
    "                except ValueError:\n",
    "                    idx = None\n",
    "            if idx is not None:\n",
    "                positive_examples.append(corpus_ds[p_id_to_index[qrel_pos[idx]]][\"combined_text\"])#väljer en relevant om ingen fanns i top 100\n",
    "                found_id.append(qrel_pos[idx])\n",
    "                qrel_count += 1\n",
    "            else:\n",
    "                found_id.append(None)\n",
    "                none_count += 1\n",
    "            notin100 +=1 \n",
    "        else:\n",
    "            positive_examples.append(corpus_ds[p_id_to_index[product_ids[i*100+j]]][\"combined_text\"])\n",
    "            found_id.append(product_ids[i*100+j])\n",
    "        j += 1\n",
    "    positives.append(positive_examples)\n",
    "\n",
    "for i in range(m):\n",
    "    j = 99\n",
    "    negative_examples = []\n",
    "    found_idx = []\n",
    "    while len(found_idx)<1:\n",
    "        while labels[i*100+j] == 1: #hämtar högst rankade relevanta produkten\n",
    "            j -= 1\n",
    "        if j<0:\n",
    "            print(\"inga negativa kvar!\")\n",
    "        found_idx += [j]\n",
    "        negative_examples.append(corpus_ds[p_id_to_index[product_ids[i*100+j]]][\"combined_text\"])\n",
    "        j-=1\n",
    "    negatives.append(negative_examples)\n",
    "\"\"\"\n",
    "\n",
    "corpus_id = corpus_ds[\"product_id\"]\n",
    "corpus_text = corpus_ds[\"combined_text\"]\n",
    "qrel_dict = {}\n",
    "for row in qrel_train:\n",
    "    qrel_dict[(row[\"query_id\"], row[\"product_id\"])] = 1\n",
    "\n",
    "for i in range(m):\n",
    "    negative_examples = []\n",
    "    found_idx = []\n",
    "    while len(found_idx)<1:\n",
    "        idx = random.randint(0,len(corpus_ds))\n",
    "        while idx in found_idx or (query_ids[i], corpus_id[idx]) in qrel_dict: #väljer random icke-relevant produkt\n",
    "            idx = random.randint(0,len(corpus_ds))\n",
    "        found_idx.append(idx)\n",
    "        negative_examples.append(corpus_text[idx])\n",
    "    negatives.append(negative_examples)\n",
    "\"\"\"\n",
    "train_dict = {\"query\": queries, \"positive\": positives, \"negative\": negatives}\n",
    "train_dataset_triplet = Dataset.from_dict(train_dict).shuffle(seed=42)"
   ]
  },
  {
   "cell_type": "code",
   "execution_count": 5,
   "metadata": {},
   "outputs": [],
   "source": [
    "triplet_dict = train_dataset_triplet[:12500]\n",
    "train_dataset_triplet = Dataset.from_dict(triplet_dict)"
   ]
  },
  {
   "cell_type": "code",
   "execution_count": 16,
   "metadata": {},
   "outputs": [
    {
     "data": {
      "text/plain": [
       "Dataset({\n",
       "    features: ['query', 'positive', 'negative'],\n",
       "    num_rows: 74887\n",
       "})"
      ]
     },
     "execution_count": 16,
     "metadata": {},
     "output_type": "execute_result"
    }
   ],
   "source": [
    "train_dataset_triplet"
   ]
  },
  {
   "cell_type": "code",
   "execution_count": 30,
   "metadata": {},
   "outputs": [
    {
     "data": {
      "text/plain": [
       "4237"
      ]
     },
     "execution_count": 30,
     "metadata": {},
     "output_type": "execute_result"
    }
   ],
   "source": [
    "no_top_100"
   ]
  },
  {
   "cell_type": "code",
   "execution_count": 31,
   "metadata": {},
   "outputs": [
    {
     "data": {
      "text/plain": [
       "4237"
      ]
     },
     "execution_count": 31,
     "metadata": {},
     "output_type": "execute_result"
    }
   ],
   "source": [
    "qrel_count"
   ]
  },
  {
   "cell_type": "code",
   "execution_count": 32,
   "metadata": {},
   "outputs": [
    {
     "data": {
      "text/plain": [
       "0"
      ]
     },
     "execution_count": 32,
     "metadata": {},
     "output_type": "execute_result"
    }
   ],
   "source": [
    "none_count"
   ]
  },
  {
   "cell_type": "code",
   "execution_count": null,
   "metadata": {},
   "outputs": [],
   "source": [
    "train_dataset_triplet"
   ]
  },
  {
   "cell_type": "code",
   "execution_count": null,
   "metadata": {},
   "outputs": [],
   "source": [
    "n = len(query_test[\"query\"])\n",
    "queries = query_test[\"query\"]\n",
    "query_ids = query_test[\"query_id\"]\n",
    "positives = []\n",
    "negatives = []\n",
    "qrel_queries = qrel_test[\"query_id\"]\n",
    "qrel_pos = qrel_test[\"product_id\"]\n",
    "\n",
    "labels = top_100_labels_test[\"label\"]\n",
    "product_ids = top_100_labels_test[\"product_id\"]\n",
    "for i in range(n):\n",
    "    j = 0\n",
    "    while j<100 and labels[i*100+j] == 0: #hämtar högst rankade relevanta produkten\n",
    "        j += 1\n",
    "    if j==100:\n",
    "        idx = qrel_queries.index(query_ids[i])\n",
    "        positives.append(corpus_ds[p_id_to_index[qrel_pos[idx]]][\"combined_text\"])\n",
    "    else:\n",
    "        positives.append(corpus_ds[p_id_to_index[product_ids[i*100+j]]][\"combined_text\"]) #väljer en relevant om ingen fanns i top 100\n",
    "\"\"\"\n",
    "for i in range(n):\n",
    "    j = 99\n",
    "    while labels[i*100+j] == 1: #hämtar högst rankade relevanta produkten\n",
    "        j -= 1\n",
    "    negatives.append(corpus_ds[p_id_to_index[product_ids[i*100+j]]][\"combined_text\"])\n",
    "\"\"\"\n",
    "qrel_dict = {}\n",
    "for row in qrel_test:\n",
    "    qrel_dict[(row[\"query_id\"], row[\"product_id\"])] = 1\n",
    "\n",
    "for i in range(n):\n",
    "    idx = random.randint(0,len(corpus_ds))\n",
    "    while (query_ids[i], corpus_id[idx]) in qrel_dict: #väljer random icke-relevant produkt\n",
    "        idx = random.randint(0,len(corpus_ds))\n",
    "    negatives.append(corpus_text[idx])\n",
    "\n",
    "eval_dict = {\"query\": queries, \"positive\": positives, \"negative\": negatives}\n",
    "eval_dataset_triplet = Dataset.from_dict(eval_dict).shuffle(seed=42)"
   ]
  },
  {
   "cell_type": "markdown",
   "metadata": {},
   "source": [
    "### Create dataset with pairs of queries and examples"
   ]
  },
  {
   "cell_type": "code",
   "execution_count": null,
   "metadata": {},
   "outputs": [],
   "source": [
    "pairs = []\n",
    "labels = []\n",
    "for triplet in train_dataset_triplet:\n",
    "    for pos in triplet[\"positive\"]:\n",
    "        pairs.append([triplet[\"query\"], pos])\n",
    "        labels.append(1)\n",
    "    for neg in triplet[\"negative\"]:\n",
    "        pairs.append([triplet[\"query\"], neg])\n",
    "        labels.append(0)\n",
    "\n",
    "train_dict = {\"data\": pairs, \"label\": labels}\n",
    "train_dataset = Dataset.from_dict(train_dict)"
   ]
  },
  {
   "cell_type": "code",
   "execution_count": 18,
   "metadata": {},
   "outputs": [
    {
     "data": {
      "text/plain": [
       "Dataset({\n",
       "    features: ['data', 'label'],\n",
       "    num_rows: 149774\n",
       "})"
      ]
     },
     "execution_count": 18,
     "metadata": {},
     "output_type": "execute_result"
    }
   ],
   "source": [
    "train_dataset"
   ]
  },
  {
   "cell_type": "code",
   "execution_count": 15,
   "metadata": {},
   "outputs": [],
   "source": [
    "pairs = []\n",
    "labels = []\n",
    "for triplet in eval_dataset_triplet:\n",
    "    pairs.append([triplet[\"query\"], triplet[\"positive\"]])\n",
    "    labels.append(1)\n",
    "    pairs.append([triplet[\"query\"], triplet[\"negative\"]])\n",
    "    labels.append(0)\n",
    "\n",
    "eval_dict = {\"data\": pairs, \"label\": labels}\n",
    "eval_dataset = Dataset.from_dict(eval_dict)"
   ]
  },
  {
   "cell_type": "markdown",
   "metadata": {},
   "source": [
    "### Create dataloader"
   ]
  },
  {
   "cell_type": "code",
   "execution_count": 19,
   "metadata": {},
   "outputs": [
    {
     "data": {
      "application/vnd.jupyter.widget-view+json": {
       "model_id": "a7d3e3cadf494c999cafc1c9ee8f412c",
       "version_major": 2,
       "version_minor": 0
      },
      "text/plain": [
       "Saving the dataset (0/1 shards):   0%|          | 0/149774 [00:00<?, ? examples/s]"
      ]
     },
     "metadata": {},
     "output_type": "display_data"
    }
   ],
   "source": [
    "train_dataset.save_to_disk(\"train_dataset11\")"
   ]
  },
  {
   "cell_type": "code",
   "execution_count": 6,
   "metadata": {},
   "outputs": [],
   "source": [
    "from datasets import load_from_disk\n",
    "train_dataset = load_from_disk(\"small_TRAIN12\")\n",
    "eval_dataset = load_from_disk(\"small_EVAL\")"
   ]
  },
  {
   "cell_type": "code",
   "execution_count": 8,
   "metadata": {},
   "outputs": [
    {
     "data": {
      "text/plain": [
       "Dataset({\n",
       "    features: ['data', 'label'],\n",
       "    num_rows: 37500\n",
       "})"
      ]
     },
     "execution_count": 8,
     "metadata": {},
     "output_type": "execute_result"
    }
   ],
   "source": [
    "train_dataset"
   ]
  },
  {
   "cell_type": "code",
   "execution_count": null,
   "metadata": {},
   "outputs": [],
   "source": [
    "from datasets import Dataset\n",
    "#train_dataset = train_dataset[:37500]\n",
    "eval_dataset = eval_dataset[:2000]\n",
    "\n",
    "#train_dataset = Dataset.from_dict(train_dataset).shuffle(seed=42)\n",
    "train_dataset = train_dataset.shuffle(seed=42)\n",
    "eval_dataset = Dataset.from_dict(eval_dataset).shuffle(seed=42)"
   ]
  },
  {
   "cell_type": "code",
   "execution_count": 8,
   "metadata": {},
   "outputs": [],
   "source": [
    "from torch.utils.data import TensorDataset, DataLoader\n",
    "\n",
    "batch_size = 32\n",
    "tokens = tokenizer(train_dataset[\"data\"], padding=True, truncation=True, return_tensors=\"pt\", max_length=512)\n",
    "dataset = TensorDataset(tokens[\"input_ids\"], tokens[\"attention_mask\"], torch.tensor(train_dataset[\"label\"]))\n",
    "dataloader = DataLoader(dataset, batch_size=batch_size, shuffle=False, drop_last=True)\n",
    "eval_tokens = tokenizer(eval_dataset[\"data\"], padding=True, truncation=True, return_tensors=\"pt\")\n",
    "eval_dataset = TensorDataset(eval_tokens[\"input_ids\"], eval_tokens[\"attention_mask\"], torch.tensor(eval_dataset[\"label\"]))\n",
    "eval_dataloader = DataLoader(eval_dataset, batch_size=batch_size, shuffle=False, drop_last=True)\n",
    "\n",
    "loss_fn = nn.CrossEntropyLoss()"
   ]
  },
  {
   "cell_type": "code",
   "execution_count": 27,
   "metadata": {},
   "outputs": [
    {
     "data": {
      "text/plain": [
       "Dataset({\n",
       "    features: ['data', 'label'],\n",
       "    num_rows: 1531308\n",
       "})"
      ]
     },
     "execution_count": 27,
     "metadata": {},
     "output_type": "execute_result"
    }
   ],
   "source": [
    "temp_dataset"
   ]
  },
  {
   "cell_type": "code",
   "execution_count": 22,
   "metadata": {},
   "outputs": [],
   "source": [
    "from torch.utils.data import TensorDataset, DataLoader\n",
    "\n",
    "tokens = tokenizer(train_dataset[\"data\"], padding=True, truncation=True, return_tensors=\"pt\", max_length=512)\n",
    "#tokens1 = tokenizer(train_dataset[\"data\"][:100000], padding=True, truncation=True, return_tensors=\"pt\", max_length=512)\n",
    "#tokens2 = tokenizer(train_dataset[\"data\"][100000:], padding=True, truncation=True, return_tensors=\"pt\", max_length=512)"
   ]
  },
  {
   "cell_type": "code",
   "execution_count": 13,
   "metadata": {},
   "outputs": [],
   "source": [
    "from collections import defaultdict\n",
    "tokens = defaultdict(list)\n",
    "tokens[\"input_ids\"] = torch.cat([tokens1[\"input_ids\"],tokens2[\"input_ids\"]])\n",
    "tokens[\"attention_mask\"] = torch.cat([tokens1[\"attention_mask\"],tokens2[\"attention_mask\"]])\n"
   ]
  },
  {
   "cell_type": "code",
   "execution_count": 23,
   "metadata": {},
   "outputs": [],
   "source": [
    "dataset = TensorDataset(tokens[\"input_ids\"], tokens[\"attention_mask\"], torch.tensor(train_dataset[\"label\"]))"
   ]
  },
  {
   "cell_type": "code",
   "execution_count": 24,
   "metadata": {},
   "outputs": [],
   "source": [
    "dataloader = DataLoader(dataset, batch_size=32, shuffle=False, drop_last=True)"
   ]
  },
  {
   "cell_type": "code",
   "execution_count": 25,
   "metadata": {},
   "outputs": [],
   "source": [
    "\n",
    "loss_fn = nn.CrossEntropyLoss()\n",
    "\n",
    "eval_tokens = tokenizer(eval_dataset[\"data\"], padding=True, truncation=True, return_tensors=\"pt\")\n",
    "eval_dataset = TensorDataset(eval_tokens[\"input_ids\"], eval_tokens[\"attention_mask\"], torch.tensor(eval_dataset[\"label\"]))\n",
    "eval_dataloader = DataLoader(eval_dataset, batch_size=32, shuffle=False, drop_last=True)"
   ]
  },
  {
   "cell_type": "code",
   "execution_count": 16,
   "metadata": {},
   "outputs": [
    {
     "data": {
      "text/plain": [
       "390"
      ]
     },
     "execution_count": 16,
     "metadata": {},
     "output_type": "execute_result"
    }
   ],
   "source": [
    "len(dataloader)"
   ]
  },
  {
   "cell_type": "code",
   "execution_count": 33,
   "metadata": {},
   "outputs": [
    {
     "data": {
      "text/plain": [
       "SnowflakeClassifier(\n",
       "  (transformer): GteModel(\n",
       "    (embeddings): GteEmbeddings(\n",
       "      (word_embeddings): Embedding(250048, 768, padding_idx=1)\n",
       "      (rotary_emb): RotaryEmbedding()\n",
       "      (token_type_embeddings): Embedding(1, 768)\n",
       "      (LayerNorm): LayerNorm((768,), eps=1e-12, elementwise_affine=True)\n",
       "      (dropout): Dropout(p=0.1, inplace=False)\n",
       "    )\n",
       "    (encoder): GteEncoder(\n",
       "      (layer): ModuleList(\n",
       "        (0-11): 12 x GteLayer(\n",
       "          (attention): GteSdpaAttention(\n",
       "            (qkv_proj): Linear(in_features=768, out_features=2304, bias=True)\n",
       "            (dropout): Dropout(p=0.0, inplace=False)\n",
       "            (o_proj): Linear(in_features=768, out_features=768, bias=True)\n",
       "          )\n",
       "          (mlp): GteGatedMLP(\n",
       "            (up_gate_proj): Linear(in_features=768, out_features=6144, bias=False)\n",
       "            (down_proj): Linear(in_features=3072, out_features=768, bias=True)\n",
       "            (act_fn): GELUActivation()\n",
       "            (hidden_dropout): Dropout(p=0.1, inplace=False)\n",
       "          )\n",
       "          (attn_ln): LayerNorm((768,), eps=1e-12, elementwise_affine=True)\n",
       "          (mlp_ln): LayerNorm((768,), eps=1e-12, elementwise_affine=True)\n",
       "          (hidden_dropout): Dropout(p=0.1, inplace=False)\n",
       "        )\n",
       "      )\n",
       "    )\n",
       "  )\n",
       "  (dropout): Dropout(p=0.175, inplace=False)\n",
       "  (classifier): Linear(in_features=768, out_features=2, bias=True)\n",
       ")"
      ]
     },
     "execution_count": 33,
     "metadata": {},
     "output_type": "execute_result"
    }
   ],
   "source": [
    "device=\"cpu\"\n",
    "model_cross.to(device)"
   ]
  },
  {
   "cell_type": "code",
   "execution_count": null,
   "metadata": {},
   "outputs": [
    {
     "name": "stdout",
     "output_type": "stream",
     "text": [
      "transformer.embeddings.position_ids\n",
      "transformer.embeddings.rotary_emb.inv_freq\n",
      "transformer.embeddings.rotary_emb.cos_cached\n",
      "transformer.embeddings.rotary_emb.sin_cached\n",
      "embeddings.position_ids\n",
      "embeddings.rotary_emb.inv_freq\n",
      "embeddings.rotary_emb.cos_cached\n",
      "embeddings.rotary_emb.sin_cached\n",
      "position_ids\n",
      "rotary_emb.inv_freq\n",
      "rotary_emb.cos_cached\n",
      "rotary_emb.sin_cached\n",
      "inv_freq\n",
      "cos_cached\n",
      "sin_cached\n"
     ]
    }
   ],
   "source": [
    "for module in model_cross.modules():\n",
    "    for name, buffer in module.named_buffers():\n",
    "        print(name)\n",
    "        if buffer is not None:\n",
    "            buffer.data = buffer.data.to(device)"
   ]
  },
  {
   "cell_type": "markdown",
   "metadata": {},
   "source": [
    "### Training loop"
   ]
  },
  {
   "cell_type": "code",
   "execution_count": 9,
   "metadata": {},
   "outputs": [
    {
     "name": "stderr",
     "output_type": "stream",
     "text": [
      "  0%|          | 0/10 [00:00<?, ?it/s]"
     ]
    },
    {
     "name": "stdout",
     "output_type": "stream",
     "text": [
      "lr: 1.0000000000000001e-07\n",
      "2.2870469093322754\n",
      "[0.7646967768669128]\n"
     ]
    },
    {
     "data": {
      "image/png": "[encoded data removed]",
      "text/plain": [
       "<Figure size 640x480 with 1 Axes>"
      ]
     },
     "metadata": {},
     "output_type": "display_data"
    },
    {
     "data": {
      "image/png": "[encoded data removed]",
      "text/plain": [
       "<Figure size 640x480 with 1 Axes>"
      ]
     },
     "metadata": {},
     "output_type": "display_data"
    },
    {
     "name": "stderr",
     "output_type": "stream",
     "text": [
      " 10%|█         | 1/10 [00:48<07:17, 48.62s/it]"
     ]
    },
    {
     "name": "stdout",
     "output_type": "stream",
     "text": [
      "lr: 0.0001\n",
      "2.328312873840332\n",
      "[0.8973280191421509]\n"
     ]
    },
    {
     "data": {
      "image/png": "[encoded data removed]",
      "text/plain": [
       "<Figure size 640x480 with 1 Axes>"
      ]
     },
     "metadata": {},
     "output_type": "display_data"
    },
    {
     "data": {
      "image/png": "[encoded data removed]",
      "text/plain": [
       "<Figure size 640x480 with 1 Axes>"
      ]
     },
     "metadata": {},
     "output_type": "display_data"
    },
    {
     "name": "stderr",
     "output_type": "stream",
     "text": [
      " 20%|██        | 2/10 [01:37<06:30, 48.84s/it]"
     ]
    },
    {
     "name": "stdout",
     "output_type": "stream",
     "text": [
      "lr: 5.05e-05\n"
     ]
    },
    {
     "name": "stderr",
     "output_type": "stream",
     "text": [
      " 20%|██        | 2/10 [01:42<06:50, 51.25s/it]\n"
     ]
    },
    {
     "ename": "KeyboardInterrupt",
     "evalue": "",
     "output_type": "error",
     "traceback": [
      "\u001b[0;31m---------------------------------------------------------------------------\u001b[0m",
      "\u001b[0;31mKeyboardInterrupt\u001b[0m                         Traceback (most recent call last)",
      "Cell \u001b[0;32mIn[9], line 33\u001b[0m\n\u001b[1;32m     31\u001b[0m tokens \u001b[38;5;241m=\u001b[39m {\u001b[38;5;124m\"\u001b[39m\u001b[38;5;124minput_ids\u001b[39m\u001b[38;5;124m\"\u001b[39m: input_ids\u001b[38;5;241m.\u001b[39mto(device), \u001b[38;5;124m\"\u001b[39m\u001b[38;5;124mattention_mask\u001b[39m\u001b[38;5;124m\"\u001b[39m: attention_mask\u001b[38;5;241m.\u001b[39mto(device)} \u001b[38;5;66;03m#får inte till på nåt annat sätt\u001b[39;00m\n\u001b[1;32m     32\u001b[0m y_batch \u001b[38;5;241m=\u001b[39m y_batch\u001b[38;5;241m.\u001b[39mto(device)\n\u001b[0;32m---> 33\u001b[0m y_pred \u001b[38;5;241m=\u001b[39m \u001b[43mmodel_cross\u001b[49m\u001b[43m(\u001b[49m\u001b[38;5;241;43m*\u001b[39;49m\u001b[38;5;241;43m*\u001b[39;49m\u001b[43mtokens\u001b[49m\u001b[43m)\u001b[49m[\u001b[38;5;124m\"\u001b[39m\u001b[38;5;124mlogits\u001b[39m\u001b[38;5;124m\"\u001b[39m]\n\u001b[1;32m     34\u001b[0m loss \u001b[38;5;241m=\u001b[39m loss_fn(y_pred, y_batch\u001b[38;5;241m.\u001b[39mlong())\n\u001b[1;32m     35\u001b[0m loss_train \u001b[38;5;241m+\u001b[39m\u001b[38;5;241m=\u001b[39m loss\u001b[38;5;241m.\u001b[39mitem()\n",
      "File \u001b[0;32m~/EbbaElise/exjobb-main/ebbaelise/lib/python3.12/site-packages/torch/nn/modules/module.py:1739\u001b[0m, in \u001b[0;36mModule._wrapped_call_impl\u001b[0;34m(self, *args, **kwargs)\u001b[0m\n\u001b[1;32m   1737\u001b[0m     \u001b[38;5;28;01mreturn\u001b[39;00m \u001b[38;5;28mself\u001b[39m\u001b[38;5;241m.\u001b[39m_compiled_call_impl(\u001b[38;5;241m*\u001b[39margs, \u001b[38;5;241m*\u001b[39m\u001b[38;5;241m*\u001b[39mkwargs)  \u001b[38;5;66;03m# type: ignore[misc]\u001b[39;00m\n\u001b[1;32m   1738\u001b[0m \u001b[38;5;28;01melse\u001b[39;00m:\n\u001b[0;32m-> 1739\u001b[0m     \u001b[38;5;28;01mreturn\u001b[39;00m \u001b[38;5;28;43mself\u001b[39;49m\u001b[38;5;241;43m.\u001b[39;49m\u001b[43m_call_impl\u001b[49m\u001b[43m(\u001b[49m\u001b[38;5;241;43m*\u001b[39;49m\u001b[43margs\u001b[49m\u001b[43m,\u001b[49m\u001b[43m \u001b[49m\u001b[38;5;241;43m*\u001b[39;49m\u001b[38;5;241;43m*\u001b[39;49m\u001b[43mkwargs\u001b[49m\u001b[43m)\u001b[49m\n",
      "File \u001b[0;32m~/EbbaElise/exjobb-main/ebbaelise/lib/python3.12/site-packages/torch/nn/modules/module.py:1750\u001b[0m, in \u001b[0;36mModule._call_impl\u001b[0;34m(self, *args, **kwargs)\u001b[0m\n\u001b[1;32m   1745\u001b[0m \u001b[38;5;66;03m# If we don't have any hooks, we want to skip the rest of the logic in\u001b[39;00m\n\u001b[1;32m   1746\u001b[0m \u001b[38;5;66;03m# this function, and just call forward.\u001b[39;00m\n\u001b[1;32m   1747\u001b[0m \u001b[38;5;28;01mif\u001b[39;00m \u001b[38;5;129;01mnot\u001b[39;00m (\u001b[38;5;28mself\u001b[39m\u001b[38;5;241m.\u001b[39m_backward_hooks \u001b[38;5;129;01mor\u001b[39;00m \u001b[38;5;28mself\u001b[39m\u001b[38;5;241m.\u001b[39m_backward_pre_hooks \u001b[38;5;129;01mor\u001b[39;00m \u001b[38;5;28mself\u001b[39m\u001b[38;5;241m.\u001b[39m_forward_hooks \u001b[38;5;129;01mor\u001b[39;00m \u001b[38;5;28mself\u001b[39m\u001b[38;5;241m.\u001b[39m_forward_pre_hooks\n\u001b[1;32m   1748\u001b[0m         \u001b[38;5;129;01mor\u001b[39;00m _global_backward_pre_hooks \u001b[38;5;129;01mor\u001b[39;00m _global_backward_hooks\n\u001b[1;32m   1749\u001b[0m         \u001b[38;5;129;01mor\u001b[39;00m _global_forward_hooks \u001b[38;5;129;01mor\u001b[39;00m _global_forward_pre_hooks):\n\u001b[0;32m-> 1750\u001b[0m     \u001b[38;5;28;01mreturn\u001b[39;00m \u001b[43mforward_call\u001b[49m\u001b[43m(\u001b[49m\u001b[38;5;241;43m*\u001b[39;49m\u001b[43margs\u001b[49m\u001b[43m,\u001b[49m\u001b[43m \u001b[49m\u001b[38;5;241;43m*\u001b[39;49m\u001b[38;5;241;43m*\u001b[39;49m\u001b[43mkwargs\u001b[49m\u001b[43m)\u001b[49m\n\u001b[1;32m   1752\u001b[0m result \u001b[38;5;241m=\u001b[39m \u001b[38;5;28;01mNone\u001b[39;00m\n\u001b[1;32m   1753\u001b[0m called_always_called_hooks \u001b[38;5;241m=\u001b[39m \u001b[38;5;28mset\u001b[39m()\n",
      "Cell \u001b[0;32mIn[2], line 13\u001b[0m, in \u001b[0;36mSnowflakeClassifier.forward\u001b[0;34m(self, input_ids, attention_mask, labels)\u001b[0m\n\u001b[1;32m     12\u001b[0m \u001b[38;5;28;01mdef\u001b[39;00m\u001b[38;5;250m \u001b[39m\u001b[38;5;21mforward\u001b[39m(\u001b[38;5;28mself\u001b[39m, input_ids, attention_mask, labels\u001b[38;5;241m=\u001b[39m\u001b[38;5;28;01mNone\u001b[39;00m):\n\u001b[0;32m---> 13\u001b[0m     outputs \u001b[38;5;241m=\u001b[39m \u001b[38;5;28;43mself\u001b[39;49m\u001b[38;5;241;43m.\u001b[39;49m\u001b[43mtransformer\u001b[49m\u001b[43m(\u001b[49m\u001b[43minput_ids\u001b[49m\u001b[38;5;241;43m=\u001b[39;49m\u001b[43minput_ids\u001b[49m\u001b[43m,\u001b[49m\u001b[43m \u001b[49m\u001b[43mattention_mask\u001b[49m\u001b[38;5;241;43m=\u001b[39;49m\u001b[43mattention_mask\u001b[49m\u001b[43m)\u001b[49m\n\u001b[1;32m     14\u001b[0m     cls_embedding \u001b[38;5;241m=\u001b[39m outputs\u001b[38;5;241m.\u001b[39mlast_hidden_state[:,\u001b[38;5;241m0\u001b[39m,:]\n\u001b[1;32m     15\u001b[0m     cls_embedding \u001b[38;5;241m=\u001b[39m \u001b[38;5;28mself\u001b[39m\u001b[38;5;241m.\u001b[39mdropout(cls_embedding)\n",
      "File \u001b[0;32m~/EbbaElise/exjobb-main/ebbaelise/lib/python3.12/site-packages/torch/nn/modules/module.py:1739\u001b[0m, in \u001b[0;36mModule._wrapped_call_impl\u001b[0;34m(self, *args, **kwargs)\u001b[0m\n\u001b[1;32m   1737\u001b[0m     \u001b[38;5;28;01mreturn\u001b[39;00m \u001b[38;5;28mself\u001b[39m\u001b[38;5;241m.\u001b[39m_compiled_call_impl(\u001b[38;5;241m*\u001b[39margs, \u001b[38;5;241m*\u001b[39m\u001b[38;5;241m*\u001b[39mkwargs)  \u001b[38;5;66;03m# type: ignore[misc]\u001b[39;00m\n\u001b[1;32m   1738\u001b[0m \u001b[38;5;28;01melse\u001b[39;00m:\n\u001b[0;32m-> 1739\u001b[0m     \u001b[38;5;28;01mreturn\u001b[39;00m \u001b[38;5;28;43mself\u001b[39;49m\u001b[38;5;241;43m.\u001b[39;49m\u001b[43m_call_impl\u001b[49m\u001b[43m(\u001b[49m\u001b[38;5;241;43m*\u001b[39;49m\u001b[43margs\u001b[49m\u001b[43m,\u001b[49m\u001b[43m \u001b[49m\u001b[38;5;241;43m*\u001b[39;49m\u001b[38;5;241;43m*\u001b[39;49m\u001b[43mkwargs\u001b[49m\u001b[43m)\u001b[49m\n",
      "File \u001b[0;32m~/EbbaElise/exjobb-main/ebbaelise/lib/python3.12/site-packages/torch/nn/modules/module.py:1750\u001b[0m, in \u001b[0;36mModule._call_impl\u001b[0;34m(self, *args, **kwargs)\u001b[0m\n\u001b[1;32m   1745\u001b[0m \u001b[38;5;66;03m# If we don't have any hooks, we want to skip the rest of the logic in\u001b[39;00m\n\u001b[1;32m   1746\u001b[0m \u001b[38;5;66;03m# this function, and just call forward.\u001b[39;00m\n\u001b[1;32m   1747\u001b[0m \u001b[38;5;28;01mif\u001b[39;00m \u001b[38;5;129;01mnot\u001b[39;00m (\u001b[38;5;28mself\u001b[39m\u001b[38;5;241m.\u001b[39m_backward_hooks \u001b[38;5;129;01mor\u001b[39;00m \u001b[38;5;28mself\u001b[39m\u001b[38;5;241m.\u001b[39m_backward_pre_hooks \u001b[38;5;129;01mor\u001b[39;00m \u001b[38;5;28mself\u001b[39m\u001b[38;5;241m.\u001b[39m_forward_hooks \u001b[38;5;129;01mor\u001b[39;00m \u001b[38;5;28mself\u001b[39m\u001b[38;5;241m.\u001b[39m_forward_pre_hooks\n\u001b[1;32m   1748\u001b[0m         \u001b[38;5;129;01mor\u001b[39;00m _global_backward_pre_hooks \u001b[38;5;129;01mor\u001b[39;00m _global_backward_hooks\n\u001b[1;32m   1749\u001b[0m         \u001b[38;5;129;01mor\u001b[39;00m _global_forward_hooks \u001b[38;5;129;01mor\u001b[39;00m _global_forward_pre_hooks):\n\u001b[0;32m-> 1750\u001b[0m     \u001b[38;5;28;01mreturn\u001b[39;00m \u001b[43mforward_call\u001b[49m\u001b[43m(\u001b[49m\u001b[38;5;241;43m*\u001b[39;49m\u001b[43margs\u001b[49m\u001b[43m,\u001b[49m\u001b[43m \u001b[49m\u001b[38;5;241;43m*\u001b[39;49m\u001b[38;5;241;43m*\u001b[39;49m\u001b[43mkwargs\u001b[49m\u001b[43m)\u001b[49m\n\u001b[1;32m   1752\u001b[0m result \u001b[38;5;241m=\u001b[39m \u001b[38;5;28;01mNone\u001b[39;00m\n\u001b[1;32m   1753\u001b[0m called_always_called_hooks \u001b[38;5;241m=\u001b[39m \u001b[38;5;28mset\u001b[39m()\n",
      "File \u001b[0;32m~/.cache/huggingface/modules/transformers_modules/Snowflake/snowflake-arctic-embed-m-v2.0/95c2741480856aa9666782eb4afe11959938017f/modeling_hf_alibaba_nlp_gte.py:939\u001b[0m, in \u001b[0;36mGteModel.forward\u001b[0;34m(self, input_ids, attention_mask, length, subset_indices, token_type_ids, position_ids, head_mask, inputs_embeds, output_attentions, output_hidden_states, return_dict, unpad_inputs)\u001b[0m\n\u001b[1;32m    929\u001b[0m     logger\u001b[38;5;241m.\u001b[39mwarning_once(\u001b[38;5;124m\"\u001b[39m\u001b[38;5;124mTODO: logn_attention_scale\u001b[39m\u001b[38;5;124m\"\u001b[39m)\n\u001b[1;32m    930\u001b[0m \u001b[38;5;66;03m#     # attention scale log_512(input_len)\u001b[39;00m\n\u001b[1;32m    931\u001b[0m \u001b[38;5;66;03m#     attention_scale = attention_mask.sum(1).log() / torch.tensor(self.config.max_position_embeddings).log()\u001b[39;00m\n\u001b[1;32m    932\u001b[0m \u001b[38;5;66;03m#     # inference-time logn scale need clip 1\u001b[39;00m\n\u001b[0;32m   (...)\u001b[0m\n\u001b[1;32m    936\u001b[0m \u001b[38;5;66;03m# else:\u001b[39;00m\n\u001b[1;32m    937\u001b[0m \u001b[38;5;66;03m#     attention_scale = None\u001b[39;00m\n\u001b[0;32m--> 939\u001b[0m encoder_outputs \u001b[38;5;241m=\u001b[39m \u001b[38;5;28;43mself\u001b[39;49m\u001b[38;5;241;43m.\u001b[39;49m\u001b[43mencoder\u001b[49m\u001b[43m(\u001b[49m\n\u001b[1;32m    940\u001b[0m \u001b[43m    \u001b[49m\u001b[43membedding_output\u001b[49m\u001b[43m,\u001b[49m\n\u001b[1;32m    941\u001b[0m \u001b[43m    \u001b[49m\u001b[43mattention_bias\u001b[49m\u001b[38;5;241;43m=\u001b[39;49m\u001b[43mattention_bias\u001b[49m\u001b[43m,\u001b[49m\n\u001b[1;32m    942\u001b[0m \u001b[43m    \u001b[49m\u001b[43mrope_embeds\u001b[49m\u001b[38;5;241;43m=\u001b[39;49m\u001b[43mrope_embeds\u001b[49m\u001b[43m,\u001b[49m\n\u001b[1;32m    943\u001b[0m \u001b[43m    \u001b[49m\u001b[43mpadding_inputs\u001b[49m\u001b[38;5;241;43m=\u001b[39;49m\u001b[43mpadding_inputs\u001b[49m\u001b[43m,\u001b[49m\n\u001b[1;32m    944\u001b[0m \u001b[43m    \u001b[49m\u001b[43mattention_scale\u001b[49m\u001b[38;5;241;43m=\u001b[39;49m\u001b[43mattention_scale\u001b[49m\u001b[43m,\u001b[49m\n\u001b[1;32m    945\u001b[0m \u001b[43m    \u001b[49m\u001b[43msubset_indices\u001b[49m\u001b[38;5;241;43m=\u001b[39;49m\u001b[43msubset_indices\u001b[49m\u001b[43m,\u001b[49m\n\u001b[1;32m    946\u001b[0m \u001b[43m    \u001b[49m\u001b[43mhead_mask\u001b[49m\u001b[38;5;241;43m=\u001b[39;49m\u001b[43mhead_mask\u001b[49m\u001b[43m,\u001b[49m\n\u001b[1;32m    947\u001b[0m \u001b[43m    \u001b[49m\u001b[43moutput_attentions\u001b[49m\u001b[38;5;241;43m=\u001b[39;49m\u001b[43moutput_attentions\u001b[49m\u001b[43m,\u001b[49m\n\u001b[1;32m    948\u001b[0m \u001b[43m    \u001b[49m\u001b[43moutput_hidden_states\u001b[49m\u001b[38;5;241;43m=\u001b[39;49m\u001b[43moutput_hidden_states\u001b[49m\u001b[43m,\u001b[49m\n\u001b[1;32m    949\u001b[0m \u001b[43m    \u001b[49m\u001b[43mreturn_dict\u001b[49m\u001b[38;5;241;43m=\u001b[39;49m\u001b[43mreturn_dict\u001b[49m\u001b[43m,\u001b[49m\n\u001b[1;32m    950\u001b[0m \u001b[43m\u001b[49m\u001b[43m)\u001b[49m\n\u001b[1;32m    951\u001b[0m sequence_output \u001b[38;5;241m=\u001b[39m encoder_outputs[\u001b[38;5;241m0\u001b[39m]\n\u001b[1;32m    952\u001b[0m \u001b[38;5;28;01mif\u001b[39;00m unpad_inputs \u001b[38;5;129;01mand\u001b[39;00m output_padded:\n",
      "File \u001b[0;32m~/EbbaElise/exjobb-main/ebbaelise/lib/python3.12/site-packages/torch/nn/modules/module.py:1739\u001b[0m, in \u001b[0;36mModule._wrapped_call_impl\u001b[0;34m(self, *args, **kwargs)\u001b[0m\n\u001b[1;32m   1737\u001b[0m     \u001b[38;5;28;01mreturn\u001b[39;00m \u001b[38;5;28mself\u001b[39m\u001b[38;5;241m.\u001b[39m_compiled_call_impl(\u001b[38;5;241m*\u001b[39margs, \u001b[38;5;241m*\u001b[39m\u001b[38;5;241m*\u001b[39mkwargs)  \u001b[38;5;66;03m# type: ignore[misc]\u001b[39;00m\n\u001b[1;32m   1738\u001b[0m \u001b[38;5;28;01melse\u001b[39;00m:\n\u001b[0;32m-> 1739\u001b[0m     \u001b[38;5;28;01mreturn\u001b[39;00m \u001b[38;5;28;43mself\u001b[39;49m\u001b[38;5;241;43m.\u001b[39;49m\u001b[43m_call_impl\u001b[49m\u001b[43m(\u001b[49m\u001b[38;5;241;43m*\u001b[39;49m\u001b[43margs\u001b[49m\u001b[43m,\u001b[49m\u001b[43m \u001b[49m\u001b[38;5;241;43m*\u001b[39;49m\u001b[38;5;241;43m*\u001b[39;49m\u001b[43mkwargs\u001b[49m\u001b[43m)\u001b[49m\n",
      "File \u001b[0;32m~/EbbaElise/exjobb-main/ebbaelise/lib/python3.12/site-packages/torch/nn/modules/module.py:1750\u001b[0m, in \u001b[0;36mModule._call_impl\u001b[0;34m(self, *args, **kwargs)\u001b[0m\n\u001b[1;32m   1745\u001b[0m \u001b[38;5;66;03m# If we don't have any hooks, we want to skip the rest of the logic in\u001b[39;00m\n\u001b[1;32m   1746\u001b[0m \u001b[38;5;66;03m# this function, and just call forward.\u001b[39;00m\n\u001b[1;32m   1747\u001b[0m \u001b[38;5;28;01mif\u001b[39;00m \u001b[38;5;129;01mnot\u001b[39;00m (\u001b[38;5;28mself\u001b[39m\u001b[38;5;241m.\u001b[39m_backward_hooks \u001b[38;5;129;01mor\u001b[39;00m \u001b[38;5;28mself\u001b[39m\u001b[38;5;241m.\u001b[39m_backward_pre_hooks \u001b[38;5;129;01mor\u001b[39;00m \u001b[38;5;28mself\u001b[39m\u001b[38;5;241m.\u001b[39m_forward_hooks \u001b[38;5;129;01mor\u001b[39;00m \u001b[38;5;28mself\u001b[39m\u001b[38;5;241m.\u001b[39m_forward_pre_hooks\n\u001b[1;32m   1748\u001b[0m         \u001b[38;5;129;01mor\u001b[39;00m _global_backward_pre_hooks \u001b[38;5;129;01mor\u001b[39;00m _global_backward_hooks\n\u001b[1;32m   1749\u001b[0m         \u001b[38;5;129;01mor\u001b[39;00m _global_forward_hooks \u001b[38;5;129;01mor\u001b[39;00m _global_forward_pre_hooks):\n\u001b[0;32m-> 1750\u001b[0m     \u001b[38;5;28;01mreturn\u001b[39;00m \u001b[43mforward_call\u001b[49m\u001b[43m(\u001b[49m\u001b[38;5;241;43m*\u001b[39;49m\u001b[43margs\u001b[49m\u001b[43m,\u001b[49m\u001b[43m \u001b[49m\u001b[38;5;241;43m*\u001b[39;49m\u001b[38;5;241;43m*\u001b[39;49m\u001b[43mkwargs\u001b[49m\u001b[43m)\u001b[49m\n\u001b[1;32m   1752\u001b[0m result \u001b[38;5;241m=\u001b[39m \u001b[38;5;28;01mNone\u001b[39;00m\n\u001b[1;32m   1753\u001b[0m called_always_called_hooks \u001b[38;5;241m=\u001b[39m \u001b[38;5;28mset\u001b[39m()\n",
      "File \u001b[0;32m~/.cache/huggingface/modules/transformers_modules/Snowflake/snowflake-arctic-embed-m-v2.0/95c2741480856aa9666782eb4afe11959938017f/modeling_hf_alibaba_nlp_gte.py:748\u001b[0m, in \u001b[0;36mGteEncoder.forward\u001b[0;34m(self, hidden_states, attention_bias, rope_embeds, padding_inputs, attention_scale, subset_indices, head_mask, output_attentions, output_hidden_states, return_dict)\u001b[0m\n\u001b[1;32m    737\u001b[0m     layer_outputs \u001b[38;5;241m=\u001b[39m \u001b[38;5;28mself\u001b[39m\u001b[38;5;241m.\u001b[39m_gradient_checkpointing_func(\n\u001b[1;32m    738\u001b[0m         layer_module\u001b[38;5;241m.\u001b[39m\u001b[38;5;21m__call__\u001b[39m,\n\u001b[1;32m    739\u001b[0m         hidden_states,\n\u001b[0;32m   (...)\u001b[0m\n\u001b[1;32m    745\u001b[0m         layer_head_mask,\n\u001b[1;32m    746\u001b[0m     )\n\u001b[1;32m    747\u001b[0m \u001b[38;5;28;01melse\u001b[39;00m:\n\u001b[0;32m--> 748\u001b[0m     layer_outputs \u001b[38;5;241m=\u001b[39m \u001b[43mlayer_module\u001b[49m\u001b[43m(\u001b[49m\n\u001b[1;32m    749\u001b[0m \u001b[43m        \u001b[49m\u001b[43mhidden_states\u001b[49m\u001b[43m,\u001b[49m\n\u001b[1;32m    750\u001b[0m \u001b[43m        \u001b[49m\u001b[43mattention_bias\u001b[49m\u001b[43m,\u001b[49m\n\u001b[1;32m    751\u001b[0m \u001b[43m        \u001b[49m\u001b[43mrope_embeds\u001b[49m\u001b[43m,\u001b[49m\n\u001b[1;32m    752\u001b[0m \u001b[43m        \u001b[49m\u001b[43mpadding_inputs\u001b[49m\u001b[43m,\u001b[49m\n\u001b[1;32m    753\u001b[0m \u001b[43m        \u001b[49m\u001b[43mattention_scale\u001b[49m\u001b[43m,\u001b[49m\n\u001b[1;32m    754\u001b[0m \u001b[43m        \u001b[49m\u001b[43mlayer_subset_indices\u001b[49m\u001b[43m,\u001b[49m\n\u001b[1;32m    755\u001b[0m \u001b[43m        \u001b[49m\u001b[43mlayer_head_mask\u001b[49m\u001b[43m,\u001b[49m\n\u001b[1;32m    756\u001b[0m \u001b[43m        \u001b[49m\u001b[43moutput_attentions\u001b[49m\u001b[43m,\u001b[49m\n\u001b[1;32m    757\u001b[0m \u001b[43m    \u001b[49m\u001b[43m)\u001b[49m\n\u001b[1;32m    759\u001b[0m hidden_states \u001b[38;5;241m=\u001b[39m layer_outputs[\u001b[38;5;241m0\u001b[39m]\n\u001b[1;32m    760\u001b[0m \u001b[38;5;28;01mif\u001b[39;00m output_attentions:\n",
      "File \u001b[0;32m~/EbbaElise/exjobb-main/ebbaelise/lib/python3.12/site-packages/torch/nn/modules/module.py:1739\u001b[0m, in \u001b[0;36mModule._wrapped_call_impl\u001b[0;34m(self, *args, **kwargs)\u001b[0m\n\u001b[1;32m   1737\u001b[0m     \u001b[38;5;28;01mreturn\u001b[39;00m \u001b[38;5;28mself\u001b[39m\u001b[38;5;241m.\u001b[39m_compiled_call_impl(\u001b[38;5;241m*\u001b[39margs, \u001b[38;5;241m*\u001b[39m\u001b[38;5;241m*\u001b[39mkwargs)  \u001b[38;5;66;03m# type: ignore[misc]\u001b[39;00m\n\u001b[1;32m   1738\u001b[0m \u001b[38;5;28;01melse\u001b[39;00m:\n\u001b[0;32m-> 1739\u001b[0m     \u001b[38;5;28;01mreturn\u001b[39;00m \u001b[38;5;28;43mself\u001b[39;49m\u001b[38;5;241;43m.\u001b[39;49m\u001b[43m_call_impl\u001b[49m\u001b[43m(\u001b[49m\u001b[38;5;241;43m*\u001b[39;49m\u001b[43margs\u001b[49m\u001b[43m,\u001b[49m\u001b[43m \u001b[49m\u001b[38;5;241;43m*\u001b[39;49m\u001b[38;5;241;43m*\u001b[39;49m\u001b[43mkwargs\u001b[49m\u001b[43m)\u001b[49m\n",
      "File \u001b[0;32m~/EbbaElise/exjobb-main/ebbaelise/lib/python3.12/site-packages/torch/nn/modules/module.py:1750\u001b[0m, in \u001b[0;36mModule._call_impl\u001b[0;34m(self, *args, **kwargs)\u001b[0m\n\u001b[1;32m   1745\u001b[0m \u001b[38;5;66;03m# If we don't have any hooks, we want to skip the rest of the logic in\u001b[39;00m\n\u001b[1;32m   1746\u001b[0m \u001b[38;5;66;03m# this function, and just call forward.\u001b[39;00m\n\u001b[1;32m   1747\u001b[0m \u001b[38;5;28;01mif\u001b[39;00m \u001b[38;5;129;01mnot\u001b[39;00m (\u001b[38;5;28mself\u001b[39m\u001b[38;5;241m.\u001b[39m_backward_hooks \u001b[38;5;129;01mor\u001b[39;00m \u001b[38;5;28mself\u001b[39m\u001b[38;5;241m.\u001b[39m_backward_pre_hooks \u001b[38;5;129;01mor\u001b[39;00m \u001b[38;5;28mself\u001b[39m\u001b[38;5;241m.\u001b[39m_forward_hooks \u001b[38;5;129;01mor\u001b[39;00m \u001b[38;5;28mself\u001b[39m\u001b[38;5;241m.\u001b[39m_forward_pre_hooks\n\u001b[1;32m   1748\u001b[0m         \u001b[38;5;129;01mor\u001b[39;00m _global_backward_pre_hooks \u001b[38;5;129;01mor\u001b[39;00m _global_backward_hooks\n\u001b[1;32m   1749\u001b[0m         \u001b[38;5;129;01mor\u001b[39;00m _global_forward_hooks \u001b[38;5;129;01mor\u001b[39;00m _global_forward_pre_hooks):\n\u001b[0;32m-> 1750\u001b[0m     \u001b[38;5;28;01mreturn\u001b[39;00m \u001b[43mforward_call\u001b[49m\u001b[43m(\u001b[49m\u001b[38;5;241;43m*\u001b[39;49m\u001b[43margs\u001b[49m\u001b[43m,\u001b[49m\u001b[43m \u001b[49m\u001b[38;5;241;43m*\u001b[39;49m\u001b[38;5;241;43m*\u001b[39;49m\u001b[43mkwargs\u001b[49m\u001b[43m)\u001b[49m\n\u001b[1;32m   1752\u001b[0m result \u001b[38;5;241m=\u001b[39m \u001b[38;5;28;01mNone\u001b[39;00m\n\u001b[1;32m   1753\u001b[0m called_always_called_hooks \u001b[38;5;241m=\u001b[39m \u001b[38;5;28mset\u001b[39m()\n",
      "File \u001b[0;32m~/.cache/huggingface/modules/transformers_modules/Snowflake/snowflake-arctic-embed-m-v2.0/95c2741480856aa9666782eb4afe11959938017f/modeling_hf_alibaba_nlp_gte.py:691\u001b[0m, in \u001b[0;36mGteLayer.forward\u001b[0;34m(self, hidden_states, attention_bias, rope_embeds, padding_inputs, attention_scale, subset_indices, head_mask, output_attentions, qkv_inputs)\u001b[0m\n\u001b[1;32m    689\u001b[0m \u001b[38;5;66;03m# Fully Connected\u001b[39;00m\n\u001b[1;32m    690\u001b[0m residual \u001b[38;5;241m=\u001b[39m hidden_states\n\u001b[0;32m--> 691\u001b[0m hidden_states \u001b[38;5;241m=\u001b[39m \u001b[38;5;28;43mself\u001b[39;49m\u001b[38;5;241;43m.\u001b[39;49m\u001b[43mmlp\u001b[49m\u001b[43m(\u001b[49m\u001b[43mhidden_states\u001b[49m\u001b[43m)\u001b[49m\n\u001b[1;32m    692\u001b[0m \u001b[38;5;28;01mif\u001b[39;00m \u001b[38;5;28mself\u001b[39m\u001b[38;5;241m.\u001b[39mhidden_dropout \u001b[38;5;129;01mis\u001b[39;00m \u001b[38;5;129;01mnot\u001b[39;00m \u001b[38;5;28;01mNone\u001b[39;00m:\n\u001b[1;32m    693\u001b[0m     hidden_states \u001b[38;5;241m=\u001b[39m \u001b[38;5;28mself\u001b[39m\u001b[38;5;241m.\u001b[39mhidden_dropout(hidden_states)\n",
      "File \u001b[0;32m~/EbbaElise/exjobb-main/ebbaelise/lib/python3.12/site-packages/torch/nn/modules/module.py:1739\u001b[0m, in \u001b[0;36mModule._wrapped_call_impl\u001b[0;34m(self, *args, **kwargs)\u001b[0m\n\u001b[1;32m   1737\u001b[0m     \u001b[38;5;28;01mreturn\u001b[39;00m \u001b[38;5;28mself\u001b[39m\u001b[38;5;241m.\u001b[39m_compiled_call_impl(\u001b[38;5;241m*\u001b[39margs, \u001b[38;5;241m*\u001b[39m\u001b[38;5;241m*\u001b[39mkwargs)  \u001b[38;5;66;03m# type: ignore[misc]\u001b[39;00m\n\u001b[1;32m   1738\u001b[0m \u001b[38;5;28;01melse\u001b[39;00m:\n\u001b[0;32m-> 1739\u001b[0m     \u001b[38;5;28;01mreturn\u001b[39;00m \u001b[38;5;28;43mself\u001b[39;49m\u001b[38;5;241;43m.\u001b[39;49m\u001b[43m_call_impl\u001b[49m\u001b[43m(\u001b[49m\u001b[38;5;241;43m*\u001b[39;49m\u001b[43margs\u001b[49m\u001b[43m,\u001b[49m\u001b[43m \u001b[49m\u001b[38;5;241;43m*\u001b[39;49m\u001b[38;5;241;43m*\u001b[39;49m\u001b[43mkwargs\u001b[49m\u001b[43m)\u001b[49m\n",
      "File \u001b[0;32m~/EbbaElise/exjobb-main/ebbaelise/lib/python3.12/site-packages/torch/nn/modules/module.py:1750\u001b[0m, in \u001b[0;36mModule._call_impl\u001b[0;34m(self, *args, **kwargs)\u001b[0m\n\u001b[1;32m   1745\u001b[0m \u001b[38;5;66;03m# If we don't have any hooks, we want to skip the rest of the logic in\u001b[39;00m\n\u001b[1;32m   1746\u001b[0m \u001b[38;5;66;03m# this function, and just call forward.\u001b[39;00m\n\u001b[1;32m   1747\u001b[0m \u001b[38;5;28;01mif\u001b[39;00m \u001b[38;5;129;01mnot\u001b[39;00m (\u001b[38;5;28mself\u001b[39m\u001b[38;5;241m.\u001b[39m_backward_hooks \u001b[38;5;129;01mor\u001b[39;00m \u001b[38;5;28mself\u001b[39m\u001b[38;5;241m.\u001b[39m_backward_pre_hooks \u001b[38;5;129;01mor\u001b[39;00m \u001b[38;5;28mself\u001b[39m\u001b[38;5;241m.\u001b[39m_forward_hooks \u001b[38;5;129;01mor\u001b[39;00m \u001b[38;5;28mself\u001b[39m\u001b[38;5;241m.\u001b[39m_forward_pre_hooks\n\u001b[1;32m   1748\u001b[0m         \u001b[38;5;129;01mor\u001b[39;00m _global_backward_pre_hooks \u001b[38;5;129;01mor\u001b[39;00m _global_backward_hooks\n\u001b[1;32m   1749\u001b[0m         \u001b[38;5;129;01mor\u001b[39;00m _global_forward_hooks \u001b[38;5;129;01mor\u001b[39;00m _global_forward_pre_hooks):\n\u001b[0;32m-> 1750\u001b[0m     \u001b[38;5;28;01mreturn\u001b[39;00m \u001b[43mforward_call\u001b[49m\u001b[43m(\u001b[49m\u001b[38;5;241;43m*\u001b[39;49m\u001b[43margs\u001b[49m\u001b[43m,\u001b[49m\u001b[43m \u001b[49m\u001b[38;5;241;43m*\u001b[39;49m\u001b[38;5;241;43m*\u001b[39;49m\u001b[43mkwargs\u001b[49m\u001b[43m)\u001b[49m\n\u001b[1;32m   1752\u001b[0m result \u001b[38;5;241m=\u001b[39m \u001b[38;5;28;01mNone\u001b[39;00m\n\u001b[1;32m   1753\u001b[0m called_always_called_hooks \u001b[38;5;241m=\u001b[39m \u001b[38;5;28mset\u001b[39m()\n",
      "File \u001b[0;32m~/.cache/huggingface/modules/transformers_modules/Snowflake/snowflake-arctic-embed-m-v2.0/95c2741480856aa9666782eb4afe11959938017f/modeling_hf_alibaba_nlp_gte.py:619\u001b[0m, in \u001b[0;36mGteGatedMLP.forward\u001b[0;34m(self, hidden_states)\u001b[0m\n\u001b[1;32m    617\u001b[0m \u001b[38;5;28;01mif\u001b[39;00m \u001b[38;5;28mself\u001b[39m\u001b[38;5;241m.\u001b[39mhidden_dropout \u001b[38;5;129;01mis\u001b[39;00m \u001b[38;5;129;01mnot\u001b[39;00m \u001b[38;5;28;01mNone\u001b[39;00m:\n\u001b[1;32m    618\u001b[0m     gated_states \u001b[38;5;241m=\u001b[39m \u001b[38;5;28mself\u001b[39m\u001b[38;5;241m.\u001b[39mhidden_dropout(gated_states)\n\u001b[0;32m--> 619\u001b[0m down_states \u001b[38;5;241m=\u001b[39m \u001b[38;5;28;43mself\u001b[39;49m\u001b[38;5;241;43m.\u001b[39;49m\u001b[43mdown_proj\u001b[49m(gated_states)\n\u001b[1;32m    620\u001b[0m \u001b[38;5;28;01mreturn\u001b[39;00m down_states\n",
      "File \u001b[0;32m~/EbbaElise/exjobb-main/ebbaelise/lib/python3.12/site-packages/torch/nn/modules/module.py:1915\u001b[0m, in \u001b[0;36mModule.__getattr__\u001b[0;34m(self, name)\u001b[0m\n\u001b[1;32m   1910\u001b[0m         \u001b[38;5;28mself\u001b[39m\u001b[38;5;241m.\u001b[39m_backward_pre_hooks \u001b[38;5;241m=\u001b[39m OrderedDict()\n\u001b[1;32m   1912\u001b[0m \u001b[38;5;66;03m# It is crucial that the return type is not annotated as `Any`, otherwise type checking\u001b[39;00m\n\u001b[1;32m   1913\u001b[0m \u001b[38;5;66;03m# on `torch.nn.Module` and all its subclasses is largely disabled as a result. See:\u001b[39;00m\n\u001b[1;32m   1914\u001b[0m \u001b[38;5;66;03m# https://github.com/pytorch/pytorch/pull/115074\u001b[39;00m\n\u001b[0;32m-> 1915\u001b[0m \u001b[38;5;28;01mdef\u001b[39;00m\u001b[38;5;250m \u001b[39m\u001b[38;5;21m__getattr__\u001b[39m(\u001b[38;5;28mself\u001b[39m, name: \u001b[38;5;28mstr\u001b[39m) \u001b[38;5;241m-\u001b[39m\u001b[38;5;241m>\u001b[39m Union[Tensor, \u001b[38;5;124m\"\u001b[39m\u001b[38;5;124mModule\u001b[39m\u001b[38;5;124m\"\u001b[39m]:\n\u001b[1;32m   1916\u001b[0m     \u001b[38;5;28;01mif\u001b[39;00m \u001b[38;5;124m\"\u001b[39m\u001b[38;5;124m_parameters\u001b[39m\u001b[38;5;124m\"\u001b[39m \u001b[38;5;129;01min\u001b[39;00m \u001b[38;5;28mself\u001b[39m\u001b[38;5;241m.\u001b[39m\u001b[38;5;18m__dict__\u001b[39m:\n\u001b[1;32m   1917\u001b[0m         _parameters \u001b[38;5;241m=\u001b[39m \u001b[38;5;28mself\u001b[39m\u001b[38;5;241m.\u001b[39m\u001b[38;5;18m__dict__\u001b[39m[\u001b[38;5;124m\"\u001b[39m\u001b[38;5;124m_parameters\u001b[39m\u001b[38;5;124m\"\u001b[39m]\n",
      "\u001b[0;31mKeyboardInterrupt\u001b[0m: "
     ]
    }
   ],
   "source": [
    "from tqdm import tqdm\n",
    "import matplotlib.pyplot as plt\n",
    "from torch.optim.lr_scheduler import CosineAnnealingLR, LinearLR\n",
    "import numpy as np\n",
    "\n",
    "EPOCHS = 10\n",
    "GRAD_ACC = 1\n",
    "START_LR = 1e-4\n",
    "END_LR = 1e-6\n",
    "device=\"cpu\"\n",
    "\n",
    "\n",
    "optimizer = torch.optim.AdamW(model_cross.parameters(), lr=START_LR)\n",
    "cos_scheduler = CosineAnnealingLR(optimizer, T_max=2, eta_min=END_LR)\n",
    "warmup_scheduler = LinearLR(optimizer, start_factor=0.001, end_factor=1.0, total_iters=len(dataloader))\n",
    "\n",
    "acc_train_history = []\n",
    "acc_val_history = []\n",
    "loss_train_history = []\n",
    "loss_val_history = []\n",
    "optimizer.zero_grad()\n",
    "for epoch in tqdm(range(EPOCHS)):\n",
    "    print(f\"lr: {optimizer.param_groups[0][\"lr\"]}\")\n",
    "    max_grad = []\n",
    "    acc_train = 0\n",
    "    loss_train = 0\n",
    "    j = 0\n",
    "    grad_accumulation = GRAD_ACC\n",
    "    model_cross.train()\n",
    "    for i, (input_ids, attention_mask, y_batch) in enumerate(dataloader):\n",
    "        tokens = {\"input_ids\": input_ids.to(device), \"attention_mask\": attention_mask.to(device)} #får inte till på nåt annat sätt\n",
    "        y_batch = y_batch.to(device)\n",
    "        y_pred = model_cross(**tokens)[\"logits\"]\n",
    "        loss = loss_fn(y_pred, y_batch.long())\n",
    "        loss_train += loss.item()\n",
    "        loss = loss/grad_accumulation\n",
    "        loss.backward() #computes dloss/dx, gradient for all weights\n",
    "        acc_train += torch.sum(y_batch == torch.argmax(y_pred, dim=-1))/y_batch.size()[0]\n",
    "        j += 1\n",
    "        if (i+1) % grad_accumulation==0 or i+1==len(dataloader):\n",
    "            max_grad.append(np.max([p.grad.norm(2).item() for p in model_cross.parameters() if p.grad is not None]))\n",
    "            optimizer.step() #uses stored gradient to update each weight\n",
    "            optimizer.zero_grad()\n",
    "            left = len(dataloader)-(i+1)\n",
    "            if left < GRAD_ACC:\n",
    "                grad_accumulation = left\n",
    "        if epoch==0:\n",
    "            warmup_scheduler.step()\n",
    "    if epoch>0 and epoch<=2:\n",
    "        cos_scheduler.step()\n",
    "        #if epoch%3 == 0:\n",
    "        #    optimizer.param_groups[0][\"lr\"] = START_LR\n",
    "        #    cos_scheduler = CosineAnnealingLR(optimizer, T_max=2, eta_min=END_LR)\n",
    "    elif epoch==3:\n",
    "        optimizer.param_groups[0][\"lr\"] = END_LR\n",
    "\n",
    "    print(np.max(max_grad))\n",
    "\n",
    "    acc_train_history += [acc_train.to(\"cpu\")/j] #dela med hur många batches, cpu för att kunna plotta, annars måste man göra det för varje tensor i listan senare\n",
    "    loss_train_history += [loss_train/j]\n",
    "\n",
    "    torch.save(model_cross, \"cross_encoder_temp\"+str(epoch)+\".pt\")\n",
    "\n",
    "    model_cross.eval()\n",
    "    with torch.no_grad():\n",
    "        acc_val = 0\n",
    "        loss_val = 0\n",
    "        loss_check = []\n",
    "        j = 0\n",
    "        for input_ids, attention_mask, y_val in eval_dataloader: # batches för minne\n",
    "            tokens = {\"input_ids\": input_ids.to(device), \"attention_mask\": attention_mask.to(device)} #får inte till på nåt annat sätt\n",
    "            y_val = y_val.to(device)\n",
    "            y_val_pred = model_cross(**tokens)[\"logits\"]\n",
    "            loss = loss_fn(y_val_pred, y_val.long())\n",
    "            loss_val += loss.item()\n",
    "            loss_check += [loss.item()]\n",
    "            acc_val += torch.sum(y_val == torch.argmax(y_val_pred, dim=-1))/y_val.size()[0]\n",
    "            j += 1\n",
    "        acc_val_history += [acc_val.to(\"cpu\")/j] #cpu för att kunna plotta, annars måste man göra det för varje tensor i listan senare, j för batches\n",
    "        loss_val_history += [loss_val/j]\n",
    "        print(loss_check)\n",
    "    \n",
    "    epochs = range(1, len(acc_train_history) + 1)\n",
    "    plt.plot(epochs, acc_val_history, 'rx', label='Validation accuracy')\n",
    "    plt.plot(epochs, acc_train_history, 'bo', label='Train accuracy')\n",
    "    plt.title('Validation and training accuracy')\n",
    "    plt.legend()\n",
    "    plt.show()\n",
    "\n",
    "    plt.plot(epochs, loss_val_history, 'rx', label='Validation loss')\n",
    "    plt.plot(epochs, loss_train_history, 'bo', label='Train loss')\n",
    "    plt.title('Validation and training loss')\n",
    "    plt.legend()\n",
    "    plt.show()\n",
    "    \n"
   ]
  },
  {
   "cell_type": "code",
   "execution_count": null,
   "metadata": {},
   "outputs": [
    {
     "ename": "NameError",
     "evalue": "name 'model_name' is not defined",
     "output_type": "error",
     "traceback": [
      "\u001b[0;31m---------------------------------------------------------------------------\u001b[0m",
      "\u001b[0;31mNameError\u001b[0m                                 Traceback (most recent call last)",
      "Cell \u001b[0;32mIn[1], line 2\u001b[0m\n\u001b[1;32m      1\u001b[0m \u001b[38;5;28;01mfrom\u001b[39;00m\u001b[38;5;250m \u001b[39m\u001b[38;5;21;01mtransformers\u001b[39;00m\u001b[38;5;250m \u001b[39m\u001b[38;5;28;01mimport\u001b[39;00m AutoConfig\n\u001b[0;32m----> 2\u001b[0m config \u001b[38;5;241m=\u001b[39m AutoConfig\u001b[38;5;241m.\u001b[39mfrom_pretrained(\u001b[43mmodel_name\u001b[49m, trust_remote_code\u001b[38;5;241m=\u001b[39m\u001b[38;5;28;01mTrue\u001b[39;00m)\n\u001b[1;32m      3\u001b[0m \u001b[38;5;28mprint\u001b[39m(config)\n",
      "\u001b[0;31mNameError\u001b[0m: name 'model_name' is not defined"
     ]
    }
   ],
   "source": [
    "from transformers import AutoConfig\n",
    "config = AutoConfig.from_pretrained(model_name, trust_remote_code=True)\n",
    "print(config)\n",
    "\n",
    "config.unpad_inputs=False\n",
    "config.use_memory_efficient_attention = False"
   ]
  },
  {
   "cell_type": "code",
   "execution_count": null,
   "metadata": {},
   "outputs": [],
   "source": [
    "config.unpad_inputs=False\n",
    "config.use_memory_efficient_attention = False"
   ]
  },
  {
   "cell_type": "code",
   "execution_count": 55,
   "metadata": {},
   "outputs": [],
   "source": [
    "model_cross = AutoModel.from_pretrained(model_name, add_pooling_layer=False, trust_remote_code=True, config=config)"
   ]
  },
  {
   "cell_type": "code",
   "execution_count": 54,
   "metadata": {},
   "outputs": [
    {
     "name": "stdout",
     "output_type": "stream",
     "text": [
      "GteConfig {\n",
      "  \"_attn_implementation_autoset\": true,\n",
      "  \"_name_or_path\": \"Snowflake/snowflake-arctic-embed-m-v2.0\",\n",
      "  \"architectures\": [\n",
      "    \"GteModel\"\n",
      "  ],\n",
      "  \"attention_probs_dropout_prob\": 0.0,\n",
      "  \"auto_map\": {\n",
      "    \"AutoConfig\": \"Snowflake/snowflake-arctic-embed-m-v2.0--configuration_hf_alibaba_nlp_gte.GteConfig\",\n",
      "    \"AutoModel\": \"Snowflake/snowflake-arctic-embed-m-v2.0--modeling_hf_alibaba_nlp_gte.GteModel\"\n",
      "  },\n",
      "  \"classifier_dropout\": 0.1,\n",
      "  \"hidden_act\": \"gelu\",\n",
      "  \"hidden_dropout_prob\": 0.1,\n",
      "  \"hidden_size\": 768,\n",
      "  \"initializer_range\": 0.02,\n",
      "  \"intermediate_size\": 3072,\n",
      "  \"layer_norm_eps\": 1e-12,\n",
      "  \"layer_norm_type\": \"layer_norm\",\n",
      "  \"logn_attention_clip1\": false,\n",
      "  \"logn_attention_scale\": false,\n",
      "  \"matryoshka_dimensions\": [\n",
      "    256\n",
      "  ],\n",
      "  \"max_position_embeddings\": 8192,\n",
      "  \"model_type\": \"gte\",\n",
      "  \"num_attention_heads\": 12,\n",
      "  \"num_hidden_layers\": 12,\n",
      "  \"pack_qkv\": true,\n",
      "  \"pad_token_id\": 1,\n",
      "  \"position_embedding_type\": \"rope\",\n",
      "  \"rope_scaling\": null,\n",
      "  \"rope_theta\": 160000,\n",
      "  \"torch_dtype\": \"float32\",\n",
      "  \"transformers_version\": \"4.48.2\",\n",
      "  \"type_vocab_size\": 1,\n",
      "  \"unpad_inputs\": false,\n",
      "  \"use_memory_efficient_attention\": false,\n",
      "  \"vocab_size\": 250048\n",
      "}\n",
      "\n"
     ]
    }
   ],
   "source": [
    "c = model.config\n",
    "print(c)"
   ]
  },
  {
   "cell_type": "code",
   "execution_count": 34,
   "metadata": {},
   "outputs": [
    {
     "data": {
      "text/plain": [
       "[0.3915537413089506,\n",
       " 0.38623259721263764,\n",
       " 0.40387623204338935,\n",
       " 0.3817865374468027,\n",
       " 0.3849769846626347,\n",
       " 0.38432273469985495,\n",
       " 0.3861742765312233,\n",
       " 0.38703229254291904,\n",
       " 0.3872996377908895,\n",
       " 0.38785069111374115]"
      ]
     },
     "execution_count": 34,
     "metadata": {},
     "output_type": "execute_result"
    }
   ],
   "source": [
    "loss_val_history"
   ]
  },
  {
   "cell_type": "code",
   "execution_count": 27,
   "metadata": {},
   "outputs": [
    {
     "data": {
      "image/png": "[encoded data removed]",
      "text/plain": [
       "<Figure size 640x480 with 1 Axes>"
      ]
     },
     "metadata": {},
     "output_type": "display_data"
    }
   ],
   "source": [
    "import matplotlib.pyplot as plt\n",
    "\n",
    "epochs = range(1, len(acc_train_history) + 1)\n",
    "plt.plot(epochs, acc_val_history, 'rx', label='Validation accuracy')\n",
    "plt.plot(epochs, acc_train_history, 'bo', label='Train accuracy')\n",
    "plt.title('Validation and training accuracy')\n",
    "plt.legend()\n",
    "ax = plt.gca()\n",
    "plt.show()"
   ]
  },
  {
   "cell_type": "code",
   "execution_count": null,
   "metadata": {},
   "outputs": [],
   "source": [
    "import matplotlib.pyplot as plt\n",
    "\n",
    "epochs = range(1, len(loss_train_history[:e]) + 1)\n",
    "plt.plot(epochs, loss_val_history[:e], 'rx', label='Validation loss')\n",
    "plt.plot(epochs, loss_train_history[:e], 'bo', label='Train loss')\n",
    "plt.title('Validation and training loss')\n",
    "plt.legend()\n",
    "plt.show()"
   ]
  },
  {
   "cell_type": "code",
   "execution_count": 19,
   "metadata": {},
   "outputs": [
    {
     "data": {
      "text/plain": [
       "[0.3936392244312071,\n",
       " 0.34990688605654624,\n",
       " 0.3434106192040828,\n",
       " 0.3470049697545267,\n",
       " 0.35447160190632265,\n",
       " 0.3775322978655177,\n",
       " 0.41684272044127985,\n",
       " 0.41169171059323895,\n",
       " 0.4452198054040632,\n",
       " 0.47066555806105176,\n",
       " 0.5505024852050889,\n",
       " 0.556001782357212,\n",
       " 0.657583836105562,\n",
       " 0.6672811549036733,\n",
       " 0.6428825935168613,\n",
       " 0.668974912184621]"
      ]
     },
     "execution_count": 19,
     "metadata": {},
     "output_type": "execute_result"
    }
   ],
   "source": [
    "loss_val_history"
   ]
  },
  {
   "cell_type": "code",
   "execution_count": 4,
   "metadata": {},
   "outputs": [],
   "source": [
    "import torch\n",
    "model_cross = torch.load(\"cross_encoder_temp3.pt\", weights_only=False)"
   ]
  },
  {
   "cell_type": "markdown",
   "metadata": {},
   "source": [
    "### Train with trainer"
   ]
  },
  {
   "cell_type": "code",
   "execution_count": null,
   "metadata": {},
   "outputs": [],
   "source": [
    "from datasets import Dataset, load_from_disk\n",
    "\n",
    "train_dataset = load_from_disk(\"train_dataset3\")\n",
    "train_dataset = train_dataset[:25000]\n",
    "train_dataset = Dataset.from_dict(train_dataset).shuffle(seed=42)"
   ]
  },
  {
   "cell_type": "code",
   "execution_count": null,
   "metadata": {},
   "outputs": [],
   "source": [
    "def tokenize_fcn(examples):\n",
    "    return tokenizer(examples[\"data\"], padding=\"max_length\", truncation=True)\n",
    "\n",
    "train_dataset_tokenized = train_dataset.map(tokenize_fcn, batched=True)\n",
    "train_dataset_tokenized = train_dataset_tokenized.rename_column(\"label\", \"labels\")\n",
    "train_dataset_tokenized = train_dataset_tokenized.remove_columns(\"data\")"
   ]
  },
  {
   "cell_type": "code",
   "execution_count": 8,
   "metadata": {},
   "outputs": [],
   "source": [
    "# load tokenized datset\n",
    "from datasets import load_from_disk\n",
    "train_dataset_tokenized = load_from_disk(\"train_dataset_tokenized\")"
   ]
  },
  {
   "cell_type": "code",
   "execution_count": null,
   "metadata": {},
   "outputs": [],
   "source": [
    "train_dataset_tokenized"
   ]
  },
  {
   "cell_type": "code",
   "execution_count": 10,
   "metadata": {},
   "outputs": [
    {
     "data": {
      "text/plain": [
       "825"
      ]
     },
     "execution_count": 10,
     "metadata": {},
     "output_type": "execute_result"
    }
   ],
   "source": [
    "import gc\n",
    "torch.cuda.empty_cache()\n",
    "gc.collect()"
   ]
  },
  {
   "cell_type": "code",
   "execution_count": 9,
   "metadata": {},
   "outputs": [
    {
     "data": {
      "text/html": [
       "\n",
       "    <div>\n",
       "      \n",
       "      <progress value='268' max='15630' style='width:300px; height:20px; vertical-align: middle;'></progress>\n",
       "      [  268/15630 02:23 < 2:18:19, 1.85 it/s, Epoch 0.17/10]\n",
       "    </div>\n",
       "    <table border=\"1\" class=\"dataframe\">\n",
       "  <thead>\n",
       " <tr style=\"text-align: left;\">\n",
       "      <th>Step</th>\n",
       "      <th>Training Loss</th>\n",
       "    </tr>\n",
       "  </thead>\n",
       "  <tbody>\n",
       "  </tbody>\n",
       "</table><p>"
      ],
      "text/plain": [
       "<IPython.core.display.HTML object>"
      ]
     },
     "metadata": {},
     "output_type": "display_data"
    },
    {
     "ename": "KeyboardInterrupt",
     "evalue": "",
     "output_type": "error",
     "traceback": [
      "\u001b[0;31m---------------------------------------------------------------------------\u001b[0m",
      "\u001b[0;31mKeyboardInterrupt\u001b[0m                         Traceback (most recent call last)",
      "Cell \u001b[0;32mIn[9], line 26\u001b[0m\n\u001b[1;32m      5\u001b[0m training_args \u001b[38;5;241m=\u001b[39m TrainingArguments(\n\u001b[1;32m      6\u001b[0m     output_dir \u001b[38;5;241m=\u001b[39m \u001b[38;5;124m\"\u001b[39m\u001b[38;5;124mcrossencoder_temp\u001b[39m\u001b[38;5;124m\"\u001b[39m,\n\u001b[1;32m      7\u001b[0m     learning_rate \u001b[38;5;241m=\u001b[39m \u001b[38;5;241m1e-5\u001b[39m,\n\u001b[0;32m   (...)\u001b[0m\n\u001b[1;32m     13\u001b[0m     seed \u001b[38;5;241m=\u001b[39m \u001b[38;5;241m42\u001b[39m\n\u001b[1;32m     14\u001b[0m )\n\u001b[1;32m     16\u001b[0m trainer \u001b[38;5;241m=\u001b[39m Trainer(\n\u001b[1;32m     17\u001b[0m     model \u001b[38;5;241m=\u001b[39m model_cross,\n\u001b[1;32m     18\u001b[0m     args \u001b[38;5;241m=\u001b[39m training_args,\n\u001b[0;32m   (...)\u001b[0m\n\u001b[1;32m     23\u001b[0m     \u001b[38;5;66;03m#compute_loss_func= loss_fn\u001b[39;00m\n\u001b[1;32m     24\u001b[0m )\n\u001b[0;32m---> 26\u001b[0m \u001b[43mtrainer\u001b[49m\u001b[38;5;241;43m.\u001b[39;49m\u001b[43mtrain\u001b[49m\u001b[43m(\u001b[49m\u001b[43m)\u001b[49m\n",
      "File \u001b[0;32m~/EbbaElise/exjobb-main/ebbaelise/lib/python3.12/site-packages/transformers/trainer.py:2171\u001b[0m, in \u001b[0;36mTrainer.train\u001b[0;34m(self, resume_from_checkpoint, trial, ignore_keys_for_eval, **kwargs)\u001b[0m\n\u001b[1;32m   2169\u001b[0m         hf_hub_utils\u001b[38;5;241m.\u001b[39menable_progress_bars()\n\u001b[1;32m   2170\u001b[0m \u001b[38;5;28;01melse\u001b[39;00m:\n\u001b[0;32m-> 2171\u001b[0m     \u001b[38;5;28;01mreturn\u001b[39;00m \u001b[43minner_training_loop\u001b[49m\u001b[43m(\u001b[49m\n\u001b[1;32m   2172\u001b[0m \u001b[43m        \u001b[49m\u001b[43margs\u001b[49m\u001b[38;5;241;43m=\u001b[39;49m\u001b[43margs\u001b[49m\u001b[43m,\u001b[49m\n\u001b[1;32m   2173\u001b[0m \u001b[43m        \u001b[49m\u001b[43mresume_from_checkpoint\u001b[49m\u001b[38;5;241;43m=\u001b[39;49m\u001b[43mresume_from_checkpoint\u001b[49m\u001b[43m,\u001b[49m\n\u001b[1;32m   2174\u001b[0m \u001b[43m        \u001b[49m\u001b[43mtrial\u001b[49m\u001b[38;5;241;43m=\u001b[39;49m\u001b[43mtrial\u001b[49m\u001b[43m,\u001b[49m\n\u001b[1;32m   2175\u001b[0m \u001b[43m        \u001b[49m\u001b[43mignore_keys_for_eval\u001b[49m\u001b[38;5;241;43m=\u001b[39;49m\u001b[43mignore_keys_for_eval\u001b[49m\u001b[43m,\u001b[49m\n\u001b[1;32m   2176\u001b[0m \u001b[43m    \u001b[49m\u001b[43m)\u001b[49m\n",
      "File \u001b[0;32m~/EbbaElise/exjobb-main/ebbaelise/lib/python3.12/site-packages/transformers/trainer.py:2536\u001b[0m, in \u001b[0;36mTrainer._inner_training_loop\u001b[0;34m(self, batch_size, args, resume_from_checkpoint, trial, ignore_keys_for_eval)\u001b[0m\n\u001b[1;32m   2530\u001b[0m \u001b[38;5;28;01mwith\u001b[39;00m context():\n\u001b[1;32m   2531\u001b[0m     tr_loss_step \u001b[38;5;241m=\u001b[39m \u001b[38;5;28mself\u001b[39m\u001b[38;5;241m.\u001b[39mtraining_step(model, inputs, num_items_in_batch)\n\u001b[1;32m   2533\u001b[0m \u001b[38;5;28;01mif\u001b[39;00m (\n\u001b[1;32m   2534\u001b[0m     args\u001b[38;5;241m.\u001b[39mlogging_nan_inf_filter\n\u001b[1;32m   2535\u001b[0m     \u001b[38;5;129;01mand\u001b[39;00m \u001b[38;5;129;01mnot\u001b[39;00m is_torch_xla_available()\n\u001b[0;32m-> 2536\u001b[0m     \u001b[38;5;129;01mand\u001b[39;00m (torch\u001b[38;5;241m.\u001b[39misnan(tr_loss_step) \u001b[38;5;129;01mor\u001b[39;00m \u001b[43mtorch\u001b[49m\u001b[38;5;241;43m.\u001b[39;49m\u001b[43misinf\u001b[49m\u001b[43m(\u001b[49m\u001b[43mtr_loss_step\u001b[49m\u001b[43m)\u001b[49m)\n\u001b[1;32m   2537\u001b[0m ):\n\u001b[1;32m   2538\u001b[0m     \u001b[38;5;66;03m# if loss is nan or inf simply add the average of previous logged losses\u001b[39;00m\n\u001b[1;32m   2539\u001b[0m     tr_loss \u001b[38;5;241m=\u001b[39m tr_loss \u001b[38;5;241m+\u001b[39m tr_loss \u001b[38;5;241m/\u001b[39m (\u001b[38;5;241m1\u001b[39m \u001b[38;5;241m+\u001b[39m \u001b[38;5;28mself\u001b[39m\u001b[38;5;241m.\u001b[39mstate\u001b[38;5;241m.\u001b[39mglobal_step \u001b[38;5;241m-\u001b[39m \u001b[38;5;28mself\u001b[39m\u001b[38;5;241m.\u001b[39m_globalstep_last_logged)\n\u001b[1;32m   2540\u001b[0m \u001b[38;5;28;01melse\u001b[39;00m:\n",
      "\u001b[0;31mKeyboardInterrupt\u001b[0m: "
     ]
    }
   ],
   "source": [
    "from transformers import Trainer, TrainingArguments\n",
    "\n",
    "#loss_fn = nn.CrossEntropyLoss()\n",
    "\n",
    "training_args = TrainingArguments(\n",
    "    output_dir = \"crossencoder_temp\",\n",
    "    learning_rate = 1e-5,\n",
    "    per_device_train_batch_size=16,\n",
    "    num_train_epochs = 10,\n",
    "    weight_decay = 0.01,\n",
    "    gradient_accumulation_steps=1,\n",
    "    #label_names = [\"labels\"],\n",
    "    seed = 42\n",
    ")\n",
    "\n",
    "trainer = Trainer(\n",
    "    model = model_cross,\n",
    "    args = training_args,\n",
    "    train_dataset = train_dataset_tokenized,\n",
    "    #eval_dataset = eval_dataset,\n",
    "    #processing_class = tokenizer,\n",
    "    #data_collator = data_collator, ??\n",
    "    #compute_loss_func= loss_fn\n",
    ")\n",
    "\n",
    "trainer.train()"
   ]
  },
  {
   "cell_type": "markdown",
   "metadata": {},
   "source": [
    "### Rerank"
   ]
  },
  {
   "cell_type": "code",
   "execution_count": 85,
   "metadata": {},
   "outputs": [],
   "source": [
    "\n",
    "corpus_text = corpus_ds[\"combined_text\"] #fult men snabbare\n",
    "corpus_pid = corpus_ds[\"product_id\"]\n",
    "query_text = query_test[\"query\"]\n",
    "query_qid = query_test[\"query_id\"]\n",
    "\n",
    "p_id_to_index = {p_id: idx for idx,p_id in enumerate(corpus_pid)}\n",
    "q_id_to_index = {q_id: idx for idx,q_id in enumerate(query_qid)}\n",
    "\n",
    "def pid_to_text(pid):\n",
    "    return corpus_text[p_id_to_index[pid]]\n",
    "                     \n",
    "def qid_to_text(qid):\n",
    "    return query_text[q_id_to_index[qid]]"
   ]
  },
  {
   "cell_type": "code",
   "execution_count": 53,
   "metadata": {},
   "outputs": [
    {
     "data": {
      "text/plain": [
       "0"
      ]
     },
     "execution_count": 53,
     "metadata": {},
     "output_type": "execute_result"
    }
   ],
   "source": [
    "# hjälper ibland om problem med cuda-minne\n",
    "import gc\n",
    "torch.cuda.empty_cache()\n",
    "gc.collect()"
   ]
  },
  {
   "cell_type": "code",
   "execution_count": null,
   "metadata": {},
   "outputs": [],
   "source": [
    "# create pairs\n",
    "\"\"\"\n",
    "top_100_labels_test = load_from_disk(\"top_100_labels_test.npy\")\n",
    "query_product_text = []\n",
    "query_ids = top_100_labels_test[\"query_id\"]\n",
    "product_ids = top_100_labels_test[\"product_id\"]\n",
    "for q_id,p_id in zip(query_ids, product_ids):\n",
    "    query_product_text.append([qid_to_text(q_id), pid_to_text(p_id)])\n",
    "top_100_labels_test = top_100_labels_test.add_column(\"query_product_text\", query_product_text)\n",
    "\"\"\""
   ]
  },
  {
   "cell_type": "code",
   "execution_count": null,
   "metadata": {},
   "outputs": [
    {
     "name": "stderr",
     "output_type": "stream",
     "text": [
      "Parameter 'indices'=<generator object <genexpr> at 0x7fc940ba79f0> of the transform datasets.arrow_dataset.Dataset.select couldn't be hashed properly, a random hash was used instead. Make sure your transforms and parameters are serializable with pickle or dill for the dataset fingerprinting and caching to work. If you reuse this transform, the caching mechanism will consider it to be different from the previous calls and recompute everything. This warning is only showed once. Subsequent hashing failures won't be showed.\n"
     ]
    }
   ],
   "source": [
    "# create smaller dataset for testing\n",
    "\"\"\"\n",
    "from datasets import Dataset\n",
    "top_100_labels_test = top_100_labels_test.select(i for i in range(len(top_100_labels_test)) if i<1810000 and i%200000<10000)\n",
    "top_100_labels_test = Dataset.from_dict(top_100_labels_test)\n",
    "\"\"\""
   ]
  },
  {
   "cell_type": "code",
   "execution_count": null,
   "metadata": {},
   "outputs": [],
   "source": [
    "from torch.utils.data import TensorDataset, DataLoader\n",
    "from datasets import load_from_disk\n",
    "\n",
    "top_100_labels_test = load_from_disk(\"test_top_100\")\n",
    "#top_100_labels_test = load_from_disk(\"test_top_100_nano\")\n",
    "\n",
    "test_tokens = tokenizer(top_100_labels_test[\"query_product_text\"], padding=True, truncation=True, return_tensors=\"pt\")\n",
    "test_dataset = TensorDataset(test_tokens[\"input_ids\"], test_tokens[\"attention_mask\"])\n",
    "test_dataloader = DataLoader(test_dataset, batch_size=128, shuffle=False)"
   ]
  },
  {
   "cell_type": "code",
   "execution_count": 10,
   "metadata": {},
   "outputs": [],
   "source": [
    "model_cross.eval()\n",
    "logits = []\n",
    "with torch.no_grad():\n",
    "    for input_ids, attention_mask in test_dataloader:\n",
    "            tokens = {\"input_ids\": input_ids.to(device), \"attention_mask\": attention_mask.to(device)}\n",
    "            outputs = model_cross(**tokens)\n",
    "            logits.append(outputs[\"logits\"].to(\"cpu\"))\n",
    "logits = torch.cat(logits)\n",
    "soft = nn.Softmax(dim=-1)\n",
    "scores = soft(logits)\n",
    "rerank_scores = scores[:,1]"
   ]
  },
  {
   "cell_type": "code",
   "execution_count": 70,
   "metadata": {},
   "outputs": [],
   "source": [
    "def map_score(y_true, y_pred, k):\n",
    "    all_ap = []\n",
    "    for i in range(len(y_true)):\n",
    "        pred = np.array(y_pred[i], dtype='float32')\n",
    "        true = np.array(y_true[i], dtype='float32')\n",
    "        data_dict = {\"pred\" : pred, \"true\" : true}\n",
    "        ds = Dataset.from_dict(data_dict)\n",
    "        ds_sorted = ds.sort(\"pred\", reverse=True)\n",
    "\n",
    "        pred = ds_sorted[\"pred\"]\n",
    "        true = ds_sorted[\"true\"]\n",
    "        true_k = true[:k]\n",
    "        if sum(true_k) == 0:\n",
    "            app = 0\n",
    "        else:\n",
    "            ap = []\n",
    "            for j in range(len(true_k)):\n",
    "                p = (sum(true_k[:j+1])*true_k[j])/(j+1)\n",
    "\n",
    "                ap.append(p)\n",
    "        \n",
    "            app = sum(ap)/sum(true_k)\n",
    "        all_ap.append(app)\n",
    "\n",
    "    mean_ap = sum(all_ap)/(i+1)\n",
    "    return mean_ap\n",
    "\n",
    "def map_at_k(top_100_labels : Dataset, k, top_k):\n",
    "    y_true = []\n",
    "    y_score = []\n",
    "    score_row = []\n",
    "    true_row = []\n",
    "    for i in range(top_100_labels.num_rows):\n",
    "        score_row.append(top_100_labels[i][\"score\"])\n",
    "        true_row.append(top_100_labels[i][\"label\"])\n",
    "        if (i+1) % top_k == 0:\n",
    "            y_true.append(true_row)\n",
    "            y_score.append(score_row)\n",
    "            score_row = []\n",
    "            true_row = []\n",
    "\n",
    "    y_score = np.array(y_score)\n",
    "    y_true = np.array(y_true)\n",
    "    return map_score(y_true, y_score, k=k)"
   ]
  },
  {
   "cell_type": "code",
   "execution_count": 61,
   "metadata": {},
   "outputs": [],
   "source": [
    "def mrr_score(y_true, y_pred, k):\n",
    "    all_rr = []\n",
    "    for i in range(len(y_true)):\n",
    "        pred = np.array(y_pred[i], dtype='float32')\n",
    "        true = np.array(y_true[i], dtype='float32')\n",
    "        data_dict = {\"pred\" : pred, \"true\" : true}\n",
    "        ds = Dataset.from_dict(data_dict)\n",
    "        ds_sorted = ds.sort(\"pred\", reverse=True)\n",
    "\n",
    "        pred = ds_sorted[\"pred\"]\n",
    "        true = ds_sorted[\"true\"]\n",
    "\n",
    "        true_k = true[:k]\n",
    "        try:\n",
    "            rr = 1 / (true_k.index(1)+1)\n",
    "        except ValueError:\n",
    "            rr = 0\n",
    "        all_rr.append(rr)\n",
    "\n",
    "    mean_rr = sum(all_rr)/(i+1)\n",
    "    return mean_rr\n",
    "\n",
    "\n",
    "def mrr_at_k(top_100_labels : Dataset, k, top_k):\n",
    "    y_true = []\n",
    "    y_score = []\n",
    "    score_row = []\n",
    "    true_row = []\n",
    "    for i in range(top_100_labels.num_rows):\n",
    "        score_row.append(top_100_labels[i][\"score\"])\n",
    "        true_row.append(top_100_labels[i][\"label\"])\n",
    "        if (i+1) % top_k == 0:\n",
    "            y_true.append(true_row)\n",
    "            y_score.append(score_row)\n",
    "            score_row = []\n",
    "            true_row = []\n",
    "\n",
    "    y_score = np.array(y_score)\n",
    "    y_true = np.array(y_true)\n",
    "    return mrr_score(y_true, y_score, k=k)"
   ]
  },
  {
   "cell_type": "code",
   "execution_count": 85,
   "metadata": {},
   "outputs": [],
   "source": [
    "from datasets import load_from_disk\n",
    "top_ds = load_from_disk(\"theca_top_ds_test\")"
   ]
  },
  {
   "cell_type": "code",
   "execution_count": 86,
   "metadata": {},
   "outputs": [],
   "source": [
    "temp_dataset = top_ds.remove_columns(\"score\")\n",
    "perfect = temp_dataset.add_column(\"score\", temp_dataset[\"label\"])"
   ]
  },
  {
   "cell_type": "code",
   "execution_count": 87,
   "metadata": {},
   "outputs": [
    {
     "name": "stdout",
     "output_type": "stream",
     "text": [
      "MRR@10: 0.6789199739752765\n"
     ]
    }
   ],
   "source": [
    "mrr = mrr_at_k(perfect, k=10, top_k=100)\n",
    "print(f\"MRR@10: {mrr}\")"
   ]
  },
  {
   "cell_type": "code",
   "execution_count": 11,
   "metadata": {},
   "outputs": [
    {
     "name": "stdout",
     "output_type": "stream",
     "text": [
      "NDCG@10: 0.4782665636172819\n"
     ]
    }
   ],
   "source": [
    "# print score\n",
    "temp_dataset = top_100_labels_test.remove_columns(\"score\")\n",
    "test_dataset_labels_scores = temp_dataset.add_column(\"score\", rerank_scores.tolist())\n",
    "\n",
    "print(f\"NDCG@10: {ndcg_at_k(test_dataset_labels_scores, k=10,top_k=100)}\")"
   ]
  },
  {
   "cell_type": "code",
   "execution_count": null,
   "metadata": {},
   "outputs": [
    {
     "name": "stdout",
     "output_type": "stream",
     "text": [
      "NDCG@10: 1.0\n"
     ]
    }
   ],
   "source": [
    "# print oracle score\n",
    "temp_dataset = top_100_labels_test.remove_columns(\"score\")\n",
    "test_dataset_labels_perfect = temp_dataset.add_column(\"score\", temp_dataset[\"label\"])\n",
    "\n",
    "print(f\"NDCG@10: {ndcg_at_k(test_dataset_labels_perfect, k=10,top_k=100)}\")"
   ]
  },
  {
   "cell_type": "code",
   "execution_count": 40,
   "metadata": {},
   "outputs": [],
   "source": [
    "from datasets import Dataset\n",
    "from sklearn.metrics import ndcg_score\n",
    "import numpy as np\n",
    "\n",
    "def ndcg_at_k(top_100_labels : Dataset, k, top_k):\n",
    "    y_true = []\n",
    "    y_score = []\n",
    "    score_row = []\n",
    "    true_row = []\n",
    "    for i in range(top_100_labels.num_rows):\n",
    "        score_row.append(top_100_labels[i][\"score\"])\n",
    "        true_row.append(top_100_labels[i][\"label\"])\n",
    "        if (i+1) % top_k == 0:\n",
    "            y_true.append(true_row)\n",
    "            y_score.append(score_row)\n",
    "            score_row = []\n",
    "            true_row = []\n",
    "\n",
    "    y_score = np.array(y_score)\n",
    "    y_true = np.array(y_true)\n",
    "    return ndcg_score(y_true, y_score, k=k)"
   ]
  },
  {
   "cell_type": "code",
   "execution_count": null,
   "metadata": {},
   "outputs": [],
   "source": [
    "from sklearn.metrics import recall_score\n",
    "\n",
    "def recall_at_k(top_100_labels : Dataset, k, top_k):\n",
    "    recall_scores = []\n",
    "    for i in range(top_100_labels.num_rows / top_k):\n",
    "        top_k_temp = top_100_labels[i*top_k:(i+1)*top_k]\n",
    "        top_k_temp = Dataset.from_dict(top_k_temp)\n",
    "        top_k_temp = top_k_temp.to_pandas()\n",
    "        top_k_temp = top_k_temp.sort_values(by=['score'], ascending=[False])\n",
    "        y_true = top_k_temp[\"label\"]\n",
    "        # can choose y_pred as all ones in top k and the rest zeroes, or just use labels and set zeroes after k, recall doesnt care about fp\n",
    "        y_pred = np.zeros(top_k)\n",
    "        y_pred[:k] = np.ones(k) \n",
    "        recall_scores += recall_score(y_true, y_pred)\n",
    "        \n",
    "    return sum(recall_scores)/len(recall_scores)"
   ]
  },
  {
   "cell_type": "code",
   "execution_count": 32,
   "metadata": {},
   "outputs": [
    {
     "data": {
      "image/png": "[encoded data removed]",
      "text/plain": [
       "<Figure size 640x480 with 1 Axes>"
      ]
     },
     "metadata": {},
     "output_type": "display_data"
    },
    {
     "data": {
      "image/png": "[encoded data removed]",
      "text/plain": [
       "<Figure size 640x480 with 1 Axes>"
      ]
     },
     "metadata": {},
     "output_type": "display_data"
    }
   ],
   "source": [
    "import numpy as np\n",
    "import matplotlib.pyplot as plt\n",
    "loss_val_history = np.load(\"FULL_train1/loss_val_history.npy\")\n",
    "acc_val_history = np.load(\"FULL_train1/acc_val_history.npy\")\n",
    "loss_train_history = np.load(\"FULL_train1/loss_train_history.npy\")\n",
    "acc_train_history = np.load(\"FULL_train1/acc_train_history.npy\")\n",
    "\n",
    "epochs = range(1, len(loss_val_history) + 1)\n",
    "plt.plot(epochs, loss_val_history, 'rx', label='Validation loss')\n",
    "plt.plot(epochs, loss_train_history, 'bo', label='Training loss')\n",
    "plt.title('Validation and training loss')\n",
    "plt.legend()\n",
    "ax = plt.gca()\n",
    "plt.show()\n",
    "\n",
    "epochs = range(1, len(acc_val_history) + 1)\n",
    "plt.plot(epochs, acc_val_history, 'rx', label='Validation accuracy')\n",
    "plt.plot(epochs, acc_train_history, 'bo', label='Training accuracy')\n",
    "plt.title('Validation and training accuracy')\n",
    "plt.legend()\n",
    "ax = plt.gca()\n",
    "plt.show()"
   ]
  },
  {
   "cell_type": "code",
   "execution_count": 5,
   "metadata": {},
   "outputs": [
    {
     "data": {
      "image/png": "[encoded data removed]",
      "text/plain": [
       "<Figure size 640x480 with 1 Axes>"
      ]
     },
     "metadata": {},
     "output_type": "display_data"
    },
    {
     "data": {
      "image/png": "[encoded data removed]",
      "text/plain": [
       "<Figure size 640x480 with 1 Axes>"
      ]
     },
     "metadata": {},
     "output_type": "display_data"
    },
    {
     "name": "stdout",
     "output_type": "stream",
     "text": [
      "[0.36647257 0.35396822]\n",
      "[0.8315071  0.83938426]\n"
     ]
    }
   ],
   "source": [
    "import numpy as np\n",
    "import matplotlib.pyplot as plt\n",
    "k = 0\n",
    "loss_val_history = np.load(\"loss_val_history\"+str(k)+\"_11.npy\")\n",
    "acc_val_history = np.load(\"acc_val_history\"+str(k)+\"_11.npy\")\n",
    "loss_train_history = np.load(\"loss_train_history\"+str(k)+\"_11.npy\")\n",
    "acc_train_history = np.load(\"acc_train_history\"+str(k)+\"_11.npy\")\n",
    "\n",
    "epochs = range(1, len(loss_val_history) + 1)\n",
    "plt.plot(epochs, loss_val_history, 'rx', label='Validation loss')\n",
    "plt.plot(epochs, loss_train_history, 'bo', label='Training loss')\n",
    "plt.title('Validation and training loss')\n",
    "plt.legend()\n",
    "ax = plt.gca()\n",
    "plt.show()\n",
    "\n",
    "epochs = range(1, len(acc_val_history) + 1)\n",
    "plt.plot(epochs, acc_val_history, 'rx', label='Validation accuracy')\n",
    "plt.plot(epochs, acc_train_history, 'bo', label='Training accuracy')\n",
    "plt.title('Validation and training accuracy')\n",
    "plt.legend()\n",
    "ax = plt.gca()\n",
    "plt.show()\n",
    "\n",
    "print(loss_val_history)\n",
    "print(acc_val_history)"
   ]
  },
  {
   "cell_type": "code",
   "execution_count": 10,
   "metadata": {},
   "outputs": [
    {
     "data": {
      "image/png": "[encoded data removed]",
      "text/plain": [
       "<Figure size 640x480 with 1 Axes>"
      ]
     },
     "metadata": {},
     "output_type": "display_data"
    },
    {
     "data": {
      "image/png": "[encoded data removed]",
      "text/plain": [
       "<Figure size 640x480 with 1 Axes>"
      ]
     },
     "metadata": {},
     "output_type": "display_data"
    },
    {
     "name": "stdout",
     "output_type": "stream",
     "text": [
      "[0.37214696 0.34889364]\n",
      "[0.8289441 0.8444632]\n"
     ]
    }
   ],
   "source": [
    "import numpy as np\n",
    "import matplotlib.pyplot as plt\n",
    "k = 0\n",
    "loss_val_history = np.load(\"loss_val_history\"+str(k)+\"_12.npy\")\n",
    "acc_val_history = np.load(\"acc_val_history\"+str(k)+\"_12.npy\")\n",
    "loss_train_history = np.load(\"loss_train_history\"+str(k)+\"_12.npy\")\n",
    "acc_train_history = np.load(\"acc_train_history\"+str(k)+\"_12.npy\")\n",
    "\n",
    "epochs = range(1, len(loss_val_history) + 1)\n",
    "plt.plot(epochs, loss_val_history, 'rx', label='Validation loss')\n",
    "plt.plot(epochs, loss_train_history, 'bo', label='Training loss')\n",
    "plt.title('Validation and training loss')\n",
    "plt.legend()\n",
    "ax = plt.gca()\n",
    "plt.show()\n",
    "\n",
    "epochs = range(1, len(acc_val_history) + 1)\n",
    "plt.plot(epochs, acc_val_history, 'rx', label='Validation accuracy')\n",
    "plt.plot(epochs, acc_train_history, 'bo', label='Training accuracy')\n",
    "plt.title('Validation and training accuracy')\n",
    "plt.legend()\n",
    "ax = plt.gca()\n",
    "plt.show()\n",
    "\n",
    "print(loss_val_history)\n",
    "print(acc_val_history)"
   ]
  },
  {
   "cell_type": "code",
   "execution_count": null,
   "metadata": {},
   "outputs": [
    {
     "data": {
      "image/png": "[encoded data removed]",
      "text/plain": [
       "<Figure size 640x480 with 1 Axes>"
      ]
     },
     "metadata": {},
     "output_type": "display_data"
    },
    {
     "data": {
      "image/png": "[encoded data removed]",
      "text/plain": [
       "<Figure size 640x480 with 1 Axes>"
      ]
     },
     "metadata": {},
     "output_type": "display_data"
    },
    {
     "name": "stdout",
     "output_type": "stream",
     "text": [
      "[0.36848091 0.34680352 0.32829798 0.32330829 0.32211358 0.32099827\n",
      " 0.32049839 0.317873   0.3175062  0.31616128]\n",
      "[0.832949   0.84171057 0.85198605 0.8551942  0.8561433  0.85670024\n",
      " 0.85713166 0.85875535 0.8592181  0.859728  ]\n"
     ]
    }
   ],
   "source": [
    "# 5 ENCODERS MED 1+2 POSITIVA OCH NEGATIVA \n",
    "import numpy as np\n",
    "import matplotlib.pyplot as plt\n",
    "k = 5\n",
    "loss_val_history = np.load(\"training/loss_val_history_\"+str(k)+\".npy\")\n",
    "acc_val_history = np.load(\"training/acc_val_history_\"+str(k)+\".npy\")\n",
    "loss_train_history = np.load(\"training/loss_train_history_\"+str(k)+\".npy\")\n",
    "acc_train_history = np.load(\"training/acc_train_history_\"+str(k)+\".npy\")\n",
    "\n",
    "epochs = range(1, len(loss_val_history) + 1)\n",
    "plt.plot(epochs, loss_val_history, 'rx', label='Validation loss')\n",
    "plt.plot(epochs, loss_train_history, 'bo', label='Training loss')\n",
    "plt.title('Validation and training loss')\n",
    "plt.legend()\n",
    "ax = plt.gca()\n",
    "plt.show()\n",
    "\n",
    "epochs = range(1, len(acc_val_history) + 1)\n",
    "plt.plot(epochs, acc_val_history, 'rx', label='Validation accuracy')\n",
    "plt.plot(epochs, acc_train_history, 'bo', label='Training accuracy')\n",
    "plt.title('Validation and training accuracy')\n",
    "plt.legend()\n",
    "ax = plt.gca()\n",
    "plt.show()\n",
    "\n",
    "print(loss_val_history)\n",
    "print(acc_val_history)"
   ]
  },
  {
   "cell_type": "code",
   "execution_count": null,
   "metadata": {},
   "outputs": [
    {
     "data": {
      "image/png": "[encoded data removed]",
      "text/plain": [
       "<Figure size 640x480 with 1 Axes>"
      ]
     },
     "metadata": {},
     "output_type": "display_data"
    },
    {
     "data": {
      "image/png": "[encoded data removed]",
      "text/plain": [
       "<Figure size 640x480 with 1 Axes>"
      ]
     },
     "metadata": {},
     "output_type": "display_data"
    },
    {
     "name": "stdout",
     "output_type": "stream",
     "text": [
      "[0.35701865 0.31070687 0.31001189 0.30265129 0.30145731 0.29978685\n",
      " 0.30040785 0.29996377 0.29805945 0.2974468 ]\n",
      "[0.8384475  0.8613987  0.86362636 0.86790913 0.8684033  0.86948574\n",
      " 0.8696426  0.87040347 0.87113297 0.8717605 ]\n"
     ]
    }
   ],
   "source": [
    "# 8 ENCODERS MED 1+2 POSITIVA OCH NEGATIVA \n",
    "import numpy as np\n",
    "import matplotlib.pyplot as plt\n",
    "k = 8\n",
    "loss_val_history = np.load(\"training/loss_val_history_\"+str(k)+\".npy\")\n",
    "acc_val_history = np.load(\"training/acc_val_history_\"+str(k)+\".npy\")\n",
    "loss_train_history = np.load(\"training/loss_train_history_\"+str(k)+\".npy\")\n",
    "acc_train_history = np.load(\"training/acc_train_history_\"+str(k)+\".npy\")\n",
    "\n",
    "ndcgk = np.load(\"ndcgk.npy\")\n",
    "mapk = np.load(\"mapk.npy\")\n",
    "mrrk = np.load(\"mrrk.npy\")\n",
    "\n",
    "epochs = range(1, len(loss_val_history) + 1)\n",
    "plt.plot(epochs, loss_val_history, 'rx', label='Validation loss')\n",
    "plt.plot(epochs, loss_train_history, 'bo', label='Training loss')\n",
    "plt.plot(epochs, ndcgk, 'g*', label='ndcg')\n",
    "plt.title('Validation and training loss')\n",
    "plt.legend()\n",
    "ax = plt.gca()\n",
    "plt.show()\n",
    "\n",
    "epochs = range(1, len(acc_val_history) + 1)\n",
    "plt.plot(epochs, acc_val_history, 'rx', label='Validation accuracy')\n",
    "plt.plot(epochs, acc_train_history, 'bo', label='Training accuracy')\n",
    "plt.plot(epochs, ndcgk, 'g*', label='ndcg')\n",
    "plt.title('Validation and training accuracy')\n",
    "plt.legend()\n",
    "ax = plt.gca()\n",
    "plt.show()\n",
    "\n",
    "print(loss_val_history)\n",
    "print(acc_val_history)"
   ]
  },
  {
   "cell_type": "code",
   "execution_count": 8,
   "metadata": {},
   "outputs": [
    {
     "data": {
      "image/png": "[encoded data removed]",
      "text/plain": [
       "<Figure size 640x480 with 1 Axes>"
      ]
     },
     "metadata": {},
     "output_type": "display_data"
    },
    {
     "data": {
      "image/png": "[encoded data removed]",
      "text/plain": [
       "<Figure size 640x480 with 1 Axes>"
      ]
     },
     "metadata": {},
     "output_type": "display_data"
    },
    {
     "name": "stdout",
     "output_type": "stream",
     "text": [
      "[2.90046728 3.15591313 3.33106797 3.34397432 3.46443432 3.57008087\n",
      " 3.5878107  3.60884749 3.67657396 3.67504341]\n",
      "[0.5318226  0.5299714  0.5284419  0.52917135 0.5271555  0.52577496\n",
      " 0.5254377  0.5268731  0.5255946  0.52714765]\n"
     ]
    }
   ],
   "source": [
    "# 5 ENCODERS MED RANDOM NEGATIVA \n",
    "import numpy as np\n",
    "import matplotlib.pyplot as plt\n",
    "k = 5\n",
    "loss_val_history = np.load(\"training/loss_val_history_\"+str(k)+\"rand.npy\")\n",
    "acc_val_history = np.load(\"training/acc_val_history_\"+str(k)+\"rand.npy\")\n",
    "loss_train_history = np.load(\"training/loss_train_history_\"+str(k)+\"rand.npy\")\n",
    "acc_train_history = np.load(\"training/acc_train_history_\"+str(k)+\"rand.npy\")\n",
    "\n",
    "epochs = range(1, len(loss_val_history) + 1)\n",
    "plt.plot(epochs, loss_val_history, 'rx', label='Validation loss')\n",
    "plt.plot(epochs, loss_train_history, 'bo', label='Training loss')\n",
    "plt.title('Validation and training loss')\n",
    "plt.legend()\n",
    "ax = plt.gca()\n",
    "plt.show()\n",
    "\n",
    "epochs = range(1, len(acc_val_history) + 1)\n",
    "plt.plot(epochs, acc_val_history, 'rx', label='Validation accuracy')\n",
    "plt.plot(epochs, acc_train_history, 'bo', label='Training accuracy')\n",
    "plt.title('Validation and training accuracy')\n",
    "plt.legend()\n",
    "ax = plt.gca()\n",
    "plt.show()\n",
    "\n",
    "print(loss_val_history)\n",
    "print(acc_val_history)"
   ]
  },
  {
   "cell_type": "code",
   "execution_count": 9,
   "metadata": {},
   "outputs": [
    {
     "data": {
      "image/png": "[encoded data removed]",
      "text/plain": [
       "<Figure size 640x480 with 1 Axes>"
      ]
     },
     "metadata": {},
     "output_type": "display_data"
    },
    {
     "data": {
      "image/png": "[encoded data removed]",
      "text/plain": [
       "<Figure size 640x480 with 1 Axes>"
      ]
     },
     "metadata": {},
     "output_type": "display_data"
    },
    {
     "name": "stdout",
     "output_type": "stream",
     "text": [
      "[3.21918053 3.59472086 3.7802834  3.91699192 4.01711764 4.03418063\n",
      " 4.19841109 4.19120816 4.28226643 4.38127711]\n",
      "[0.5226845  0.5207784  0.5301205  0.5328737  0.5313441  0.5350935\n",
      " 0.5308107  0.53125    0.53093624 0.53034794]\n"
     ]
    }
   ],
   "source": [
    "# 5 ENCODERS MED RANDOM NEGATIVA \n",
    "import numpy as np\n",
    "import matplotlib.pyplot as plt\n",
    "k = 8\n",
    "loss_val_history = np.load(\"training/loss_val_history_\"+str(k)+\"rand.npy\")\n",
    "acc_val_history = np.load(\"training/acc_val_history_\"+str(k)+\"rand.npy\")\n",
    "loss_train_history = np.load(\"training/loss_train_history_\"+str(k)+\"rand.npy\")\n",
    "acc_train_history = np.load(\"training/acc_train_history_\"+str(k)+\"rand.npy\")\n",
    "\n",
    "epochs = range(1, len(loss_val_history) + 1)\n",
    "plt.plot(epochs, loss_val_history, 'rx', label='Validation loss')\n",
    "plt.plot(epochs, loss_train_history, 'bo', label='Training loss')\n",
    "plt.title('Validation and training loss')\n",
    "plt.legend()\n",
    "ax = plt.gca()\n",
    "plt.show()\n",
    "\n",
    "epochs = range(1, len(acc_val_history) + 1)\n",
    "plt.plot(epochs, acc_val_history, 'rx', label='Validation accuracy')\n",
    "plt.plot(epochs, acc_train_history, 'bo', label='Training accuracy')\n",
    "plt.title('Validation and training accuracy')\n",
    "plt.legend()\n",
    "ax = plt.gca()\n",
    "plt.show()\n",
    "\n",
    "print(loss_val_history)\n",
    "print(acc_val_history)"
   ]
  },
  {
   "cell_type": "code",
   "execution_count": 2,
   "metadata": {},
   "outputs": [
    {
     "ename": "TypeError",
     "evalue": "can only concatenate str (not \"int\") to str",
     "output_type": "error",
     "traceback": [
      "\u001b[0;31m---------------------------------------------------------------------------\u001b[0m",
      "\u001b[0;31mTypeError\u001b[0m                                 Traceback (most recent call last)",
      "Cell \u001b[0;32mIn[2], line 2\u001b[0m\n\u001b[1;32m      1\u001b[0m \u001b[38;5;28;01mimport\u001b[39;00m\u001b[38;5;250m \u001b[39m\u001b[38;5;21;01mnumpy\u001b[39;00m\u001b[38;5;250m \u001b[39m\u001b[38;5;28;01mas\u001b[39;00m\u001b[38;5;250m \u001b[39m\u001b[38;5;21;01mnp\u001b[39;00m\n\u001b[0;32m----> 2\u001b[0m acc_val \u001b[38;5;241m=\u001b[39m np\u001b[38;5;241m.\u001b[39mload(\u001b[38;5;124;43m\"\u001b[39;49m\u001b[38;5;124;43macc_val_history\u001b[39;49m\u001b[38;5;124;43m\"\u001b[39;49m\u001b[38;5;241;43m+\u001b[39;49m\u001b[38;5;241;43m0\u001b[39;49m\u001b[38;5;241m+\u001b[39m\u001b[38;5;124m\"\u001b[39m\u001b[38;5;124m_11.npy\u001b[39m\u001b[38;5;124m\"\u001b[39m)\n\u001b[1;32m      3\u001b[0m acc_val2 \u001b[38;5;241m=\u001b[39m np\u001b[38;5;241m.\u001b[39mload(\u001b[38;5;124m\"\u001b[39m\u001b[38;5;124macc_val_history\u001b[39m\u001b[38;5;124m\"\u001b[39m\u001b[38;5;241m+\u001b[39m\u001b[38;5;241m1\u001b[39m\u001b[38;5;241m+\u001b[39m\u001b[38;5;124m\"\u001b[39m\u001b[38;5;124m_11.npy\u001b[39m\u001b[38;5;124m\"\u001b[39m)\n\u001b[1;32m      4\u001b[0m acc_val \u001b[38;5;241m-\u001b[39m acc_val2\n",
      "\u001b[0;31mTypeError\u001b[0m: can only concatenate str (not \"int\") to str"
     ]
    }
   ],
   "source": [
    "import numpy as np\n",
    "acc_val = np.load(\"acc_val_history\"+0+\"_11.npy\")\n",
    "acc_val2 = np.load(\"acc_val_history\"+1+\"_11.npy\")\n",
    "acc_val - acc_val2"
   ]
  },
  {
   "cell_type": "code",
   "execution_count": null,
   "metadata": {},
   "outputs": [],
   "source": [
    "mean_loss_11 = []\n",
    "for k in range(5):\n",
    "    acc_val = np.load(\"acc_val_history\"+str(k)+\"_11.npy\")\n",
    "    mean_"
   ]
  },
  {
   "cell_type": "code",
   "execution_count": 10,
   "metadata": {},
   "outputs": [],
   "source": [
    "import torch\n",
    "model_temp = torch.load(\"cross_encoder_temp19.pt\", weights_only=False)\n",
    "torch.save(model_temp, \"pretrained_crossencoder.pt\")"
   ]
  },
  {
   "cell_type": "code",
   "execution_count": 17,
   "metadata": {},
   "outputs": [
    {
     "data": {
      "text/plain": [
       "array([0.34061973, 0.31641011, 0.30230124, 0.30071958])"
      ]
     },
     "execution_count": 17,
     "metadata": {},
     "output_type": "execute_result"
    }
   ],
   "source": [
    "loss_val_history"
   ]
  },
  {
   "cell_type": "code",
   "execution_count": 25,
   "metadata": {},
   "outputs": [
    {
     "data": {
      "text/plain": [
       "array([0.510016  , 0.52884614, 0.5344551 , 0.5500801 , 0.56209934,\n",
       "       0.5641026 , 0.5761218 , 0.58092946, 0.5849359 , 0.5897436 ,\n",
       "       0.5917468 , 0.59415066, 0.59615386, 0.5985577 , 0.59975964,\n",
       "       0.6005609 , 0.60176283, 0.5977564 , 0.60216343, 0.60016024],\n",
       "      dtype=float32)"
      ]
     },
     "execution_count": 25,
     "metadata": {},
     "output_type": "execute_result"
    }
   ],
   "source": [
    "acc_val_history"
   ]
  },
  {
   "cell_type": "code",
   "execution_count": 73,
   "metadata": {},
   "outputs": [
    {
     "data": {
      "text/plain": [
       "array([0.24532903, 0.25009295, 0.23111653, 0.22838436, 0.22678521])"
      ]
     },
     "execution_count": 73,
     "metadata": {},
     "output_type": "execute_result"
    }
   ],
   "source": [
    "loss_val_history"
   ]
  },
  {
   "cell_type": "code",
   "execution_count": 90,
   "metadata": {},
   "outputs": [],
   "source": [
    "from datasets import load_from_disk, concatenate_datasets\n",
    "import random\n",
    "\n",
    "ds = load_from_disk(\"full_TEST\")\n",
    "q_idx = random.sample(range(len(ds)//100),100)\n",
    "ds_list = []\n",
    "for idx in q_idx:\n",
    "    ds_list.append(ds.select(range(idx*100,(idx+1)*100)))\n",
    "\n",
    "queries100_test = concatenate_datasets(ds_list)\n"
   ]
  },
  {
   "cell_type": "code",
   "execution_count": 93,
   "metadata": {},
   "outputs": [
    {
     "data": {
      "text/plain": [
       "array([0.14694434, 0.3254321 , 0.3464122 , 0.35127658, 0.35236695],\n",
       "      dtype=float32)"
      ]
     },
     "execution_count": 93,
     "metadata": {},
     "output_type": "execute_result"
    }
   ],
   "source": [
    "diffs = np.load(\"mean_diffs.npy\")\n",
    "diffs"
   ]
  },
  {
   "cell_type": "code",
   "execution_count": 95,
   "metadata": {},
   "outputs": [
    {
     "data": {
      "text/plain": [
       "array([0.14675786], dtype=float32)"
      ]
     },
     "execution_count": 95,
     "metadata": {},
     "output_type": "execute_result"
    }
   ],
   "source": [
    "diff = np.load(\"mean_diff_untrained.npy\")\n",
    "diff"
   ]
  },
  {
   "cell_type": "code",
   "execution_count": 154,
   "metadata": {},
   "outputs": [
    {
     "data": {
      "text/plain": [
       "np.float32(0.5353827)"
      ]
     },
     "execution_count": 154,
     "metadata": {},
     "output_type": "execute_result"
    }
   ],
   "source": [
    "scores_untrained = np.load(\"untrained_scores.npy\")\n",
    "sum(scores_untrained)/len(scores_untrained)"
   ]
  },
  {
   "cell_type": "code",
   "execution_count": 187,
   "metadata": {},
   "outputs": [],
   "source": [
    "i=4"
   ]
  },
  {
   "cell_type": "code",
   "execution_count": 188,
   "metadata": {},
   "outputs": [
    {
     "data": {
      "text/plain": [
       "array([0.4973182 , 0.49915215, 0.5608865 , 0.4985144 , 0.5385064 ,\n",
       "       0.5209652 , 0.66098213, 0.6111313 , 0.60775274, 0.69858277,\n",
       "       0.56366885, 0.4194431 , 0.53938454, 0.7072651 , 0.5301987 ,\n",
       "       0.57503575, 0.566423  , 0.62107444, 0.69185334, 0.664842  ,\n",
       "       0.6204965 , 0.3828877 , 0.54993767, 0.5360233 , 0.60438985,\n",
       "       0.63969904, 0.62420464, 0.7236037 , 0.6570896 , 0.43804118,\n",
       "       0.5203345 , 0.56112015, 0.41582832, 0.4671826 , 0.5096757 ,\n",
       "       0.48192173, 0.6262553 , 0.50181514, 0.60757244, 0.722371  ,\n",
       "       0.5632346 , 0.47235683, 0.5879053 , 0.5468515 , 0.40502718,\n",
       "       0.6818923 , 0.4038794 , 0.59574354, 0.44575235, 0.53692937,\n",
       "       0.50088626, 0.50553924, 0.39631364, 0.47376153, 0.681259  ,\n",
       "       0.43944225, 0.45647752, 0.3978676 , 0.59718215, 0.57245   ,\n",
       "       0.5192457 , 0.7743072 , 0.51310533, 0.4795866 , 0.7553125 ,\n",
       "       0.6669902 , 0.69055057, 0.6638508 , 0.5643354 , 0.6444787 ,\n",
       "       0.38108155, 0.5496515 , 0.47663012, 0.38668644, 0.47826812,\n",
       "       0.6267483 , 0.5585911 , 0.5138163 , 0.71192884, 0.5476395 ,\n",
       "       0.5485928 , 0.45848715, 0.6612147 , 0.6177932 , 0.44183987,\n",
       "       0.6206586 , 0.50986683, 0.63113475, 0.5851113 , 0.6747057 ,\n",
       "       0.41258126, 0.6375351 , 0.61838025, 0.5843621 , 0.55870694,\n",
       "       0.62531525, 0.4473194 , 0.71365005, 0.41925034, 0.4554061 ],\n",
       "      dtype=float32)"
      ]
     },
     "execution_count": 188,
     "metadata": {},
     "output_type": "execute_result"
    }
   ],
   "source": [
    "scores_untrained[i*100:(i+1)*100]"
   ]
  },
  {
   "cell_type": "code",
   "execution_count": 203,
   "metadata": {},
   "outputs": [
    {
     "data": {
      "text/plain": [
       "np.float32(0.27413478)"
      ]
     },
     "execution_count": 203,
     "metadata": {},
     "output_type": "execute_result"
    }
   ],
   "source": [
    "scores = np.load(\"rerank_scores1.npy\")\n",
    "sum(scores)/len(scores)"
   ]
  },
  {
   "cell_type": "code",
   "execution_count": 204,
   "metadata": {},
   "outputs": [
    {
     "data": {
      "text/plain": [
       "array([0.99917114, 0.99918073, 0.97559834, 0.95519704, 0.9474278 ,\n",
       "       0.3945363 , 0.01924548, 0.20713711, 0.21918847, 0.11962134,\n",
       "       0.03459275, 0.01235535, 0.00912165, 0.0040874 , 0.01487269,\n",
       "       0.00590749, 0.0078027 , 0.01391412, 0.00416023, 0.04294432,\n",
       "       0.02483967, 0.06147921, 0.00809177, 0.01954365, 0.00893642,\n",
       "       0.00966023, 0.01632385, 0.01648577, 0.00435818, 0.02797275,\n",
       "       0.0067858 , 0.00974549, 0.00471474, 0.02118254, 0.01287356,\n",
       "       0.07819951, 0.00520262, 0.01217465, 0.01367686, 0.00421899,\n",
       "       0.01356668, 0.01327153, 0.02465196, 0.0211599 , 0.0145658 ,\n",
       "       0.00769277, 0.00564212, 0.01483193, 0.0176369 , 0.01188583,\n",
       "       0.00799727, 0.01147483, 0.01255348, 0.01264826, 0.00869361,\n",
       "       0.00491932, 0.04152443, 0.01999024, 0.00519072, 0.01378571,\n",
       "       0.07019727, 0.01322618, 0.01510457, 0.01301515, 0.01767823,\n",
       "       0.00876439, 0.03467011, 0.00596345, 0.01101474, 0.03009434,\n",
       "       0.00328301, 0.01450033, 0.01754352, 0.0099786 , 0.01625638,\n",
       "       0.00705205, 0.00842923, 0.01165878, 0.01493548, 0.0099733 ,\n",
       "       0.01176501, 0.01112628, 0.00283909, 0.00544499, 0.01188015,\n",
       "       0.00536025, 0.01619676, 0.0161795 , 0.01467094, 0.00728528,\n",
       "       0.00773273, 0.01012702, 0.00326722, 0.01662767, 0.01100101,\n",
       "       0.01238644, 0.00632651, 0.01116994, 0.00596935, 0.01016469],\n",
       "      dtype=float32)"
      ]
     },
     "execution_count": 204,
     "metadata": {},
     "output_type": "execute_result"
    }
   ],
   "source": [
    "scores[i*100:(i+1)*100]"
   ]
  },
  {
   "cell_type": "code",
   "execution_count": 98,
   "metadata": {},
   "outputs": [],
   "source": [
    "top_100_labels_test = load_from_disk(\"100_queries_test\")"
   ]
  },
  {
   "cell_type": "code",
   "execution_count": 193,
   "metadata": {},
   "outputs": [
    {
     "data": {
      "text/plain": [
       "[0.6657772064208984,\n",
       " 0.6596640348434448,\n",
       " 0.6161401867866516,\n",
       " 0.5614233613014221,\n",
       " 0.5561187267303467,\n",
       " 0.5234333276748657,\n",
       " 0.4743083119392395,\n",
       " 0.4613339304924011,\n",
       " 0.44142428040504456,\n",
       " 0.42622968554496765,\n",
       " 0.4256380796432495,\n",
       " 0.42471858859062195,\n",
       " 0.4222329258918762,\n",
       " 0.42174673080444336,\n",
       " 0.42114537954330444,\n",
       " 0.41901087760925293,\n",
       " 0.4176459014415741,\n",
       " 0.4164397418498993,\n",
       " 0.41594362258911133,\n",
       " 0.41571223735809326,\n",
       " 0.4152989685535431,\n",
       " 0.41510096192359924,\n",
       " 0.4140491783618927,\n",
       " 0.40863609313964844,\n",
       " 0.40796470642089844,\n",
       " 0.40362441539764404,\n",
       " 0.403178334236145,\n",
       " 0.40253952145576477,\n",
       " 0.4021608233451843,\n",
       " 0.400732159614563,\n",
       " 0.3998356759548187,\n",
       " 0.39962413907051086,\n",
       " 0.39885425567626953,\n",
       " 0.39884984493255615,\n",
       " 0.39839795231819153,\n",
       " 0.3983040153980255,\n",
       " 0.39734676480293274,\n",
       " 0.3958383798599243,\n",
       " 0.39495226740837097,\n",
       " 0.3947586715221405,\n",
       " 0.3936891257762909,\n",
       " 0.3934546113014221,\n",
       " 0.39339691400527954,\n",
       " 0.39313822984695435,\n",
       " 0.39281314611434937,\n",
       " 0.3919062614440918,\n",
       " 0.3914923667907715,\n",
       " 0.391475111246109,\n",
       " 0.39145731925964355,\n",
       " 0.3912598192691803,\n",
       " 0.3909689486026764,\n",
       " 0.39004310965538025,\n",
       " 0.3898114860057831,\n",
       " 0.38974159955978394,\n",
       " 0.38967469334602356,\n",
       " 0.38945722579956055,\n",
       " 0.3885394334793091,\n",
       " 0.388433039188385,\n",
       " 0.3875060975551605,\n",
       " 0.38747647404670715,\n",
       " 0.387006551027298,\n",
       " 0.38632288575172424,\n",
       " 0.3862151801586151,\n",
       " 0.3854256272315979,\n",
       " 0.38530173897743225,\n",
       " 0.38445404171943665,\n",
       " 0.3843894600868225,\n",
       " 0.3834109902381897,\n",
       " 0.38321784138679504,\n",
       " 0.3830599784851074,\n",
       " 0.3829769492149353,\n",
       " 0.3810166120529175,\n",
       " 0.38088107109069824,\n",
       " 0.38072219491004944,\n",
       " 0.3806816339492798,\n",
       " 0.38005635142326355,\n",
       " 0.3799157738685608,\n",
       " 0.3795354962348938,\n",
       " 0.3790305554866791,\n",
       " 0.378964364528656,\n",
       " 0.37892526388168335,\n",
       " 0.37787914276123047,\n",
       " 0.3766119182109833,\n",
       " 0.3765377104282379,\n",
       " 0.37616896629333496,\n",
       " 0.3758154511451721,\n",
       " 0.37503892183303833,\n",
       " 0.3748805522918701,\n",
       " 0.37472784519195557,\n",
       " 0.37467890977859497,\n",
       " 0.3746320903301239,\n",
       " 0.37398022413253784,\n",
       " 0.37331366539001465,\n",
       " 0.3732775151729584,\n",
       " 0.3732762932777405,\n",
       " 0.3728371560573578,\n",
       " 0.3728162944316864,\n",
       " 0.37278690934181213,\n",
       " 0.3726508915424347,\n",
       " 0.37248891592025757]"
      ]
     },
     "execution_count": 193,
     "metadata": {},
     "output_type": "execute_result"
    }
   ],
   "source": [
    "top_100_labels_test[\"score\"][i*100:(i+1)*100]"
   ]
  },
  {
   "cell_type": "code",
   "execution_count": 194,
   "metadata": {},
   "outputs": [
    {
     "data": {
      "text/plain": [
       "[0,\n",
       " 1,\n",
       " 0,\n",
       " 0,\n",
       " 0,\n",
       " 0,\n",
       " 0,\n",
       " 0,\n",
       " 0,\n",
       " 0,\n",
       " 0,\n",
       " 0,\n",
       " 0,\n",
       " 0,\n",
       " 0,\n",
       " 0,\n",
       " 0,\n",
       " 0,\n",
       " 0,\n",
       " 0,\n",
       " 0,\n",
       " 0,\n",
       " 0,\n",
       " 0,\n",
       " 0,\n",
       " 0,\n",
       " 0,\n",
       " 0,\n",
       " 0,\n",
       " 0,\n",
       " 0,\n",
       " 0,\n",
       " 0,\n",
       " 0,\n",
       " 0,\n",
       " 0,\n",
       " 0,\n",
       " 0,\n",
       " 0,\n",
       " 0,\n",
       " 0,\n",
       " 0,\n",
       " 0,\n",
       " 0,\n",
       " 0,\n",
       " 0,\n",
       " 0,\n",
       " 0,\n",
       " 0,\n",
       " 0,\n",
       " 0,\n",
       " 0,\n",
       " 0,\n",
       " 0,\n",
       " 0,\n",
       " 0,\n",
       " 0,\n",
       " 0,\n",
       " 0,\n",
       " 0,\n",
       " 0,\n",
       " 0,\n",
       " 0,\n",
       " 0,\n",
       " 0,\n",
       " 0,\n",
       " 0,\n",
       " 0,\n",
       " 0,\n",
       " 0,\n",
       " 0,\n",
       " 0,\n",
       " 0,\n",
       " 0,\n",
       " 0,\n",
       " 0,\n",
       " 0,\n",
       " 0,\n",
       " 0,\n",
       " 0,\n",
       " 0,\n",
       " 0,\n",
       " 0,\n",
       " 0,\n",
       " 0,\n",
       " 0,\n",
       " 0,\n",
       " 0,\n",
       " 0,\n",
       " 0,\n",
       " 0,\n",
       " 0,\n",
       " 0,\n",
       " 0,\n",
       " 0,\n",
       " 0,\n",
       " 0,\n",
       " 0,\n",
       " 0,\n",
       " 0]"
      ]
     },
     "execution_count": 194,
     "metadata": {},
     "output_type": "execute_result"
    }
   ],
   "source": [
    "top_100_labels_test[\"label\"][i*100:(i+1)*100]"
   ]
  },
  {
   "cell_type": "code",
   "execution_count": 148,
   "metadata": {},
   "outputs": [
    {
     "data": {
      "text/plain": [
       "0.5008467655986547"
      ]
     },
     "execution_count": 148,
     "metadata": {},
     "output_type": "execute_result"
    }
   ],
   "source": [
    "retrieval_scores = top_100_labels_test[\"score\"]\n",
    "sum(retrieval_scores)/len(retrieval_scores)"
   ]
  },
  {
   "cell_type": "code",
   "execution_count": 205,
   "metadata": {},
   "outputs": [
    {
     "data": {
      "text/plain": [
       "Dataset({\n",
       "    features: ['data', 'label'],\n",
       "    num_rows: 1531308\n",
       "})"
      ]
     },
     "execution_count": 205,
     "metadata": {},
     "output_type": "execute_result"
    }
   ],
   "source": [
    "test_ds = load_from_disk(\"full_TRAIN12\")\n",
    "test_ds"
   ]
  },
  {
   "cell_type": "code",
   "execution_count": 210,
   "metadata": {},
   "outputs": [
    {
     "data": {
      "text/plain": [
       "Dataset({\n",
       "    features: ['data', 'label'],\n",
       "    num_rows: 510430\n",
       "})"
      ]
     },
     "execution_count": 210,
     "metadata": {},
     "output_type": "execute_result"
    }
   ],
   "source": [
    "test_ds = load_from_disk(\"new_training/medium_TRAIN14\")\n",
    "test_ds"
   ]
  },
  {
   "cell_type": "code",
   "execution_count": 21,
   "metadata": {},
   "outputs": [
    {
     "data": {
      "text/plain": [
       "array([0., 0., 0.])"
      ]
     },
     "execution_count": 21,
     "metadata": {},
     "output_type": "execute_result"
    }
   ],
   "source": [
    "import numpy as np\n",
    "t = np.zeros(3)\n",
    "t"
   ]
  },
  {
   "cell_type": "code",
   "execution_count": 22,
   "metadata": {},
   "outputs": [
    {
     "data": {
      "text/plain": [
       "array([1, 2, 3])"
      ]
     },
     "execution_count": 22,
     "metadata": {},
     "output_type": "execute_result"
    }
   ],
   "source": [
    "t2 = np.array([1,2,3])\n",
    "t2"
   ]
  },
  {
   "cell_type": "code",
   "execution_count": 25,
   "metadata": {},
   "outputs": [
    {
     "data": {
      "text/plain": [
       "array([2., 4., 6.])"
      ]
     },
     "execution_count": 25,
     "metadata": {},
     "output_type": "execute_result"
    }
   ],
   "source": [
    "t += t2\n",
    "t"
   ]
  },
  {
   "cell_type": "code",
   "execution_count": 28,
   "metadata": {},
   "outputs": [
    {
     "data": {
      "text/plain": [
       "array([0.25, 0.5 , 0.75])"
      ]
     },
     "execution_count": 28,
     "metadata": {},
     "output_type": "execute_result"
    }
   ],
   "source": [
    "t = t/2\n",
    "t"
   ]
  },
  {
   "cell_type": "code",
   "execution_count": 5,
   "metadata": {},
   "outputs": [
    {
     "data": {
      "text/plain": [
       "array([0.04251723, 0.02754437, 0.0274374 ])"
      ]
     },
     "execution_count": 5,
     "metadata": {},
     "output_type": "execute_result"
    }
   ],
   "source": [
    "import numpy as np\n",
    "prestring = \"msmarco\"\n",
    "a = np.load(\"rand_mean_scores_\"+prestring+\".npy\")\n",
    "a"
   ]
  },
  {
   "cell_type": "code",
   "execution_count": 1,
   "metadata": {},
   "outputs": [
    {
     "data": {
      "application/vnd.jupyter.widget-view+json": {
       "model_id": "fcc885b61dd04316bae7b4bc506ee4cf",
       "version_major": 2,
       "version_minor": 0
      },
      "text/plain": [
       "Saving the dataset (0/2 shards):   0%|          | 0/1531308 [00:00<?, ? examples/s]"
      ]
     },
     "metadata": {},
     "output_type": "display_data"
    }
   ],
   "source": [
    "from datasets import concatenate_datasets\n",
    "from datasets import load_from_disk\n",
    "a = load_from_disk(\"theca_TRAIN12_random\")\n",
    "b = load_from_disk(\"amazon_TRAIN12_random\")\n",
    "c = load_from_disk(\"msmarco_TRAIN12_random\")\n",
    "\n",
    "full = concatenate_datasets([a,b,c])\n",
    "full.save_to_disk(\"full_TRAIN12_random\")\n"
   ]
  },
  {
   "cell_type": "code",
   "execution_count": 2,
   "metadata": {},
   "outputs": [
    {
     "data": {
      "text/plain": [
       "Dataset({\n",
       "    features: ['data', 'label'],\n",
       "    num_rows: 1531308\n",
       "})"
      ]
     },
     "execution_count": 2,
     "metadata": {},
     "output_type": "execute_result"
    }
   ],
   "source": [
    "full"
   ]
  }
 ],
 "metadata": {
  "kernelspec": {
   "display_name": "ebbaelise",
   "language": "python",
   "name": "python3"
  },
  "language_info": {
   "codemirror_mode": {
    "name": "ipython",
    "version": 3
   },
   "file_extension": ".py",
   "mimetype": "text/x-python",
   "name": "python",
   "nbconvert_exporter": "python",
   "pygments_lexer": "ipython3",
   "version": "3.12.3"
  }
 },
 "nbformat": 4,
 "nbformat_minor": 2
}
